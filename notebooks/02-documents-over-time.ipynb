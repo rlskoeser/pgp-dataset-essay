{
 "cells": [
  {
   "attachments": {},
   "cell_type": "markdown",
   "metadata": {
    "id": "rMScnaCrDtYK"
   },
   "source": [
    "## Number of documents over time"
   ]
  },
  {
   "cell_type": "code",
   "execution_count": 1,
   "metadata": {},
   "outputs": [],
   "source": [
    "import pandas as pd\n",
    "import altair as alt\n",
    "\n",
    "from utils import pgp_csv_paths, chart_dir\n",
    "\n",
    "documents = pd.read_csv(pgp_csv_paths[\"documents\"])"
   ]
  },
  {
   "cell_type": "code",
   "execution_count": 2,
   "metadata": {
    "colab": {
     "base_uri": "https://localhost:8080/",
     "height": 400
    },
    "id": "bNdbCqrnDwCc",
    "outputId": "f06cbf0f-a108-4059-98d7-708fbec19d42"
   },
   "outputs": [
    {
     "name": "stderr",
     "output_type": "stream",
     "text": [
      "/var/folders/mb/6qm4h4yx3yqdy2bv2sjyp4z00000gp/T/ipykernel_23739/527621908.py:6: UserWarning: Converting to PeriodArray/Index representation will drop timezone information.\n",
      "  newdocs_per_year = documents['pgpid'].groupby(documents['initial_entry'].dt.to_period('Y')).count().reset_index().rename(columns={'pgpid': 'total'})\n"
     ]
    },
    {
     "data": {
      "text/html": [
       "<div>\n",
       "<style scoped>\n",
       "    .dataframe tbody tr th:only-of-type {\n",
       "        vertical-align: middle;\n",
       "    }\n",
       "\n",
       "    .dataframe tbody tr th {\n",
       "        vertical-align: top;\n",
       "    }\n",
       "\n",
       "    .dataframe thead th {\n",
       "        text-align: right;\n",
       "    }\n",
       "</style>\n",
       "<table border=\"1\" class=\"dataframe\">\n",
       "  <thead>\n",
       "    <tr style=\"text-align: right;\">\n",
       "      <th></th>\n",
       "      <th>initial_entry</th>\n",
       "      <th>total</th>\n",
       "    </tr>\n",
       "  </thead>\n",
       "  <tbody>\n",
       "    <tr>\n",
       "      <th>0</th>\n",
       "      <td>1986-01-01</td>\n",
       "      <td>138</td>\n",
       "    </tr>\n",
       "    <tr>\n",
       "      <th>1</th>\n",
       "      <td>1987-01-01</td>\n",
       "      <td>337</td>\n",
       "    </tr>\n",
       "    <tr>\n",
       "      <th>2</th>\n",
       "      <td>1988-01-01</td>\n",
       "      <td>362</td>\n",
       "    </tr>\n",
       "    <tr>\n",
       "      <th>3</th>\n",
       "      <td>1989-01-01</td>\n",
       "      <td>235</td>\n",
       "    </tr>\n",
       "    <tr>\n",
       "      <th>4</th>\n",
       "      <td>1990-01-01</td>\n",
       "      <td>559</td>\n",
       "    </tr>\n",
       "    <tr>\n",
       "      <th>5</th>\n",
       "      <td>1991-01-01</td>\n",
       "      <td>26</td>\n",
       "    </tr>\n",
       "    <tr>\n",
       "      <th>6</th>\n",
       "      <td>2002-01-01</td>\n",
       "      <td>1</td>\n",
       "    </tr>\n",
       "    <tr>\n",
       "      <th>7</th>\n",
       "      <td>2004-01-01</td>\n",
       "      <td>1263</td>\n",
       "    </tr>\n",
       "    <tr>\n",
       "      <th>8</th>\n",
       "      <td>2010-01-01</td>\n",
       "      <td>8</td>\n",
       "    </tr>\n",
       "    <tr>\n",
       "      <th>9</th>\n",
       "      <td>2014-01-01</td>\n",
       "      <td>1</td>\n",
       "    </tr>\n",
       "  </tbody>\n",
       "</table>\n",
       "</div>"
      ],
      "text/plain": [
       "  initial_entry  total\n",
       "0    1986-01-01    138\n",
       "1    1987-01-01    337\n",
       "2    1988-01-01    362\n",
       "3    1989-01-01    235\n",
       "4    1990-01-01    559\n",
       "5    1991-01-01     26\n",
       "6    2002-01-01      1\n",
       "7    2004-01-01   1263\n",
       "8    2010-01-01      8\n",
       "9    2014-01-01      1"
      ]
     },
     "execution_count": 2,
     "metadata": {},
     "output_type": "execute_result"
    }
   ],
   "source": [
    "# parse initial entry as date time\n",
    "documents['initial_entry'] = pd.to_datetime(documents['initial_entry'], format='mixed')\n",
    "\n",
    "\n",
    "#documents['pgpid'].groupby(documents['initial_entry'].dt.to_period('Y')).sum().plot(kind='bar')\n",
    "newdocs_per_year = documents['pgpid'].groupby(documents['initial_entry'].dt.to_period('Y')).count().reset_index().rename(columns={'pgpid': 'total'})\n",
    "# convert time period to timestamp\n",
    "newdocs_per_year[\"initial_entry\"] = newdocs_per_year[\"initial_entry\"].dt.to_timestamp()\n",
    "newdocs_per_year.head(10)"
   ]
  },
  {
   "cell_type": "code",
   "execution_count": 3,
   "metadata": {
    "colab": {
     "base_uri": "https://localhost:8080/",
     "height": 206
    },
    "id": "npbFuAWDD5Ih",
    "outputId": "3dd7193c-b6bc-4319-c8f1-71b681b79925"
   },
   "outputs": [
    {
     "data": {
      "text/html": [
       "<div>\n",
       "<style scoped>\n",
       "    .dataframe tbody tr th:only-of-type {\n",
       "        vertical-align: middle;\n",
       "    }\n",
       "\n",
       "    .dataframe tbody tr th {\n",
       "        vertical-align: top;\n",
       "    }\n",
       "\n",
       "    .dataframe thead th {\n",
       "        text-align: right;\n",
       "    }\n",
       "</style>\n",
       "<table border=\"1\" class=\"dataframe\">\n",
       "  <thead>\n",
       "    <tr style=\"text-align: right;\">\n",
       "      <th></th>\n",
       "      <th>initial_entry</th>\n",
       "      <th>total</th>\n",
       "      <th>cumulative_total</th>\n",
       "    </tr>\n",
       "  </thead>\n",
       "  <tbody>\n",
       "    <tr>\n",
       "      <th>0</th>\n",
       "      <td>1986-01-01</td>\n",
       "      <td>138</td>\n",
       "      <td>138</td>\n",
       "    </tr>\n",
       "    <tr>\n",
       "      <th>1</th>\n",
       "      <td>1987-01-01</td>\n",
       "      <td>337</td>\n",
       "      <td>475</td>\n",
       "    </tr>\n",
       "    <tr>\n",
       "      <th>2</th>\n",
       "      <td>1988-01-01</td>\n",
       "      <td>362</td>\n",
       "      <td>837</td>\n",
       "    </tr>\n",
       "    <tr>\n",
       "      <th>3</th>\n",
       "      <td>1989-01-01</td>\n",
       "      <td>235</td>\n",
       "      <td>1072</td>\n",
       "    </tr>\n",
       "    <tr>\n",
       "      <th>4</th>\n",
       "      <td>1990-01-01</td>\n",
       "      <td>559</td>\n",
       "      <td>1631</td>\n",
       "    </tr>\n",
       "  </tbody>\n",
       "</table>\n",
       "</div>"
      ],
      "text/plain": [
       "  initial_entry  total  cumulative_total\n",
       "0    1986-01-01    138               138\n",
       "1    1987-01-01    337               475\n",
       "2    1988-01-01    362               837\n",
       "3    1989-01-01    235              1072\n",
       "4    1990-01-01    559              1631"
      ]
     },
     "execution_count": 3,
     "metadata": {},
     "output_type": "execute_result"
    }
   ],
   "source": [
    "# calculate cumulative total\n",
    "newdocs_per_year['cumulative_total'] = newdocs_per_year['total'].cumsum()\n",
    "newdocs_per_year.head()"
   ]
  },
  {
   "cell_type": "code",
   "execution_count": 4,
   "metadata": {
    "colab": {
     "base_uri": "https://localhost:8080/",
     "height": 206
    },
    "id": "PnVai0zIEBPx",
    "outputId": "bb32f581-e80e-4041-b308-da1786ccca36"
   },
   "outputs": [
    {
     "data": {
      "text/html": [
       "<div>\n",
       "<style scoped>\n",
       "    .dataframe tbody tr th:only-of-type {\n",
       "        vertical-align: middle;\n",
       "    }\n",
       "\n",
       "    .dataframe tbody tr th {\n",
       "        vertical-align: top;\n",
       "    }\n",
       "\n",
       "    .dataframe thead th {\n",
       "        text-align: right;\n",
       "    }\n",
       "</style>\n",
       "<table border=\"1\" class=\"dataframe\">\n",
       "  <thead>\n",
       "    <tr style=\"text-align: right;\">\n",
       "      <th></th>\n",
       "      <th>date</th>\n",
       "      <th>status</th>\n",
       "      <th>Documents</th>\n",
       "    </tr>\n",
       "  </thead>\n",
       "  <tbody>\n",
       "    <tr>\n",
       "      <th>0</th>\n",
       "      <td>1986-01-01</td>\n",
       "      <td>New documents</td>\n",
       "      <td>138</td>\n",
       "    </tr>\n",
       "    <tr>\n",
       "      <th>1</th>\n",
       "      <td>1987-01-01</td>\n",
       "      <td>New documents</td>\n",
       "      <td>337</td>\n",
       "    </tr>\n",
       "    <tr>\n",
       "      <th>2</th>\n",
       "      <td>1988-01-01</td>\n",
       "      <td>New documents</td>\n",
       "      <td>362</td>\n",
       "    </tr>\n",
       "    <tr>\n",
       "      <th>3</th>\n",
       "      <td>1989-01-01</td>\n",
       "      <td>New documents</td>\n",
       "      <td>235</td>\n",
       "    </tr>\n",
       "    <tr>\n",
       "      <th>4</th>\n",
       "      <td>1990-01-01</td>\n",
       "      <td>New documents</td>\n",
       "      <td>559</td>\n",
       "    </tr>\n",
       "  </tbody>\n",
       "</table>\n",
       "</div>"
      ],
      "text/plain": [
       "        date         status  Documents\n",
       "0 1986-01-01  New documents        138\n",
       "1 1987-01-01  New documents        337\n",
       "2 1988-01-01  New documents        362\n",
       "3 1989-01-01  New documents        235\n",
       "4 1990-01-01  New documents        559"
      ]
     },
     "execution_count": 4,
     "metadata": {},
     "output_type": "execute_result"
    }
   ],
   "source": [
    "# use melt to revise so we can plot both together\n",
    "newdocs_per_year_melted = pd.melt(newdocs_per_year.rename(columns={'initial_entry': 'date', 'total': 'New documents', 'cumulative_total': 'Cumulative total'}), id_vars=['date'], value_vars=['New documents', 'Cumulative total'])\n",
    "newdocs_per_year_melted = newdocs_per_year_melted.rename(columns={\"variable\": \"status\", \"value\": \"Documents\"})\n",
    "newdocs_per_year_melted.head()"
   ]
  },
  {
   "cell_type": "code",
   "execution_count": 5,
   "metadata": {
    "colab": {
     "base_uri": "https://localhost:8080/",
     "height": 319
    },
    "id": "Rn3nrGEkD9h3",
    "outputId": "dc8b71ca-cf4d-47d7-cced-cb31ff416631"
   },
   "outputs": [
    {
     "data": {
      "text/html": [
       "\n",
       "<style>\n",
       "  #altair-viz-a44b85160ebe42e997d2f72c95bddc14.vega-embed {\n",
       "    width: 100%;\n",
       "    display: flex;\n",
       "  }\n",
       "\n",
       "  #altair-viz-a44b85160ebe42e997d2f72c95bddc14.vega-embed details,\n",
       "  #altair-viz-a44b85160ebe42e997d2f72c95bddc14.vega-embed details summary {\n",
       "    position: relative;\n",
       "  }\n",
       "</style>\n",
       "<div id=\"altair-viz-a44b85160ebe42e997d2f72c95bddc14\"></div>\n",
       "<script type=\"text/javascript\">\n",
       "  var VEGA_DEBUG = (typeof VEGA_DEBUG == \"undefined\") ? {} : VEGA_DEBUG;\n",
       "  (function(spec, embedOpt){\n",
       "    let outputDiv = document.currentScript.previousElementSibling;\n",
       "    if (outputDiv.id !== \"altair-viz-a44b85160ebe42e997d2f72c95bddc14\") {\n",
       "      outputDiv = document.getElementById(\"altair-viz-a44b85160ebe42e997d2f72c95bddc14\");\n",
       "    }\n",
       "\n",
       "    const paths = {\n",
       "      \"vega\": \"https://cdn.jsdelivr.net/npm/vega@5?noext\",\n",
       "      \"vega-lib\": \"https://cdn.jsdelivr.net/npm/vega-lib?noext\",\n",
       "      \"vega-lite\": \"https://cdn.jsdelivr.net/npm/vega-lite@5.20.1?noext\",\n",
       "      \"vega-embed\": \"https://cdn.jsdelivr.net/npm/vega-embed@6?noext\",\n",
       "    };\n",
       "\n",
       "    function maybeLoadScript(lib, version) {\n",
       "      var key = `${lib.replace(\"-\", \"\")}_version`;\n",
       "      return (VEGA_DEBUG[key] == version) ?\n",
       "        Promise.resolve(paths[lib]) :\n",
       "        new Promise(function(resolve, reject) {\n",
       "          var s = document.createElement('script');\n",
       "          document.getElementsByTagName(\"head\")[0].appendChild(s);\n",
       "          s.async = true;\n",
       "          s.onload = () => {\n",
       "            VEGA_DEBUG[key] = version;\n",
       "            return resolve(paths[lib]);\n",
       "          };\n",
       "          s.onerror = () => reject(`Error loading script: ${paths[lib]}`);\n",
       "          s.src = paths[lib];\n",
       "        });\n",
       "    }\n",
       "\n",
       "    function showError(err) {\n",
       "      outputDiv.innerHTML = `<div class=\"error\" style=\"color:red;\">${err}</div>`;\n",
       "      throw err;\n",
       "    }\n",
       "\n",
       "    function displayChart(vegaEmbed) {\n",
       "      vegaEmbed(outputDiv, spec, embedOpt)\n",
       "        .catch(err => showError(`Javascript Error: ${err.message}<br>This usually means there's a typo in your chart specification. See the javascript console for the full traceback.`));\n",
       "    }\n",
       "\n",
       "    if(typeof define === \"function\" && define.amd) {\n",
       "      requirejs.config({paths});\n",
       "      let deps = [\"vega-embed\"];\n",
       "      require(deps, displayChart, err => showError(`Error loading script: ${err.message}`));\n",
       "    } else {\n",
       "      maybeLoadScript(\"vega\", \"5\")\n",
       "        .then(() => maybeLoadScript(\"vega-lite\", \"5.20.1\"))\n",
       "        .then(() => maybeLoadScript(\"vega-embed\", \"6\"))\n",
       "        .catch(showError)\n",
       "        .then(() => displayChart(vegaEmbed));\n",
       "    }\n",
       "  })({\"config\": {\"view\": {\"continuousWidth\": 300, \"continuousHeight\": 300}, \"legend\": {\"cornerRadius\": 5, \"fillColor\": \"white\", \"orient\": \"top-left\", \"padding\": 15, \"strokeColor\": \"gray\"}}, \"data\": {\"name\": \"data-387125cde22c334d468ccf6742a5f20d\"}, \"mark\": {\"type\": \"area\"}, \"encoding\": {\"color\": {\"field\": \"status\", \"scale\": {\"scheme\": \"tableau20\"}, \"title\": \"\", \"type\": \"nominal\"}, \"x\": {\"field\": \"date\", \"title\": \"Year\", \"type\": \"temporal\"}, \"y\": {\"field\": \"Documents\", \"type\": \"quantitative\"}}, \"height\": 250, \"width\": 800, \"$schema\": \"https://vega.github.io/schema/vega-lite/v5.20.1.json\", \"datasets\": {\"data-387125cde22c334d468ccf6742a5f20d\": [{\"date\": \"1986-01-01T00:00:00\", \"status\": \"New documents\", \"Documents\": 138}, {\"date\": \"1987-01-01T00:00:00\", \"status\": \"New documents\", \"Documents\": 337}, {\"date\": \"1988-01-01T00:00:00\", \"status\": \"New documents\", \"Documents\": 362}, {\"date\": \"1989-01-01T00:00:00\", \"status\": \"New documents\", \"Documents\": 235}, {\"date\": \"1990-01-01T00:00:00\", \"status\": \"New documents\", \"Documents\": 559}, {\"date\": \"1991-01-01T00:00:00\", \"status\": \"New documents\", \"Documents\": 26}, {\"date\": \"2002-01-01T00:00:00\", \"status\": \"New documents\", \"Documents\": 1}, {\"date\": \"2004-01-01T00:00:00\", \"status\": \"New documents\", \"Documents\": 1263}, {\"date\": \"2010-01-01T00:00:00\", \"status\": \"New documents\", \"Documents\": 8}, {\"date\": \"2014-01-01T00:00:00\", \"status\": \"New documents\", \"Documents\": 1}, {\"date\": \"2015-01-01T00:00:00\", \"status\": \"New documents\", \"Documents\": 2}, {\"date\": \"2016-01-01T00:00:00\", \"status\": \"New documents\", \"Documents\": 83}, {\"date\": \"2017-01-01T00:00:00\", \"status\": \"New documents\", \"Documents\": 9951}, {\"date\": \"2018-01-01T00:00:00\", \"status\": \"New documents\", \"Documents\": 3199}, {\"date\": \"2019-01-01T00:00:00\", \"status\": \"New documents\", \"Documents\": 5903}, {\"date\": \"2020-01-01T00:00:00\", \"status\": \"New documents\", \"Documents\": 4368}, {\"date\": \"2021-01-01T00:00:00\", \"status\": \"New documents\", \"Documents\": 3325}, {\"date\": \"2022-01-01T00:00:00\", \"status\": \"New documents\", \"Documents\": 1843}, {\"date\": \"2023-01-01T00:00:00\", \"status\": \"New documents\", \"Documents\": 2015}, {\"date\": \"2024-01-01T00:00:00\", \"status\": \"New documents\", \"Documents\": 1030}, {\"date\": \"2025-01-01T00:00:00\", \"status\": \"New documents\", \"Documents\": 545}, {\"date\": \"1986-01-01T00:00:00\", \"status\": \"Cumulative total\", \"Documents\": 138}, {\"date\": \"1987-01-01T00:00:00\", \"status\": \"Cumulative total\", \"Documents\": 475}, {\"date\": \"1988-01-01T00:00:00\", \"status\": \"Cumulative total\", \"Documents\": 837}, {\"date\": \"1989-01-01T00:00:00\", \"status\": \"Cumulative total\", \"Documents\": 1072}, {\"date\": \"1990-01-01T00:00:00\", \"status\": \"Cumulative total\", \"Documents\": 1631}, {\"date\": \"1991-01-01T00:00:00\", \"status\": \"Cumulative total\", \"Documents\": 1657}, {\"date\": \"2002-01-01T00:00:00\", \"status\": \"Cumulative total\", \"Documents\": 1658}, {\"date\": \"2004-01-01T00:00:00\", \"status\": \"Cumulative total\", \"Documents\": 2921}, {\"date\": \"2010-01-01T00:00:00\", \"status\": \"Cumulative total\", \"Documents\": 2929}, {\"date\": \"2014-01-01T00:00:00\", \"status\": \"Cumulative total\", \"Documents\": 2930}, {\"date\": \"2015-01-01T00:00:00\", \"status\": \"Cumulative total\", \"Documents\": 2932}, {\"date\": \"2016-01-01T00:00:00\", \"status\": \"Cumulative total\", \"Documents\": 3015}, {\"date\": \"2017-01-01T00:00:00\", \"status\": \"Cumulative total\", \"Documents\": 12966}, {\"date\": \"2018-01-01T00:00:00\", \"status\": \"Cumulative total\", \"Documents\": 16165}, {\"date\": \"2019-01-01T00:00:00\", \"status\": \"Cumulative total\", \"Documents\": 22068}, {\"date\": \"2020-01-01T00:00:00\", \"status\": \"Cumulative total\", \"Documents\": 26436}, {\"date\": \"2021-01-01T00:00:00\", \"status\": \"Cumulative total\", \"Documents\": 29761}, {\"date\": \"2022-01-01T00:00:00\", \"status\": \"Cumulative total\", \"Documents\": 31604}, {\"date\": \"2023-01-01T00:00:00\", \"status\": \"Cumulative total\", \"Documents\": 33619}, {\"date\": \"2024-01-01T00:00:00\", \"status\": \"Cumulative total\", \"Documents\": 34649}, {\"date\": \"2025-01-01T00:00:00\", \"status\": \"Cumulative total\", \"Documents\": 35194}]}}, {\"mode\": \"vega-lite\"});\n",
       "</script>"
      ],
      "text/plain": [
       "alt.Chart(...)"
      ]
     },
     "execution_count": 5,
     "metadata": {},
     "output_type": "execute_result"
    }
   ],
   "source": [
    "# TODO rename total/cumulative total so they make sense here\n",
    "docs_overtime_chart = alt.Chart(newdocs_per_year_melted).mark_area().encode(\n",
    "    y=alt.Y('Documents'),\n",
    "    x=alt.Y('date', title=\"Year\"),\n",
    "    color=alt.Color(\"status\", title=\"\").scale(scheme=\"tableau20\"),\n",
    ").properties(\n",
    "#    title=\"Documents in PGP per year with cumulative total\",\n",
    "    width=800,\n",
    "    height=250\n",
    "\n",
    ").configure_legend(\n",
    "    strokeColor='gray',\n",
    "    fillColor='white', #EEEEEE',\n",
    "    padding=15,\n",
    "    cornerRadius=5,\n",
    "    orient='top-left'\n",
    ")\n",
    "docs_overtime_chart.save(f'{chart_dir}/docs_over_time.pdf')\n",
    "\n",
    "docs_overtime_chart"
   ]
  }
 ],
 "metadata": {
  "colab": {
   "provenance": []
  },
  "kernelspec": {
   "display_name": "Python 3 (ipykernel)",
   "language": "python",
   "name": "python3"
  },
  "language_info": {
   "codemirror_mode": {
    "name": "ipython",
    "version": 3
   },
   "file_extension": ".py",
   "mimetype": "text/x-python",
   "name": "python",
   "nbconvert_exporter": "python",
   "pygments_lexer": "ipython3",
   "version": "3.12.7"
  }
 },
 "nbformat": 4,
 "nbformat_minor": 4
}
