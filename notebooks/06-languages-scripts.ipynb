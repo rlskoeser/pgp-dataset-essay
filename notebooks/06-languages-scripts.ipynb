{
 "cells": [
  {
   "attachments": {},
   "cell_type": "markdown",
   "metadata": {
    "id": "QYBuk1R3ynHS"
   },
   "source": [
    "## Languages and Scripts\n",
    "\n"
   ]
  },
  {
   "attachments": {},
   "cell_type": "markdown",
   "metadata": {
    "id": "Fo1jHiMwAJPh"
   },
   "source": [
    "### What languages are most common?"
   ]
  },
  {
   "cell_type": "code",
   "execution_count": 14,
   "metadata": {},
   "outputs": [],
   "source": [
    "import pandas as pd\n",
    "import altair as alt\n",
    "\n",
    "from utils import pgp_csv_paths, chart_dir\n",
    "\n",
    "documents = pd.read_csv(pgp_csv_paths[\"documents\"])"
   ]
  },
  {
   "cell_type": "code",
   "execution_count": 15,
   "metadata": {
    "colab": {
     "base_uri": "https://localhost:8080/",
     "height": 206
    },
    "id": "IYKduxSt5Qc8",
    "outputId": "f9a508ae-eeac-433a-ffae-808fd68535ee"
   },
   "outputs": [
    {
     "data": {
      "text/html": [
       "<div>\n",
       "<style scoped>\n",
       "    .dataframe tbody tr th:only-of-type {\n",
       "        vertical-align: middle;\n",
       "    }\n",
       "\n",
       "    .dataframe tbody tr th {\n",
       "        vertical-align: top;\n",
       "    }\n",
       "\n",
       "    .dataframe thead th {\n",
       "        text-align: right;\n",
       "    }\n",
       "</style>\n",
       "<table border=\"1\" class=\"dataframe\">\n",
       "  <thead>\n",
       "    <tr style=\"text-align: right;\">\n",
       "      <th></th>\n",
       "      <th>pgpid</th>\n",
       "      <th>languages_primary</th>\n",
       "      <th>languages_secondary</th>\n",
       "      <th>languages_all</th>\n",
       "    </tr>\n",
       "  </thead>\n",
       "  <tbody>\n",
       "    <tr>\n",
       "      <th>0</th>\n",
       "      <td>444</td>\n",
       "      <td>Judaeo-Arabic</td>\n",
       "      <td>NaN</td>\n",
       "      <td>Judaeo-Arabic</td>\n",
       "    </tr>\n",
       "    <tr>\n",
       "      <th>1</th>\n",
       "      <td>445</td>\n",
       "      <td>Hebrew</td>\n",
       "      <td>NaN</td>\n",
       "      <td>Hebrew</td>\n",
       "    </tr>\n",
       "    <tr>\n",
       "      <th>2</th>\n",
       "      <td>446</td>\n",
       "      <td>Aramaic, Hebrew</td>\n",
       "      <td>NaN</td>\n",
       "      <td>Aramaic, Hebrew</td>\n",
       "    </tr>\n",
       "    <tr>\n",
       "      <th>3</th>\n",
       "      <td>447</td>\n",
       "      <td>Judaeo-Arabic</td>\n",
       "      <td>NaN</td>\n",
       "      <td>Judaeo-Arabic</td>\n",
       "    </tr>\n",
       "    <tr>\n",
       "      <th>4</th>\n",
       "      <td>448</td>\n",
       "      <td>Judaeo-Arabic</td>\n",
       "      <td>NaN</td>\n",
       "      <td>Judaeo-Arabic</td>\n",
       "    </tr>\n",
       "  </tbody>\n",
       "</table>\n",
       "</div>"
      ],
      "text/plain": [
       "   pgpid languages_primary languages_secondary    languages_all\n",
       "0    444     Judaeo-Arabic                 NaN    Judaeo-Arabic\n",
       "1    445            Hebrew                 NaN           Hebrew\n",
       "2    446   Aramaic, Hebrew                 NaN  Aramaic, Hebrew\n",
       "3    447     Judaeo-Arabic                 NaN    Judaeo-Arabic\n",
       "4    448     Judaeo-Arabic                 NaN    Judaeo-Arabic"
      ]
     },
     "execution_count": 15,
     "metadata": {},
     "output_type": "execute_result"
    }
   ],
   "source": [
    "# combine primary and secondary languages into an all-lang field\n",
    "\n",
    "\n",
    "def all_langs(row):\n",
    "  # apparently we can't assume that secondary lang implies primary!\n",
    "    if pd.notna(row.languages_primary):\n",
    "      if pd.notna(row.languages_secondary):\n",
    "        return ','.join([row.languages_primary, row.languages_secondary])\n",
    "      else:\n",
    "        return row.languages_primary\n",
    "\n",
    "    # at least one case has a secondary lang without primary; return it\n",
    "    if pd.notna(row.languages_secondary):\n",
    "      return row.languages_secondary\n",
    "\n",
    "documents['languages_all'] = documents.apply(all_langs, axis=1)\n",
    "documents[['pgpid', 'languages_primary', 'languages_secondary', 'languages_all']].head()"
   ]
  },
  {
   "cell_type": "code",
   "execution_count": 16,
   "metadata": {
    "colab": {
     "base_uri": "https://localhost:8080/",
     "height": 363
    },
    "id": "DSstFI8q6WYW",
    "outputId": "ae45bd77-6048-414f-8d66-3e7471c73506"
   },
   "outputs": [
    {
     "data": {
      "text/html": [
       "<div>\n",
       "<style scoped>\n",
       "    .dataframe tbody tr th:only-of-type {\n",
       "        vertical-align: middle;\n",
       "    }\n",
       "\n",
       "    .dataframe tbody tr th {\n",
       "        vertical-align: top;\n",
       "    }\n",
       "\n",
       "    .dataframe thead th {\n",
       "        text-align: right;\n",
       "    }\n",
       "</style>\n",
       "<table border=\"1\" class=\"dataframe\">\n",
       "  <thead>\n",
       "    <tr style=\"text-align: right;\">\n",
       "      <th></th>\n",
       "      <th>pgpid</th>\n",
       "      <th>language</th>\n",
       "    </tr>\n",
       "  </thead>\n",
       "  <tbody>\n",
       "    <tr>\n",
       "      <th>0</th>\n",
       "      <td>444</td>\n",
       "      <td>Judaeo-Arabic</td>\n",
       "    </tr>\n",
       "    <tr>\n",
       "      <th>1</th>\n",
       "      <td>445</td>\n",
       "      <td>Hebrew</td>\n",
       "    </tr>\n",
       "    <tr>\n",
       "      <th>2</th>\n",
       "      <td>446</td>\n",
       "      <td>Aramaic</td>\n",
       "    </tr>\n",
       "    <tr>\n",
       "      <th>2</th>\n",
       "      <td>446</td>\n",
       "      <td>Hebrew</td>\n",
       "    </tr>\n",
       "    <tr>\n",
       "      <th>3</th>\n",
       "      <td>447</td>\n",
       "      <td>Judaeo-Arabic</td>\n",
       "    </tr>\n",
       "    <tr>\n",
       "      <th>4</th>\n",
       "      <td>448</td>\n",
       "      <td>Judaeo-Arabic</td>\n",
       "    </tr>\n",
       "    <tr>\n",
       "      <th>5</th>\n",
       "      <td>449</td>\n",
       "      <td>Judaeo-Arabic</td>\n",
       "    </tr>\n",
       "    <tr>\n",
       "      <th>6</th>\n",
       "      <td>451</td>\n",
       "      <td>Judaeo-Arabic</td>\n",
       "    </tr>\n",
       "    <tr>\n",
       "      <th>12</th>\n",
       "      <td>458</td>\n",
       "      <td>Judaeo-Arabic</td>\n",
       "    </tr>\n",
       "    <tr>\n",
       "      <th>13</th>\n",
       "      <td>459</td>\n",
       "      <td>Judaeo-Arabic</td>\n",
       "    </tr>\n",
       "  </tbody>\n",
       "</table>\n",
       "</div>"
      ],
      "text/plain": [
       "    pgpid       language\n",
       "0     444  Judaeo-Arabic\n",
       "1     445         Hebrew\n",
       "2     446        Aramaic\n",
       "2     446         Hebrew\n",
       "3     447  Judaeo-Arabic\n",
       "4     448  Judaeo-Arabic\n",
       "5     449  Judaeo-Arabic\n",
       "6     451  Judaeo-Arabic\n",
       "12    458  Judaeo-Arabic\n",
       "13    459  Judaeo-Arabic"
      ]
     },
     "execution_count": 16,
     "metadata": {},
     "output_type": "execute_result"
    }
   ],
   "source": [
    "# as we did with tags, split and explode the combined languages into list\n",
    "documents['langs_all_list'] = documents.languages_all.apply(lambda x: (x.strip().split(\",\")) if pd.notna(x) else [])\n",
    "\n",
    "docs_langs = documents[['pgpid', 'langs_all_list']].explode('langs_all_list').rename(columns={\"langs_all_list\": \"language\"})\n",
    "# filter out unset languages\n",
    "docs_langs = docs_langs[docs_langs.language.notna()]\n",
    "# ensure whitespace doesn't cause variation\n",
    "docs_langs['language'] = docs_langs.language.apply(lambda x : x.strip())\n",
    "\n",
    "docs_langs.head(10)"
   ]
  },
  {
   "cell_type": "code",
   "execution_count": 17,
   "metadata": {
    "colab": {
     "base_uri": "https://localhost:8080/",
     "height": 363
    },
    "id": "1d3CHk7j70Xg",
    "outputId": "3c64563a-a8c5-40c1-f2ae-6ec7619fefd1"
   },
   "outputs": [
    {
     "data": {
      "text/html": [
       "<div>\n",
       "<style scoped>\n",
       "    .dataframe tbody tr th:only-of-type {\n",
       "        vertical-align: middle;\n",
       "    }\n",
       "\n",
       "    .dataframe tbody tr th {\n",
       "        vertical-align: top;\n",
       "    }\n",
       "\n",
       "    .dataframe thead th {\n",
       "        text-align: right;\n",
       "    }\n",
       "</style>\n",
       "<table border=\"1\" class=\"dataframe\">\n",
       "  <thead>\n",
       "    <tr style=\"text-align: right;\">\n",
       "      <th></th>\n",
       "      <th>language</th>\n",
       "      <th>count</th>\n",
       "    </tr>\n",
       "  </thead>\n",
       "  <tbody>\n",
       "    <tr>\n",
       "      <th>0</th>\n",
       "      <td>Judaeo-Arabic</td>\n",
       "      <td>15885</td>\n",
       "    </tr>\n",
       "    <tr>\n",
       "      <th>1</th>\n",
       "      <td>Arabic</td>\n",
       "      <td>9539</td>\n",
       "    </tr>\n",
       "    <tr>\n",
       "      <th>2</th>\n",
       "      <td>Hebrew</td>\n",
       "      <td>7644</td>\n",
       "    </tr>\n",
       "    <tr>\n",
       "      <th>3</th>\n",
       "      <td>Aramaic</td>\n",
       "      <td>1756</td>\n",
       "    </tr>\n",
       "    <tr>\n",
       "      <th>4</th>\n",
       "      <td>Greek/Coptic Numerals</td>\n",
       "      <td>879</td>\n",
       "    </tr>\n",
       "    <tr>\n",
       "      <th>5</th>\n",
       "      <td>Ladino</td>\n",
       "      <td>368</td>\n",
       "    </tr>\n",
       "    <tr>\n",
       "      <th>6</th>\n",
       "      <td>Judaeo-Persian</td>\n",
       "      <td>102</td>\n",
       "    </tr>\n",
       "    <tr>\n",
       "      <th>7</th>\n",
       "      <td>French</td>\n",
       "      <td>49</td>\n",
       "    </tr>\n",
       "    <tr>\n",
       "      <th>8</th>\n",
       "      <td>Unidentified language and script</td>\n",
       "      <td>40</td>\n",
       "    </tr>\n",
       "    <tr>\n",
       "      <th>9</th>\n",
       "      <td>Spanish</td>\n",
       "      <td>39</td>\n",
       "    </tr>\n",
       "  </tbody>\n",
       "</table>\n",
       "</div>"
      ],
      "text/plain": [
       "                           language  count\n",
       "0                     Judaeo-Arabic  15885\n",
       "1                            Arabic   9539\n",
       "2                            Hebrew   7644\n",
       "3                           Aramaic   1756\n",
       "4             Greek/Coptic Numerals    879\n",
       "5                            Ladino    368\n",
       "6                    Judaeo-Persian    102\n",
       "7                            French     49\n",
       "8  Unidentified language and script     40\n",
       "9                           Spanish     39"
      ]
     },
     "execution_count": 17,
     "metadata": {},
     "output_type": "execute_result"
    }
   ],
   "source": [
    "# total by language, for any occurrence (counting documents multiply)\n",
    "doc_lang_counts = docs_langs.language.value_counts().reset_index()\n",
    "doc_lang_counts.head(10)"
   ]
  },
  {
   "attachments": {},
   "cell_type": "markdown",
   "metadata": {
    "id": "1es4RZOxGhPR"
   },
   "source": [
    "How many unique languages total?"
   ]
  },
  {
   "cell_type": "code",
   "execution_count": 18,
   "metadata": {
    "id": "-qUF0GeSGiwh"
   },
   "outputs": [
    {
     "data": {
      "text/plain": [
       "54"
      ]
     },
     "execution_count": 18,
     "metadata": {},
     "output_type": "execute_result"
    }
   ],
   "source": [
    "total_langs = len(doc_lang_counts.language.unique())\n",
    "total_langs"
   ]
  },
  {
   "cell_type": "code",
   "execution_count": 19,
   "metadata": {
    "colab": {
     "base_uri": "https://localhost:8080/",
     "height": 442
    },
    "id": "x0pYhEUb79zs",
    "outputId": "4bae68cb-b76d-41d7-c7a8-785d772eaedb"
   },
   "outputs": [
    {
     "name": "stderr",
     "output_type": "stream",
     "text": [
      "/var/folders/mb/6qm4h4yx3yqdy2bv2sjyp4z00000gp/T/ipykernel_24839/2189796858.py:5: SettingWithCopyWarning: \n",
      "A value is trying to be set on a copy of a slice from a DataFrame.\n",
      "Try using .loc[row_indexer,col_indexer] = value instead\n",
      "\n",
      "See the caveats in the documentation: https://pandas.pydata.org/pandas-docs/stable/user_guide/indexing.html#returning-a-view-versus-a-copy\n",
      "  doc_lang_counts_subset['count'] = doc_lang_counts_subset['count'].apply(lambda x: f\"{x:,}\")\n"
     ]
    },
    {
     "data": {
      "text/html": [
       "<div>\n",
       "<style scoped>\n",
       "    .dataframe tbody tr th:only-of-type {\n",
       "        vertical-align: middle;\n",
       "    }\n",
       "\n",
       "    .dataframe tbody tr th {\n",
       "        vertical-align: top;\n",
       "    }\n",
       "\n",
       "    .dataframe thead th {\n",
       "        text-align: right;\n",
       "    }\n",
       "</style>\n",
       "<table border=\"1\" class=\"dataframe\">\n",
       "  <thead>\n",
       "    <tr style=\"text-align: right;\">\n",
       "      <th></th>\n",
       "      <th>Language/Script</th>\n",
       "      <th>Documents</th>\n",
       "    </tr>\n",
       "  </thead>\n",
       "  <tbody>\n",
       "    <tr>\n",
       "      <th>0</th>\n",
       "      <td>Judaeo-Arabic</td>\n",
       "      <td>15,885</td>\n",
       "    </tr>\n",
       "    <tr>\n",
       "      <th>1</th>\n",
       "      <td>Arabic</td>\n",
       "      <td>9,539</td>\n",
       "    </tr>\n",
       "    <tr>\n",
       "      <th>2</th>\n",
       "      <td>Hebrew</td>\n",
       "      <td>7,644</td>\n",
       "    </tr>\n",
       "    <tr>\n",
       "      <th>3</th>\n",
       "      <td>Aramaic</td>\n",
       "      <td>1,756</td>\n",
       "    </tr>\n",
       "    <tr>\n",
       "      <th>4</th>\n",
       "      <td>Greek/Coptic Numerals</td>\n",
       "      <td>879</td>\n",
       "    </tr>\n",
       "    <tr>\n",
       "      <th>5</th>\n",
       "      <td>Ladino</td>\n",
       "      <td>368</td>\n",
       "    </tr>\n",
       "    <tr>\n",
       "      <th>8</th>\n",
       "      <td>Unidentified language and script</td>\n",
       "      <td>40</td>\n",
       "    </tr>\n",
       "    <tr>\n",
       "      <th>14</th>\n",
       "      <td>Unidentified (Hebrew script)</td>\n",
       "      <td>22</td>\n",
       "    </tr>\n",
       "    <tr>\n",
       "      <th>24</th>\n",
       "      <td>Unidentified (Latin script)</td>\n",
       "      <td>8</td>\n",
       "    </tr>\n",
       "  </tbody>\n",
       "</table>\n",
       "</div>"
      ],
      "text/plain": [
       "                     Language/Script Documents\n",
       "0                      Judaeo-Arabic    15,885\n",
       "1                             Arabic     9,539\n",
       "2                             Hebrew     7,644\n",
       "3                            Aramaic     1,756\n",
       "4              Greek/Coptic Numerals       879\n",
       "5                             Ladino       368\n",
       "8   Unidentified language and script        40\n",
       "14      Unidentified (Hebrew script)        22\n",
       "24       Unidentified (Latin script)         8"
      ]
     },
     "execution_count": 19,
     "metadata": {},
     "output_type": "execute_result"
    }
   ],
   "source": [
    "# create a filter set of most common and unidentified\n",
    "\n",
    "doc_lang_counts_subset = doc_lang_counts[(doc_lang_counts['count'] > 300) | doc_lang_counts.language.str.contains(\"Unidentified\")]\n",
    "# format count for output\n",
    "doc_lang_counts_subset['count'] = doc_lang_counts_subset['count'].apply(lambda x: f\"{x:,}\")\n",
    "# rename columns for output\n",
    "doc_lang_counts_subset = doc_lang_counts_subset.rename(columns={\"language\": \"Language/Script\",\"count\": \"Documents\"})\n",
    "doc_lang_counts_subset"
   ]
  },
  {
   "cell_type": "code",
   "execution_count": 20,
   "metadata": {
    "colab": {
     "base_uri": "https://localhost:8080/"
    },
    "id": "3N5j3ZZB8fU0",
    "outputId": "6d264684-79b2-4d24-afb9-3a53e6da42ae"
   },
   "outputs": [
    {
     "name": "stdout",
     "output_type": "stream",
     "text": [
      "\\begin{tabular}{ll}\n",
      "\\toprule\n",
      "Language/Script & Documents \\\\\n",
      "\\midrule\n",
      "Judaeo-Arabic & 15,885 \\\\\n",
      "Arabic & 9,539 \\\\\n",
      "Hebrew & 7,644 \\\\\n",
      "Aramaic & 1,756 \\\\\n",
      "Greek/Coptic Numerals & 879 \\\\\n",
      "Ladino & 368 \\\\\n",
      "Unidentified language and script & 40 \\\\\n",
      "Unidentified (Hebrew script) & 22 \\\\\n",
      "Unidentified (Latin script) & 8 \\\\\n",
      "\\bottomrule\n",
      "\\end{tabular}\n",
      "\n"
     ]
    }
   ],
   "source": [
    "print(doc_lang_counts_subset.to_latex(index=False))"
   ]
  },
  {
   "attachments": {},
   "cell_type": "markdown",
   "metadata": {
    "id": "ZF-VkArLARD8"
   },
   "source": [
    "### What % of documents have more than one language?\n",
    "\n",
    "(any language - primary or secondary)"
   ]
  },
  {
   "cell_type": "code",
   "execution_count": 21,
   "metadata": {
    "id": "oMA144XfAEvG"
   },
   "outputs": [],
   "source": [
    "# tally the number of languages using the combined list field we created before\n",
    "documents['langs_all_count'] = documents.langs_all_list.apply(lambda x: len(x))"
   ]
  },
  {
   "attachments": {},
   "cell_type": "markdown",
   "metadata": {
    "id": "k6Bl3CU0Hnt_"
   },
   "source": [
    "### Language combinations"
   ]
  },
  {
   "attachments": {},
   "cell_type": "markdown",
   "metadata": {
    "id": "mmdD5jFoJmcZ"
   },
   "source": [
    "### upSet plot"
   ]
  },
  {
   "cell_type": "code",
   "execution_count": 22,
   "metadata": {
    "colab": {
     "base_uri": "https://localhost:8080/"
    },
    "id": "hMmWPuDyKs19",
    "outputId": "add271ff-c35d-494c-fb97-266a2acb485d"
   },
   "outputs": [
    {
     "data": {
      "text/plain": [
       "['Judaeo-Arabic',\n",
       " 'Arabic',\n",
       " 'Hebrew',\n",
       " 'Aramaic',\n",
       " 'Greek/Coptic Numerals',\n",
       " 'Ladino']"
      ]
     },
     "execution_count": 22,
     "metadata": {},
     "output_type": "execute_result"
    }
   ],
   "source": [
    "# limit to languages that occur a sufficient number of times\n",
    "min_langcount = 300\n",
    "\n",
    "lang_subset = doc_lang_counts[doc_lang_counts[\"count\"] > min_langcount].language.to_list()\n",
    "lang_subset"
   ]
  },
  {
   "cell_type": "code",
   "execution_count": 23,
   "metadata": {
    "colab": {
     "base_uri": "https://localhost:8080/",
     "height": 481
    },
    "id": "b_50cv8IJs_N",
    "outputId": "4c045377-dd59-4cc2-cf1c-a6fab65aafa7"
   },
   "outputs": [
    {
     "name": "stderr",
     "output_type": "stream",
     "text": [
      "/var/folders/mb/6qm4h4yx3yqdy2bv2sjyp4z00000gp/T/ipykernel_24839/1994218633.py:9: UserWarning: Boolean Series key will be reindexed to match DataFrame index.\n",
      "  documents_subset_lang[documents_subset_lang.langs_all_count > 1 ][documents_subset_lang.languages_all.str.contains(\"Judaeo-Arabic\")][['pgpid', 'languages_all', 'langs_all_list', 'subset_langs']]\n"
     ]
    },
    {
     "data": {
      "text/html": [
       "<div>\n",
       "<style scoped>\n",
       "    .dataframe tbody tr th:only-of-type {\n",
       "        vertical-align: middle;\n",
       "    }\n",
       "\n",
       "    .dataframe tbody tr th {\n",
       "        vertical-align: top;\n",
       "    }\n",
       "\n",
       "    .dataframe thead th {\n",
       "        text-align: right;\n",
       "    }\n",
       "</style>\n",
       "<table border=\"1\" class=\"dataframe\">\n",
       "  <thead>\n",
       "    <tr style=\"text-align: right;\">\n",
       "      <th></th>\n",
       "      <th>pgpid</th>\n",
       "      <th>languages_all</th>\n",
       "      <th>langs_all_list</th>\n",
       "      <th>subset_langs</th>\n",
       "    </tr>\n",
       "  </thead>\n",
       "  <tbody>\n",
       "    <tr>\n",
       "      <th>35</th>\n",
       "      <td>489</td>\n",
       "      <td>Aramaic, Judaeo-Arabic,Hebrew</td>\n",
       "      <td>[Aramaic,  Judaeo-Arabic, Hebrew]</td>\n",
       "      <td>[Aramaic, Judaeo-Arabic, Hebrew]</td>\n",
       "    </tr>\n",
       "    <tr>\n",
       "      <th>92</th>\n",
       "      <td>563</td>\n",
       "      <td>Aramaic, Hebrew, Judaeo-Arabic</td>\n",
       "      <td>[Aramaic,  Hebrew,  Judaeo-Arabic]</td>\n",
       "      <td>[Aramaic, Hebrew, Judaeo-Arabic]</td>\n",
       "    </tr>\n",
       "    <tr>\n",
       "      <th>97</th>\n",
       "      <td>568</td>\n",
       "      <td>Arabic, Hebrew, Judaeo-Arabic</td>\n",
       "      <td>[Arabic,  Hebrew,  Judaeo-Arabic]</td>\n",
       "      <td>[Arabic, Hebrew, Judaeo-Arabic]</td>\n",
       "    </tr>\n",
       "    <tr>\n",
       "      <th>326</th>\n",
       "      <td>834</td>\n",
       "      <td>Judaeo-Arabic,Arabic,Hebrew</td>\n",
       "      <td>[Judaeo-Arabic, Arabic, Hebrew]</td>\n",
       "      <td>[Judaeo-Arabic, Arabic, Hebrew]</td>\n",
       "    </tr>\n",
       "    <tr>\n",
       "      <th>418</th>\n",
       "      <td>928</td>\n",
       "      <td>Judaeo-Arabic,Aramaic,Hebrew</td>\n",
       "      <td>[Judaeo-Arabic, Aramaic, Hebrew]</td>\n",
       "      <td>[Judaeo-Arabic, Aramaic, Hebrew]</td>\n",
       "    </tr>\n",
       "    <tr>\n",
       "      <th>...</th>\n",
       "      <td>...</td>\n",
       "      <td>...</td>\n",
       "      <td>...</td>\n",
       "      <td>...</td>\n",
       "    </tr>\n",
       "    <tr>\n",
       "      <th>34752</th>\n",
       "      <td>40329</td>\n",
       "      <td>Arabic, Greek/Coptic Numerals, Judaeo-Arabic</td>\n",
       "      <td>[Arabic,  Greek/Coptic Numerals,  Judaeo-Arabic]</td>\n",
       "      <td>[Arabic, Greek/Coptic Numerals, Judaeo-Arabic]</td>\n",
       "    </tr>\n",
       "    <tr>\n",
       "      <th>34829</th>\n",
       "      <td>40409</td>\n",
       "      <td>Arabic, Hebrew, Judaeo-Arabic</td>\n",
       "      <td>[Arabic,  Hebrew,  Judaeo-Arabic]</td>\n",
       "      <td>[Arabic, Hebrew, Judaeo-Arabic]</td>\n",
       "    </tr>\n",
       "    <tr>\n",
       "      <th>34862</th>\n",
       "      <td>40443</td>\n",
       "      <td>Judaeo-Arabic,Hebrew,Ladino</td>\n",
       "      <td>[Judaeo-Arabic, Hebrew, Ladino]</td>\n",
       "      <td>[Judaeo-Arabic, Hebrew, Ladino]</td>\n",
       "    </tr>\n",
       "    <tr>\n",
       "      <th>35144</th>\n",
       "      <td>40728</td>\n",
       "      <td>Judaeo-Arabic,Aramaic,Hebrew</td>\n",
       "      <td>[Judaeo-Arabic, Aramaic, Hebrew]</td>\n",
       "      <td>[Judaeo-Arabic, Aramaic, Hebrew]</td>\n",
       "    </tr>\n",
       "    <tr>\n",
       "      <th>35190</th>\n",
       "      <td>40774</td>\n",
       "      <td>Arabic, Hebrew, Judaeo-Arabic</td>\n",
       "      <td>[Arabic,  Hebrew,  Judaeo-Arabic]</td>\n",
       "      <td>[Arabic, Hebrew, Judaeo-Arabic]</td>\n",
       "    </tr>\n",
       "  </tbody>\n",
       "</table>\n",
       "<p>889 rows × 4 columns</p>\n",
       "</div>"
      ],
      "text/plain": [
       "       pgpid                                 languages_all  \\\n",
       "35       489                 Aramaic, Judaeo-Arabic,Hebrew   \n",
       "92       563                Aramaic, Hebrew, Judaeo-Arabic   \n",
       "97       568                 Arabic, Hebrew, Judaeo-Arabic   \n",
       "326      834                   Judaeo-Arabic,Arabic,Hebrew   \n",
       "418      928                  Judaeo-Arabic,Aramaic,Hebrew   \n",
       "...      ...                                           ...   \n",
       "34752  40329  Arabic, Greek/Coptic Numerals, Judaeo-Arabic   \n",
       "34829  40409                 Arabic, Hebrew, Judaeo-Arabic   \n",
       "34862  40443                   Judaeo-Arabic,Hebrew,Ladino   \n",
       "35144  40728                  Judaeo-Arabic,Aramaic,Hebrew   \n",
       "35190  40774                 Arabic, Hebrew, Judaeo-Arabic   \n",
       "\n",
       "                                         langs_all_list  \\\n",
       "35                    [Aramaic,  Judaeo-Arabic, Hebrew]   \n",
       "92                   [Aramaic,  Hebrew,  Judaeo-Arabic]   \n",
       "97                    [Arabic,  Hebrew,  Judaeo-Arabic]   \n",
       "326                     [Judaeo-Arabic, Arabic, Hebrew]   \n",
       "418                    [Judaeo-Arabic, Aramaic, Hebrew]   \n",
       "...                                                 ...   \n",
       "34752  [Arabic,  Greek/Coptic Numerals,  Judaeo-Arabic]   \n",
       "34829                 [Arabic,  Hebrew,  Judaeo-Arabic]   \n",
       "34862                   [Judaeo-Arabic, Hebrew, Ladino]   \n",
       "35144                  [Judaeo-Arabic, Aramaic, Hebrew]   \n",
       "35190                 [Arabic,  Hebrew,  Judaeo-Arabic]   \n",
       "\n",
       "                                         subset_langs  \n",
       "35                   [Aramaic, Judaeo-Arabic, Hebrew]  \n",
       "92                   [Aramaic, Hebrew, Judaeo-Arabic]  \n",
       "97                    [Arabic, Hebrew, Judaeo-Arabic]  \n",
       "326                   [Judaeo-Arabic, Arabic, Hebrew]  \n",
       "418                  [Judaeo-Arabic, Aramaic, Hebrew]  \n",
       "...                                               ...  \n",
       "34752  [Arabic, Greek/Coptic Numerals, Judaeo-Arabic]  \n",
       "34829                 [Arabic, Hebrew, Judaeo-Arabic]  \n",
       "34862                 [Judaeo-Arabic, Hebrew, Ladino]  \n",
       "35144                [Judaeo-Arabic, Aramaic, Hebrew]  \n",
       "35190                 [Arabic, Hebrew, Judaeo-Arabic]  \n",
       "\n",
       "[889 rows x 4 columns]"
      ]
     },
     "execution_count": 23,
     "metadata": {},
     "output_type": "execute_result"
    }
   ],
   "source": [
    "from upsetplot import from_memberships\n",
    "\n",
    "\n",
    "# limit to documents with any of the languages in our subset\n",
    "# create a filtered lang field with languages in our subset\n",
    "documents['subset_langs'] = documents.langs_all_list.apply(lambda x: [l.strip() for l in x if l.strip() in lang_subset]) #list(set(l.strip() for l in x) & set(lang_subset)))\n",
    "\n",
    "documents_subset_lang = documents[documents.subset_langs.notna() & documents.subset_langs.str.len()].copy()\n",
    "documents_subset_lang[documents_subset_lang.langs_all_count > 1 ][documents_subset_lang.languages_all.str.contains(\"Judaeo-Arabic\")][['pgpid', 'languages_all', 'langs_all_list', 'subset_langs']]"
   ]
  },
  {
   "cell_type": "code",
   "execution_count": 24,
   "metadata": {
    "colab": {
     "base_uri": "https://localhost:8080/"
    },
    "id": "3ytHhsmPSZLh",
    "outputId": "75c42822-d5eb-4177-8415-ca8831d87d33"
   },
   "outputs": [],
   "source": [
    "pd.set_option('future.no_silent_downcasting', True)\n",
    "\n",
    "# use the combined subset language field as the membership set\n",
    "lang_memberships = documents_subset_lang.subset_langs\n",
    "lang_sets = from_memberships(lang_memberships)"
   ]
  },
  {
   "cell_type": "code",
   "execution_count": 25,
   "metadata": {
    "colab": {
     "base_uri": "https://localhost:8080/",
     "height": 1000
    },
    "id": "NSGNU1rJN0hf",
    "outputId": "5c94b064-2a02-410d-f2bf-f4b8c142b327"
   },
   "outputs": [
    {
     "name": "stderr",
     "output_type": "stream",
     "text": [
      "/Users/rkoeser/workarea/github/pgp-dataset-essay/.venv/lib/python3.12/site-packages/upsetplot/plotting.py:795: FutureWarning: A value is trying to be set on a copy of a DataFrame or Series through chained assignment using an inplace method.\n",
      "The behavior will change in pandas 3.0. This inplace method will never work because the intermediate object on which we are setting values always behaves as a copy.\n",
      "\n",
      "For example, when doing 'df[col].method(value, inplace=True)', try using 'df.method({col: value}, inplace=True)' or df[col] = df[col].method(value) instead, to perform the operation inplace on the original object.\n",
      "\n",
      "\n",
      "  styles[\"linewidth\"].fillna(1, inplace=True)\n",
      "/Users/rkoeser/workarea/github/pgp-dataset-essay/.venv/lib/python3.12/site-packages/upsetplot/plotting.py:796: FutureWarning: A value is trying to be set on a copy of a DataFrame or Series through chained assignment using an inplace method.\n",
      "The behavior will change in pandas 3.0. This inplace method will never work because the intermediate object on which we are setting values always behaves as a copy.\n",
      "\n",
      "For example, when doing 'df[col].method(value, inplace=True)', try using 'df.method({col: value}, inplace=True)' or df[col] = df[col].method(value) instead, to perform the operation inplace on the original object.\n",
      "\n",
      "\n",
      "  styles[\"facecolor\"].fillna(self._facecolor, inplace=True)\n",
      "/Users/rkoeser/workarea/github/pgp-dataset-essay/.venv/lib/python3.12/site-packages/upsetplot/plotting.py:797: FutureWarning: A value is trying to be set on a copy of a DataFrame or Series through chained assignment using an inplace method.\n",
      "The behavior will change in pandas 3.0. This inplace method will never work because the intermediate object on which we are setting values always behaves as a copy.\n",
      "\n",
      "For example, when doing 'df[col].method(value, inplace=True)', try using 'df.method({col: value}, inplace=True)' or df[col] = df[col].method(value) instead, to perform the operation inplace on the original object.\n",
      "\n",
      "\n",
      "  styles[\"edgecolor\"].fillna(styles[\"facecolor\"], inplace=True)\n",
      "/Users/rkoeser/workarea/github/pgp-dataset-essay/.venv/lib/python3.12/site-packages/upsetplot/plotting.py:798: FutureWarning: A value is trying to be set on a copy of a DataFrame or Series through chained assignment using an inplace method.\n",
      "The behavior will change in pandas 3.0. This inplace method will never work because the intermediate object on which we are setting values always behaves as a copy.\n",
      "\n",
      "For example, when doing 'df[col].method(value, inplace=True)', try using 'df.method({col: value}, inplace=True)' or df[col] = df[col].method(value) instead, to perform the operation inplace on the original object.\n",
      "\n",
      "\n",
      "  styles[\"linestyle\"].fillna(\"solid\", inplace=True)\n"
     ]
    },
    {
     "data": {
      "image/png": "[encoded data removed]",
      "text/plain": [
       "<Figure size 1022.22x533.333 with 4 Axes>"
      ]
     },
     "metadata": {},
     "output_type": "display_data"
    }
   ],
   "source": [
    "from upsetplot import plot\n",
    "from matplotlib import pyplot\n",
    "\n",
    "figure = pyplot.figure()\n",
    "\n",
    "upset_plot = plot(lang_sets, fig=figure, subset_size=\"count\", show_counts=True) # , sort_categories_by='-input')\n",
    "\n",
    "# NOTE: must save _before_ displaying (show clears the current plot)\n",
    "# pyplot.savefig(f'{chart_dir}/language_upsetplot.pdf')\n",
    "pyplot.show(upset_plot)\n"
   ]
  },
  {
   "attachments": {},
   "cell_type": "markdown",
   "metadata": {
    "id": "3oqKqqMqabn2"
   },
   "source": [
    "#### upSet plot of primary languages"
   ]
  },
  {
   "cell_type": "code",
   "execution_count": 26,
   "metadata": {
    "colab": {
     "base_uri": "https://localhost:8080/"
    },
    "id": "sBG3ul2xcllv",
    "outputId": "771e4460-9c67-4909-c2d3-8a991f7dbb54"
   },
   "outputs": [
    {
     "data": {
      "text/plain": [
       "['Judaeo-Arabic',\n",
       " 'Arabic',\n",
       " 'Hebrew',\n",
       " 'Aramaic',\n",
       " 'Greek/Coptic Numerals',\n",
       " 'Ladino']"
      ]
     },
     "execution_count": 26,
     "metadata": {},
     "output_type": "execute_result"
    }
   ],
   "source": [
    "lang_subset"
   ]
  },
  {
   "cell_type": "code",
   "execution_count": 27,
   "metadata": {
    "colab": {
     "base_uri": "https://localhost:8080/",
     "height": 420
    },
    "id": "PGtCoq6tadRw",
    "outputId": "f585e234-6304-47f5-88ea-c5bcafe4599c"
   },
   "outputs": [
    {
     "name": "stderr",
     "output_type": "stream",
     "text": [
      "/var/folders/mb/6qm4h4yx3yqdy2bv2sjyp4z00000gp/T/ipykernel_24839/695474924.py:8: UserWarning: Boolean Series key will be reindexed to match DataFrame index.\n",
      "  documents_primary_subset_lang[documents_primary_subset_lang.langs_all_count > 1 ][documents_primary_subset_lang.languages_all.str.contains(\"Ladino\")][['pgpid', 'languages_primary', 'primary_lang_list', 'subset_primary_langs']].head(10)\n"
     ]
    },
    {
     "data": {
      "text/html": [
       "<div>\n",
       "<style scoped>\n",
       "    .dataframe tbody tr th:only-of-type {\n",
       "        vertical-align: middle;\n",
       "    }\n",
       "\n",
       "    .dataframe tbody tr th {\n",
       "        vertical-align: top;\n",
       "    }\n",
       "\n",
       "    .dataframe thead th {\n",
       "        text-align: right;\n",
       "    }\n",
       "</style>\n",
       "<table border=\"1\" class=\"dataframe\">\n",
       "  <thead>\n",
       "    <tr style=\"text-align: right;\">\n",
       "      <th></th>\n",
       "      <th>pgpid</th>\n",
       "      <th>languages_primary</th>\n",
       "      <th>primary_lang_list</th>\n",
       "      <th>subset_primary_langs</th>\n",
       "    </tr>\n",
       "  </thead>\n",
       "  <tbody>\n",
       "    <tr>\n",
       "      <th>8612</th>\n",
       "      <td>11187</td>\n",
       "      <td>Hebrew</td>\n",
       "      <td>[Hebrew]</td>\n",
       "      <td>[Hebrew]</td>\n",
       "    </tr>\n",
       "    <tr>\n",
       "      <th>8730</th>\n",
       "      <td>11322</td>\n",
       "      <td>Ladino</td>\n",
       "      <td>[Ladino]</td>\n",
       "      <td>[Ladino]</td>\n",
       "    </tr>\n",
       "    <tr>\n",
       "      <th>9736</th>\n",
       "      <td>12403</td>\n",
       "      <td>Ladino</td>\n",
       "      <td>[Ladino]</td>\n",
       "      <td>[Ladino]</td>\n",
       "    </tr>\n",
       "    <tr>\n",
       "      <th>14005</th>\n",
       "      <td>16997</td>\n",
       "      <td>Ladino</td>\n",
       "      <td>[Ladino]</td>\n",
       "      <td>[Ladino]</td>\n",
       "    </tr>\n",
       "    <tr>\n",
       "      <th>15854</th>\n",
       "      <td>19003</td>\n",
       "      <td>Hebrew, Judaeo-Arabic, Ladino</td>\n",
       "      <td>[Hebrew, Judaeo-Arabic, Ladino]</td>\n",
       "      <td>[Hebrew, Judaeo-Arabic, Ladino]</td>\n",
       "    </tr>\n",
       "    <tr>\n",
       "      <th>16262</th>\n",
       "      <td>19437</td>\n",
       "      <td>Judaeo-Arabic</td>\n",
       "      <td>[Judaeo-Arabic]</td>\n",
       "      <td>[Judaeo-Arabic]</td>\n",
       "    </tr>\n",
       "    <tr>\n",
       "      <th>16413</th>\n",
       "      <td>19666</td>\n",
       "      <td>Hebrew, Judaeo-Arabic, Ladino</td>\n",
       "      <td>[Hebrew, Judaeo-Arabic, Ladino]</td>\n",
       "      <td>[Hebrew, Judaeo-Arabic, Ladino]</td>\n",
       "    </tr>\n",
       "    <tr>\n",
       "      <th>16445</th>\n",
       "      <td>19708</td>\n",
       "      <td>Ladino, Spanish</td>\n",
       "      <td>[Ladino, Spanish]</td>\n",
       "      <td>[Ladino]</td>\n",
       "    </tr>\n",
       "    <tr>\n",
       "      <th>16446</th>\n",
       "      <td>19709</td>\n",
       "      <td>Ladino, Unidentified language and script</td>\n",
       "      <td>[Ladino, Unidentified language and script]</td>\n",
       "      <td>[Ladino]</td>\n",
       "    </tr>\n",
       "    <tr>\n",
       "      <th>16559</th>\n",
       "      <td>19830</td>\n",
       "      <td>Ladino</td>\n",
       "      <td>[Ladino]</td>\n",
       "      <td>[Ladino]</td>\n",
       "    </tr>\n",
       "  </tbody>\n",
       "</table>\n",
       "</div>"
      ],
      "text/plain": [
       "       pgpid                         languages_primary  \\\n",
       "8612   11187                                    Hebrew   \n",
       "8730   11322                                    Ladino   \n",
       "9736   12403                                    Ladino   \n",
       "14005  16997                                    Ladino   \n",
       "15854  19003             Hebrew, Judaeo-Arabic, Ladino   \n",
       "16262  19437                             Judaeo-Arabic   \n",
       "16413  19666             Hebrew, Judaeo-Arabic, Ladino   \n",
       "16445  19708                           Ladino, Spanish   \n",
       "16446  19709  Ladino, Unidentified language and script   \n",
       "16559  19830                                    Ladino   \n",
       "\n",
       "                                primary_lang_list  \\\n",
       "8612                                     [Hebrew]   \n",
       "8730                                     [Ladino]   \n",
       "9736                                     [Ladino]   \n",
       "14005                                    [Ladino]   \n",
       "15854             [Hebrew, Judaeo-Arabic, Ladino]   \n",
       "16262                             [Judaeo-Arabic]   \n",
       "16413             [Hebrew, Judaeo-Arabic, Ladino]   \n",
       "16445                           [Ladino, Spanish]   \n",
       "16446  [Ladino, Unidentified language and script]   \n",
       "16559                                    [Ladino]   \n",
       "\n",
       "                  subset_primary_langs  \n",
       "8612                          [Hebrew]  \n",
       "8730                          [Ladino]  \n",
       "9736                          [Ladino]  \n",
       "14005                         [Ladino]  \n",
       "15854  [Hebrew, Judaeo-Arabic, Ladino]  \n",
       "16262                  [Judaeo-Arabic]  \n",
       "16413  [Hebrew, Judaeo-Arabic, Ladino]  \n",
       "16445                         [Ladino]  \n",
       "16446                         [Ladino]  \n",
       "16559                         [Ladino]  "
      ]
     },
     "execution_count": 27,
     "metadata": {},
     "output_type": "execute_result"
    }
   ],
   "source": [
    "\n",
    "# limit to documents with any of the languages in our subset\n",
    "# create a filtered lang field with languages in our subset\n",
    "documents['primary_lang_list'] = documents.languages_primary.apply(lambda x: [l.strip() for l in x.split(',')] if pd.notna(x) else [])\n",
    "\n",
    "documents['subset_primary_langs'] = documents.primary_lang_list.apply(lambda x: [l.strip() for l in x if l.strip() in lang_subset]) #list(set(l.strip() for l in x) & set(lang_subset)))\n",
    "\n",
    "documents_primary_subset_lang = documents[documents.subset_primary_langs.notna() & documents.subset_primary_langs.str.len()]\n",
    "documents_primary_subset_lang[documents_primary_subset_lang.langs_all_count > 1 ][documents_primary_subset_lang.languages_all.str.contains(\"Ladino\")][['pgpid', 'languages_primary', 'primary_lang_list', 'subset_primary_langs']].head(10)"
   ]
  },
  {
   "cell_type": "code",
   "execution_count": 28,
   "metadata": {
    "colab": {
     "base_uri": "https://localhost:8080/"
    },
    "id": "eX-byhT8a8Z9",
    "outputId": "8406f76e-5e54-4129-d304-66a5251a0b26"
   },
   "outputs": [],
   "source": [
    "# use the combined subset language field as the membership set\n",
    "primary_lang_memberships = documents_primary_subset_lang.subset_primary_langs\n",
    "primary_lang_sets = from_memberships(primary_lang_memberships)"
   ]
  },
  {
   "cell_type": "code",
   "execution_count": 29,
   "metadata": {
    "colab": {
     "base_uri": "https://localhost:8080/",
     "height": 1000
    },
    "id": "JGvoa3StbCg7",
    "outputId": "d1061b95-b74e-4ca2-a973-9e0da48eca15"
   },
   "outputs": [
    {
     "name": "stderr",
     "output_type": "stream",
     "text": [
      "/Users/rkoeser/workarea/github/pgp-dataset-essay/.venv/lib/python3.12/site-packages/upsetplot/plotting.py:795: FutureWarning: A value is trying to be set on a copy of a DataFrame or Series through chained assignment using an inplace method.\n",
      "The behavior will change in pandas 3.0. This inplace method will never work because the intermediate object on which we are setting values always behaves as a copy.\n",
      "\n",
      "For example, when doing 'df[col].method(value, inplace=True)', try using 'df.method({col: value}, inplace=True)' or df[col] = df[col].method(value) instead, to perform the operation inplace on the original object.\n",
      "\n",
      "\n",
      "  styles[\"linewidth\"].fillna(1, inplace=True)\n",
      "/Users/rkoeser/workarea/github/pgp-dataset-essay/.venv/lib/python3.12/site-packages/upsetplot/plotting.py:796: FutureWarning: A value is trying to be set on a copy of a DataFrame or Series through chained assignment using an inplace method.\n",
      "The behavior will change in pandas 3.0. This inplace method will never work because the intermediate object on which we are setting values always behaves as a copy.\n",
      "\n",
      "For example, when doing 'df[col].method(value, inplace=True)', try using 'df.method({col: value}, inplace=True)' or df[col] = df[col].method(value) instead, to perform the operation inplace on the original object.\n",
      "\n",
      "\n",
      "  styles[\"facecolor\"].fillna(self._facecolor, inplace=True)\n",
      "/Users/rkoeser/workarea/github/pgp-dataset-essay/.venv/lib/python3.12/site-packages/upsetplot/plotting.py:797: FutureWarning: A value is trying to be set on a copy of a DataFrame or Series through chained assignment using an inplace method.\n",
      "The behavior will change in pandas 3.0. This inplace method will never work because the intermediate object on which we are setting values always behaves as a copy.\n",
      "\n",
      "For example, when doing 'df[col].method(value, inplace=True)', try using 'df.method({col: value}, inplace=True)' or df[col] = df[col].method(value) instead, to perform the operation inplace on the original object.\n",
      "\n",
      "\n",
      "  styles[\"edgecolor\"].fillna(styles[\"facecolor\"], inplace=True)\n",
      "/Users/rkoeser/workarea/github/pgp-dataset-essay/.venv/lib/python3.12/site-packages/upsetplot/plotting.py:798: FutureWarning: A value is trying to be set on a copy of a DataFrame or Series through chained assignment using an inplace method.\n",
      "The behavior will change in pandas 3.0. This inplace method will never work because the intermediate object on which we are setting values always behaves as a copy.\n",
      "\n",
      "For example, when doing 'df[col].method(value, inplace=True)', try using 'df.method({col: value}, inplace=True)' or df[col] = df[col].method(value) instead, to perform the operation inplace on the original object.\n",
      "\n",
      "\n",
      "  styles[\"linestyle\"].fillna(\"solid\", inplace=True)\n"
     ]
    },
    {
     "data": {
      "image/png": "[encoded data removed]",
      "text/plain": [
       "<Figure size 1022.22x533.333 with 4 Axes>"
      ]
     },
     "metadata": {},
     "output_type": "display_data"
    }
   ],
   "source": [
    "from upsetplot import UpSet\n",
    "\n",
    "\n",
    "upset_plot_primary = UpSet(primary_lang_sets, subset_size=\"count\", show_counts=True, sort_by='cardinality', sort_categories_by='-cardinality').plot()\n",
    "\n",
    "pyplot.savefig(f'{chart_dir}/primary_language_upsetplot.pdf')\n",
    "\n",
    "pyplot.savefig(f'{chart_dir}/language_upsetplot.pdf')\n",
    "pyplot.show(upset_plot_primary)"
   ]
  }
 ],
 "metadata": {
  "colab": {
   "provenance": []
  },
  "kernelspec": {
   "display_name": "Python 3 (ipykernel)",
   "language": "python",
   "name": "python3"
  },
  "language_info": {
   "codemirror_mode": {
    "name": "ipython",
    "version": 3
   },
   "file_extension": ".py",
   "mimetype": "text/x-python",
   "name": "python",
   "nbconvert_exporter": "python",
   "pygments_lexer": "ipython3",
   "version": "3.12.7"
  }
 },
 "nbformat": 4,
 "nbformat_minor": 4
}
