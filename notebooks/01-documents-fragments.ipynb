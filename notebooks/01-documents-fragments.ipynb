{
 "cells": [
  {
   "attachments": {},
   "cell_type": "markdown",
   "metadata": {
    "id": "tC1a18Cmvrrx"
   },
   "source": [
    "## Documents and Fragments"
   ]
  },
  {
   "cell_type": "code",
   "execution_count": 36,
   "metadata": {
    "id": "mvgYWyMsvuZO"
   },
   "outputs": [],
   "source": [
    "import pandas as pd\n",
    "import altair as alt\n",
    "\n",
    "from utils import pgp_csv_paths, chart_dir\n",
    "\n",
    "documents = pd.read_csv(pgp_csv_paths[\"documents\"])"
   ]
  },
  {
   "cell_type": "code",
   "execution_count": 37,
   "metadata": {
    "colab": {
     "base_uri": "https://localhost:8080/"
    },
    "id": "fx_iDk4mwYCa",
    "outputId": "e88fa979-293c-4824-ed3c-8b75d445a99e"
   },
   "outputs": [
    {
     "name": "stdout",
     "output_type": "stream",
     "text": [
      "35,194 total documents\n"
     ]
    }
   ],
   "source": [
    "total_documents = documents.shape[0]\n",
    "print(f\"{total_documents:,} total documents\")"
   ]
  },
  {
   "attachments": {},
   "cell_type": "markdown",
   "metadata": {
    "id": "_KR3fqhLv1Gr"
   },
   "source": [
    "### Documents by number of fragments\n",
    "\n",
    "How many fragments are typically used to compose a single document?\n",
    "\n",
    "The `shelfmark` field in the data is a composite field; a \" + \" is used to indicate multiple shelfmarks.\n",
    "\n",
    "NOTE: this does not account for shelfmark overrides, e.g. ranges of shelfmarks."
   ]
  },
  {
   "cell_type": "code",
   "execution_count": 38,
   "metadata": {
    "colab": {
     "base_uri": "https://localhost:8080/",
     "height": 429
    },
    "id": "hR5qbu7Jv-0Q",
    "outputId": "70a0ddfe-58ad-4f54-dda6-d1d2b2c64cf5"
   },
   "outputs": [
    {
     "data": {
      "text/plain": [
       "num_fragments\n",
       "1     33644\n",
       "2      1178\n",
       "3       183\n",
       "4        87\n",
       "5        45\n",
       "6        24\n",
       "8        11\n",
       "7         8\n",
       "11        2\n",
       "17        2\n",
       "Name: count, dtype: int64"
      ]
     },
     "execution_count": 38,
     "metadata": {},
     "output_type": "execute_result"
    }
   ],
   "source": [
    "documents_fragments = documents.copy()\n",
    "\n",
    "documents_fragments[\"fragments\"] = documents_fragments.shelfmark.apply(lambda x : x.split(' + '))\n",
    "documents_fragments[\"num_fragments\"] = documents_fragments.fragments.apply(lambda x : len(x))\n",
    "documents_fragments.num_fragments.value_counts().head(10)"
   ]
  },
  {
   "attachments": {},
   "cell_type": "markdown",
   "metadata": {
    "id": "7KjSpdFtyqNt"
   },
   "source": [
    "What percent of documents occur on a single fragment?"
   ]
  },
  {
   "cell_type": "code",
   "execution_count": 39,
   "metadata": {
    "colab": {
     "base_uri": "https://localhost:8080/"
    },
    "id": "mgN4f7gmypkb",
    "outputId": "dce50cf0-5360-426c-b64b-8dd2f96b7ed1"
   },
   "outputs": [
    {
     "data": {
      "text/plain": [
       "33644"
      ]
     },
     "execution_count": 39,
     "metadata": {},
     "output_type": "execute_result"
    }
   ],
   "source": [
    "single_frag_docs = documents_fragments[documents_fragments.num_fragments == 1].shape[0]\n",
    "single_frag_docs"
   ]
  },
  {
   "cell_type": "code",
   "execution_count": 40,
   "metadata": {
    "colab": {
     "base_uri": "https://localhost:8080/"
    },
    "id": "Twu05raHh6Nh",
    "outputId": "e3222a04-c1cb-4023-efc6-889fa5f0c650"
   },
   "outputs": [
    {
     "name": "stdout",
     "output_type": "stream",
     "text": [
      "1,550 total joins\n"
     ]
    }
   ],
   "source": [
    "joins = documents_fragments[documents_fragments.num_fragments > 1].shape[0]\n",
    "print(f\"{joins:,} total joins\")"
   ]
  },
  {
   "attachments": {},
   "cell_type": "markdown",
   "metadata": {
    "id": "YGgCcVqwyVBI"
   },
   "source": [
    "What are some examples of documents that span more than 6 fragments?"
   ]
  },
  {
   "cell_type": "code",
   "execution_count": 41,
   "metadata": {
    "colab": {
     "base_uri": "https://localhost:8080/",
     "height": 363
    },
    "id": "21RK8wohxwMW",
    "outputId": "300b902c-4f80-4019-d3b9-ce6f21c35203"
   },
   "outputs": [
    {
     "data": {
      "text/html": [
       "<div>\n",
       "<style scoped>\n",
       "    .dataframe tbody tr th:only-of-type {\n",
       "        vertical-align: middle;\n",
       "    }\n",
       "\n",
       "    .dataframe tbody tr th {\n",
       "        vertical-align: top;\n",
       "    }\n",
       "\n",
       "    .dataframe thead th {\n",
       "        text-align: right;\n",
       "    }\n",
       "</style>\n",
       "<table border=\"1\" class=\"dataframe\">\n",
       "  <thead>\n",
       "    <tr style=\"text-align: right;\">\n",
       "      <th></th>\n",
       "      <th>pgpid</th>\n",
       "      <th>shelfmark</th>\n",
       "      <th>type</th>\n",
       "      <th>description</th>\n",
       "    </tr>\n",
       "  </thead>\n",
       "  <tbody>\n",
       "    <tr>\n",
       "      <th>3983</th>\n",
       "      <td>5371</td>\n",
       "      <td>T-S NS 184.58 + T-S NS 184.62 + T-S NS 184.50 ...</td>\n",
       "      <td>Legal document</td>\n",
       "      <td>India Book (IB) I, 34a.\\r\\nLegal proceedings w...</td>\n",
       "    </tr>\n",
       "    <tr>\n",
       "      <th>4176</th>\n",
       "      <td>5634</td>\n",
       "      <td>Bodl. MS heb. f 56/14 + Bodl. MS heb. f 56/15 ...</td>\n",
       "      <td>Literary text</td>\n",
       "      <td>Copy of a story about the edicts against the J...</td>\n",
       "    </tr>\n",
       "    <tr>\n",
       "      <th>6385</th>\n",
       "      <td>8297</td>\n",
       "      <td>T-S Ar.50.197 + T-S Ar.50.154 + T-S G1.80 + T-...</td>\n",
       "      <td>Legal query or responsum</td>\n",
       "      <td>Book of responsa. Joins by Amir Ashur. See FGP...</td>\n",
       "    </tr>\n",
       "    <tr>\n",
       "      <th>7433</th>\n",
       "      <td>9813</td>\n",
       "      <td>ENA 330.10 + ENA 330.12 + ENA 330.13 + ENA 330...</td>\n",
       "      <td>List or table</td>\n",
       "      <td>Donations ledger, ca. 1800 CE. There are sever...</td>\n",
       "    </tr>\n",
       "    <tr>\n",
       "      <th>7491</th>\n",
       "      <td>9938</td>\n",
       "      <td>ENA 1066.1 + ENA 1066.2 + ENA 1066.3 + ENA 106...</td>\n",
       "      <td>List or table</td>\n",
       "      <td>Ledger of accounts, late, of a Venetian merchant.</td>\n",
       "    </tr>\n",
       "    <tr>\n",
       "      <th>7496</th>\n",
       "      <td>9952</td>\n",
       "      <td>ENA NS I.57 + CUL Or.1080 J253 + T-S Ar.35.382...</td>\n",
       "      <td>List or table</td>\n",
       "      <td>Ledger of expenses and incomes of the Mustaʿri...</td>\n",
       "    </tr>\n",
       "    <tr>\n",
       "      <th>7681</th>\n",
       "      <td>10150</td>\n",
       "      <td>ENA 3450.14 + ENA 3450.17 + ENA 3450.20 + ENA ...</td>\n",
       "      <td>Literary text</td>\n",
       "      <td>Booklet consisting mostly of a text that seems...</td>\n",
       "    </tr>\n",
       "    <tr>\n",
       "      <th>7881</th>\n",
       "      <td>10392</td>\n",
       "      <td>ENA 3938.5 + ENA 3938.6 + ENA 3938.7 + ENA 393...</td>\n",
       "      <td>Literary text</td>\n",
       "      <td>Seven pages of an unidentified long-form work ...</td>\n",
       "    </tr>\n",
       "    <tr>\n",
       "      <th>8327</th>\n",
       "      <td>10864</td>\n",
       "      <td>ENA 3980.1 + ENA 3980.2 + ENA 3980.3 + ENA 398...</td>\n",
       "      <td>Literary text</td>\n",
       "      <td>Literary text in Arabic script.</td>\n",
       "    </tr>\n",
       "    <tr>\n",
       "      <th>8960</th>\n",
       "      <td>11576</td>\n",
       "      <td>ENA NS 77.7 + ENA NS 77.16 + ENA NS 77.17 + EN...</td>\n",
       "      <td>Legal document</td>\n",
       "      <td>Legal document. Seven fragments joined togethe...</td>\n",
       "    </tr>\n",
       "  </tbody>\n",
       "</table>\n",
       "</div>"
      ],
      "text/plain": [
       "      pgpid                                          shelfmark  \\\n",
       "3983   5371  T-S NS 184.58 + T-S NS 184.62 + T-S NS 184.50 ...   \n",
       "4176   5634  Bodl. MS heb. f 56/14 + Bodl. MS heb. f 56/15 ...   \n",
       "6385   8297  T-S Ar.50.197 + T-S Ar.50.154 + T-S G1.80 + T-...   \n",
       "7433   9813  ENA 330.10 + ENA 330.12 + ENA 330.13 + ENA 330...   \n",
       "7491   9938  ENA 1066.1 + ENA 1066.2 + ENA 1066.3 + ENA 106...   \n",
       "7496   9952  ENA NS I.57 + CUL Or.1080 J253 + T-S Ar.35.382...   \n",
       "7681  10150  ENA 3450.14 + ENA 3450.17 + ENA 3450.20 + ENA ...   \n",
       "7881  10392  ENA 3938.5 + ENA 3938.6 + ENA 3938.7 + ENA 393...   \n",
       "8327  10864  ENA 3980.1 + ENA 3980.2 + ENA 3980.3 + ENA 398...   \n",
       "8960  11576  ENA NS 77.7 + ENA NS 77.16 + ENA NS 77.17 + EN...   \n",
       "\n",
       "                          type  \\\n",
       "3983            Legal document   \n",
       "4176             Literary text   \n",
       "6385  Legal query or responsum   \n",
       "7433             List or table   \n",
       "7491             List or table   \n",
       "7496             List or table   \n",
       "7681             Literary text   \n",
       "7881             Literary text   \n",
       "8327             Literary text   \n",
       "8960            Legal document   \n",
       "\n",
       "                                            description  \n",
       "3983  India Book (IB) I, 34a.\\r\\nLegal proceedings w...  \n",
       "4176  Copy of a story about the edicts against the J...  \n",
       "6385  Book of responsa. Joins by Amir Ashur. See FGP...  \n",
       "7433  Donations ledger, ca. 1800 CE. There are sever...  \n",
       "7491  Ledger of accounts, late, of a Venetian merchant.  \n",
       "7496  Ledger of expenses and incomes of the Mustaʿri...  \n",
       "7681  Booklet consisting mostly of a text that seems...  \n",
       "7881  Seven pages of an unidentified long-form work ...  \n",
       "8327                    Literary text in Arabic script.  \n",
       "8960  Legal document. Seven fragments joined togethe...  "
      ]
     },
     "execution_count": 41,
     "metadata": {},
     "output_type": "execute_result"
    }
   ],
   "source": [
    "documents_fragments[documents_fragments.num_fragments > 6][['pgpid', 'shelfmark', 'type', 'description', ]].head(10)"
   ]
  },
  {
   "cell_type": "code",
   "execution_count": 42,
   "metadata": {
    "colab": {
     "base_uri": "https://localhost:8080/",
     "height": 363
    },
    "id": "aQMkGrYGyMsR",
    "outputId": "d4ff6007-ec4d-4cba-d77f-d0dd9d483297"
   },
   "outputs": [
    {
     "data": {
      "text/html": [
       "<div>\n",
       "<style scoped>\n",
       "    .dataframe tbody tr th:only-of-type {\n",
       "        vertical-align: middle;\n",
       "    }\n",
       "\n",
       "    .dataframe tbody tr th {\n",
       "        vertical-align: top;\n",
       "    }\n",
       "\n",
       "    .dataframe thead th {\n",
       "        text-align: right;\n",
       "    }\n",
       "</style>\n",
       "<table border=\"1\" class=\"dataframe\">\n",
       "  <thead>\n",
       "    <tr style=\"text-align: right;\">\n",
       "      <th></th>\n",
       "      <th>num_fragments</th>\n",
       "      <th>count</th>\n",
       "      <th>percent</th>\n",
       "    </tr>\n",
       "  </thead>\n",
       "  <tbody>\n",
       "    <tr>\n",
       "      <th>0</th>\n",
       "      <td>1</td>\n",
       "      <td>33644</td>\n",
       "      <td>95.60%</td>\n",
       "    </tr>\n",
       "    <tr>\n",
       "      <th>1</th>\n",
       "      <td>2</td>\n",
       "      <td>1178</td>\n",
       "      <td>3.35%</td>\n",
       "    </tr>\n",
       "    <tr>\n",
       "      <th>2</th>\n",
       "      <td>3</td>\n",
       "      <td>183</td>\n",
       "      <td>0.52%</td>\n",
       "    </tr>\n",
       "    <tr>\n",
       "      <th>3</th>\n",
       "      <td>4</td>\n",
       "      <td>87</td>\n",
       "      <td>0.25%</td>\n",
       "    </tr>\n",
       "    <tr>\n",
       "      <th>4</th>\n",
       "      <td>5</td>\n",
       "      <td>45</td>\n",
       "      <td>0.13%</td>\n",
       "    </tr>\n",
       "    <tr>\n",
       "      <th>5</th>\n",
       "      <td>6</td>\n",
       "      <td>24</td>\n",
       "      <td>0.07%</td>\n",
       "    </tr>\n",
       "    <tr>\n",
       "      <th>6</th>\n",
       "      <td>7</td>\n",
       "      <td>8</td>\n",
       "      <td>0.02%</td>\n",
       "    </tr>\n",
       "    <tr>\n",
       "      <th>7</th>\n",
       "      <td>8</td>\n",
       "      <td>11</td>\n",
       "      <td>0.03%</td>\n",
       "    </tr>\n",
       "    <tr>\n",
       "      <th>8</th>\n",
       "      <td>9</td>\n",
       "      <td>1</td>\n",
       "      <td>0.00%</td>\n",
       "    </tr>\n",
       "    <tr>\n",
       "      <th>9</th>\n",
       "      <td>10</td>\n",
       "      <td>1</td>\n",
       "      <td>0.00%</td>\n",
       "    </tr>\n",
       "  </tbody>\n",
       "</table>\n",
       "</div>"
      ],
      "text/plain": [
       "   num_fragments  count percent\n",
       "0              1  33644  95.60%\n",
       "1              2   1178   3.35%\n",
       "2              3    183   0.52%\n",
       "3              4     87   0.25%\n",
       "4              5     45   0.13%\n",
       "5              6     24   0.07%\n",
       "6              7      8   0.02%\n",
       "7              8     11   0.03%\n",
       "8              9      1   0.00%\n",
       "9             10      1   0.00%"
      ]
     },
     "execution_count": 42,
     "metadata": {},
     "output_type": "execute_result"
    }
   ],
   "source": [
    "# aggregate documents by the number of fragments they span, for graphing\n",
    "docs_per_num_fragments = documents_fragments[['num_fragments', 'pgpid']].groupby('num_fragments').count().reset_index().rename(columns={\"pgpid\": \"count\"})\n",
    "# calculate a percentage of the total\n",
    "docs_per_num_fragments[\"percent\"] = docs_per_num_fragments[\"count\"].apply(lambda x : f\"{(x / total_documents):.2%}\")\n",
    "\n",
    "docs_per_num_fragments.head(10)"
   ]
  },
  {
   "attachments": {},
   "cell_type": "markdown",
   "metadata": {
    "id": "-csEnkRbzYKW"
   },
   "source": [
    "What does the long tail look like, of documents spanning a large number of fragments?"
   ]
  },
  {
   "cell_type": "code",
   "execution_count": 43,
   "metadata": {
    "colab": {
     "base_uri": "https://localhost:8080/",
     "height": 363
    },
    "id": "RfOFf0zazU35",
    "outputId": "a814d39f-a9b5-47d2-dab8-f05da47aa492"
   },
   "outputs": [
    {
     "data": {
      "text/html": [
       "<div>\n",
       "<style scoped>\n",
       "    .dataframe tbody tr th:only-of-type {\n",
       "        vertical-align: middle;\n",
       "    }\n",
       "\n",
       "    .dataframe tbody tr th {\n",
       "        vertical-align: top;\n",
       "    }\n",
       "\n",
       "    .dataframe thead th {\n",
       "        text-align: right;\n",
       "    }\n",
       "</style>\n",
       "<table border=\"1\" class=\"dataframe\">\n",
       "  <thead>\n",
       "    <tr style=\"text-align: right;\">\n",
       "      <th></th>\n",
       "      <th>num_fragments</th>\n",
       "      <th>count</th>\n",
       "      <th>percent</th>\n",
       "    </tr>\n",
       "  </thead>\n",
       "  <tbody>\n",
       "    <tr>\n",
       "      <th>10</th>\n",
       "      <td>11</td>\n",
       "      <td>2</td>\n",
       "      <td>0.01%</td>\n",
       "    </tr>\n",
       "    <tr>\n",
       "      <th>11</th>\n",
       "      <td>13</td>\n",
       "      <td>1</td>\n",
       "      <td>0.00%</td>\n",
       "    </tr>\n",
       "    <tr>\n",
       "      <th>12</th>\n",
       "      <td>15</td>\n",
       "      <td>1</td>\n",
       "      <td>0.00%</td>\n",
       "    </tr>\n",
       "    <tr>\n",
       "      <th>13</th>\n",
       "      <td>16</td>\n",
       "      <td>1</td>\n",
       "      <td>0.00%</td>\n",
       "    </tr>\n",
       "    <tr>\n",
       "      <th>14</th>\n",
       "      <td>17</td>\n",
       "      <td>2</td>\n",
       "      <td>0.01%</td>\n",
       "    </tr>\n",
       "    <tr>\n",
       "      <th>15</th>\n",
       "      <td>22</td>\n",
       "      <td>1</td>\n",
       "      <td>0.00%</td>\n",
       "    </tr>\n",
       "    <tr>\n",
       "      <th>16</th>\n",
       "      <td>25</td>\n",
       "      <td>1</td>\n",
       "      <td>0.00%</td>\n",
       "    </tr>\n",
       "    <tr>\n",
       "      <th>17</th>\n",
       "      <td>32</td>\n",
       "      <td>1</td>\n",
       "      <td>0.00%</td>\n",
       "    </tr>\n",
       "    <tr>\n",
       "      <th>18</th>\n",
       "      <td>34</td>\n",
       "      <td>1</td>\n",
       "      <td>0.00%</td>\n",
       "    </tr>\n",
       "    <tr>\n",
       "      <th>19</th>\n",
       "      <td>64</td>\n",
       "      <td>1</td>\n",
       "      <td>0.00%</td>\n",
       "    </tr>\n",
       "  </tbody>\n",
       "</table>\n",
       "</div>"
      ],
      "text/plain": [
       "    num_fragments  count percent\n",
       "10             11      2   0.01%\n",
       "11             13      1   0.00%\n",
       "12             15      1   0.00%\n",
       "13             16      1   0.00%\n",
       "14             17      2   0.01%\n",
       "15             22      1   0.00%\n",
       "16             25      1   0.00%\n",
       "17             32      1   0.00%\n",
       "18             34      1   0.00%\n",
       "19             64      1   0.00%"
      ]
     },
     "execution_count": 43,
     "metadata": {},
     "output_type": "execute_result"
    }
   ],
   "source": [
    "# TODO: think about whether this can be condensed into a meaniengful table to display alongside the chart\n",
    "docs_per_num_fragments.tail(10)"
   ]
  },
  {
   "cell_type": "code",
   "execution_count": 44,
   "metadata": {
    "colab": {
     "base_uri": "https://localhost:8080/",
     "height": 269
    },
    "id": "MQpmI5MUTECe",
    "outputId": "cc0106b2-f2f2-4b72-ebce-13e6630471e5"
   },
   "outputs": [
    {
     "data": {
      "text/html": [
       "<div>\n",
       "<style scoped>\n",
       "    .dataframe tbody tr th:only-of-type {\n",
       "        vertical-align: middle;\n",
       "    }\n",
       "\n",
       "    .dataframe tbody tr th {\n",
       "        vertical-align: top;\n",
       "    }\n",
       "\n",
       "    .dataframe thead th {\n",
       "        text-align: right;\n",
       "    }\n",
       "</style>\n",
       "<table border=\"1\" class=\"dataframe\">\n",
       "  <thead>\n",
       "    <tr style=\"text-align: right;\">\n",
       "      <th></th>\n",
       "      <th>num_fragments</th>\n",
       "      <th>count</th>\n",
       "      <th>percent</th>\n",
       "    </tr>\n",
       "  </thead>\n",
       "  <tbody>\n",
       "    <tr>\n",
       "      <th>0</th>\n",
       "      <td>1</td>\n",
       "      <td>33644</td>\n",
       "      <td>95.60%</td>\n",
       "    </tr>\n",
       "    <tr>\n",
       "      <th>1</th>\n",
       "      <td>2</td>\n",
       "      <td>1178</td>\n",
       "      <td>3.35%</td>\n",
       "    </tr>\n",
       "    <tr>\n",
       "      <th>2</th>\n",
       "      <td>3</td>\n",
       "      <td>183</td>\n",
       "      <td>0.52%</td>\n",
       "    </tr>\n",
       "    <tr>\n",
       "      <th>3</th>\n",
       "      <td>4</td>\n",
       "      <td>87</td>\n",
       "      <td>0.25%</td>\n",
       "    </tr>\n",
       "    <tr>\n",
       "      <th>4</th>\n",
       "      <td>5</td>\n",
       "      <td>45</td>\n",
       "      <td>0.13%</td>\n",
       "    </tr>\n",
       "    <tr>\n",
       "      <th>5</th>\n",
       "      <td>6</td>\n",
       "      <td>24</td>\n",
       "      <td>0.07%</td>\n",
       "    </tr>\n",
       "    <tr>\n",
       "      <th>6</th>\n",
       "      <td>8-64</td>\n",
       "      <td>25</td>\n",
       "      <td>0.07%</td>\n",
       "    </tr>\n",
       "  </tbody>\n",
       "</table>\n",
       "</div>"
      ],
      "text/plain": [
       "  num_fragments  count percent\n",
       "0             1  33644  95.60%\n",
       "1             2   1178   3.35%\n",
       "2             3    183   0.52%\n",
       "3             4     87   0.25%\n",
       "4             5     45   0.13%\n",
       "5             6     24   0.07%\n",
       "6          8-64     25   0.07%"
      ]
     },
     "execution_count": 44,
     "metadata": {},
     "output_type": "execute_result"
    }
   ],
   "source": [
    "# group for display in a table\n",
    "# - get values for all documents on fewer than 7 fragments\n",
    "docs_per_nfrags = docs_per_num_fragments[docs_per_num_fragments.num_fragments < 7]\n",
    "# - aggregate values for 7+\n",
    "docs_manyfrags = docs_per_num_fragments[docs_per_num_fragments.num_fragments > 7]\n",
    "total_docs_7plusfrags = docs_manyfrags[\"count\"].sum()\n",
    "pct_docs_7plusfrags =  f\"{(total_docs_7plusfrags / total_documents):.2%}\"\n",
    "\n",
    "agg_values = {\"num_fragments\": f\"{docs_manyfrags.num_fragments.min()}-{docs_manyfrags.num_fragments.max()}\", \"count\": total_docs_7plusfrags, \"percent\": pct_docs_7plusfrags}\n",
    "docs_per_nfrags = docs_per_nfrags._append(agg_values, ignore_index=True)\n",
    "docs_per_nfrags"
   ]
  },
  {
   "cell_type": "code",
   "execution_count": 45,
   "metadata": {
    "colab": {
     "base_uri": "https://localhost:8080/"
    },
    "id": "88qzZirRUUCz",
    "outputId": "283111c2-1411-4065-bb40-715b659698ad"
   },
   "outputs": [
    {
     "name": "stdout",
     "output_type": "stream",
     "text": [
      "\\begin{tabular}{lrl}\n",
      "\\toprule\n",
      "num_fragments & count & percent \\\\\n",
      "\\midrule\n",
      "1 & 33644 & 95.60% \\\\\n",
      "2 & 1178 & 3.35% \\\\\n",
      "3 & 183 & 0.52% \\\\\n",
      "4 & 87 & 0.25% \\\\\n",
      "5 & 45 & 0.13% \\\\\n",
      "6 & 24 & 0.07% \\\\\n",
      "8-64 & 25 & 0.07% \\\\\n",
      "\\bottomrule\n",
      "\\end{tabular}\n",
      "\n"
     ]
    }
   ],
   "source": [
    "print(docs_per_nfrags.to_latex(index=False))"
   ]
  },
  {
   "cell_type": "code",
   "execution_count": 46,
   "metadata": {
    "colab": {
     "base_uri": "https://localhost:8080/",
     "height": 365
    },
    "id": "7Xqfd3o1yHGn",
    "outputId": "e1a8cc51-c3da-4604-c46a-aaf386edf8ef"
   },
   "outputs": [
    {
     "data": {
      "text/html": [
       "\n",
       "<style>\n",
       "  #altair-viz-d6e8280715854848a9236f058b5e322d.vega-embed {\n",
       "    width: 100%;\n",
       "    display: flex;\n",
       "  }\n",
       "\n",
       "  #altair-viz-d6e8280715854848a9236f058b5e322d.vega-embed details,\n",
       "  #altair-viz-d6e8280715854848a9236f058b5e322d.vega-embed details summary {\n",
       "    position: relative;\n",
       "  }\n",
       "</style>\n",
       "<div id=\"altair-viz-d6e8280715854848a9236f058b5e322d\"></div>\n",
       "<script type=\"text/javascript\">\n",
       "  var VEGA_DEBUG = (typeof VEGA_DEBUG == \"undefined\") ? {} : VEGA_DEBUG;\n",
       "  (function(spec, embedOpt){\n",
       "    let outputDiv = document.currentScript.previousElementSibling;\n",
       "    if (outputDiv.id !== \"altair-viz-d6e8280715854848a9236f058b5e322d\") {\n",
       "      outputDiv = document.getElementById(\"altair-viz-d6e8280715854848a9236f058b5e322d\");\n",
       "    }\n",
       "\n",
       "    const paths = {\n",
       "      \"vega\": \"https://cdn.jsdelivr.net/npm/vega@5?noext\",\n",
       "      \"vega-lib\": \"https://cdn.jsdelivr.net/npm/vega-lib?noext\",\n",
       "      \"vega-lite\": \"https://cdn.jsdelivr.net/npm/vega-lite@5.20.1?noext\",\n",
       "      \"vega-embed\": \"https://cdn.jsdelivr.net/npm/vega-embed@6?noext\",\n",
       "    };\n",
       "\n",
       "    function maybeLoadScript(lib, version) {\n",
       "      var key = `${lib.replace(\"-\", \"\")}_version`;\n",
       "      return (VEGA_DEBUG[key] == version) ?\n",
       "        Promise.resolve(paths[lib]) :\n",
       "        new Promise(function(resolve, reject) {\n",
       "          var s = document.createElement('script');\n",
       "          document.getElementsByTagName(\"head\")[0].appendChild(s);\n",
       "          s.async = true;\n",
       "          s.onload = () => {\n",
       "            VEGA_DEBUG[key] = version;\n",
       "            return resolve(paths[lib]);\n",
       "          };\n",
       "          s.onerror = () => reject(`Error loading script: ${paths[lib]}`);\n",
       "          s.src = paths[lib];\n",
       "        });\n",
       "    }\n",
       "\n",
       "    function showError(err) {\n",
       "      outputDiv.innerHTML = `<div class=\"error\" style=\"color:red;\">${err}</div>`;\n",
       "      throw err;\n",
       "    }\n",
       "\n",
       "    function displayChart(vegaEmbed) {\n",
       "      vegaEmbed(outputDiv, spec, embedOpt)\n",
       "        .catch(err => showError(`Javascript Error: ${err.message}<br>This usually means there's a typo in your chart specification. See the javascript console for the full traceback.`));\n",
       "    }\n",
       "\n",
       "    if(typeof define === \"function\" && define.amd) {\n",
       "      requirejs.config({paths});\n",
       "      let deps = [\"vega-embed\"];\n",
       "      require(deps, displayChart, err => showError(`Error loading script: ${err.message}`));\n",
       "    } else {\n",
       "      maybeLoadScript(\"vega\", \"5\")\n",
       "        .then(() => maybeLoadScript(\"vega-lite\", \"5.20.1\"))\n",
       "        .then(() => maybeLoadScript(\"vega-embed\", \"6\"))\n",
       "        .catch(showError)\n",
       "        .then(() => displayChart(vegaEmbed));\n",
       "    }\n",
       "  })({\"config\": {\"view\": {\"continuousWidth\": 300, \"continuousHeight\": 300}}, \"data\": {\"name\": \"data-2642cf506e34d52b1d8795f6ea7c291f\"}, \"mark\": {\"type\": \"bar\"}, \"encoding\": {\"x\": {\"field\": \"num_fragments\", \"title\": \"Number of fragments\", \"type\": \"quantitative\"}, \"y\": {\"field\": \"count\", \"scale\": {\"type\": \"symlog\"}, \"title\": \"Documents\", \"type\": \"quantitative\"}}, \"width\": 400, \"$schema\": \"https://vega.github.io/schema/vega-lite/v5.20.1.json\", \"datasets\": {\"data-2642cf506e34d52b1d8795f6ea7c291f\": [{\"num_fragments\": 1, \"count\": 33644, \"percent\": \"95.60%\"}, {\"num_fragments\": 2, \"count\": 1178, \"percent\": \"3.35%\"}, {\"num_fragments\": 3, \"count\": 183, \"percent\": \"0.52%\"}, {\"num_fragments\": 4, \"count\": 87, \"percent\": \"0.25%\"}, {\"num_fragments\": 5, \"count\": 45, \"percent\": \"0.13%\"}, {\"num_fragments\": 6, \"count\": 24, \"percent\": \"0.07%\"}, {\"num_fragments\": 7, \"count\": 8, \"percent\": \"0.02%\"}, {\"num_fragments\": 8, \"count\": 11, \"percent\": \"0.03%\"}, {\"num_fragments\": 9, \"count\": 1, \"percent\": \"0.00%\"}, {\"num_fragments\": 10, \"count\": 1, \"percent\": \"0.00%\"}, {\"num_fragments\": 11, \"count\": 2, \"percent\": \"0.01%\"}, {\"num_fragments\": 13, \"count\": 1, \"percent\": \"0.00%\"}, {\"num_fragments\": 15, \"count\": 1, \"percent\": \"0.00%\"}, {\"num_fragments\": 16, \"count\": 1, \"percent\": \"0.00%\"}, {\"num_fragments\": 17, \"count\": 2, \"percent\": \"0.01%\"}, {\"num_fragments\": 22, \"count\": 1, \"percent\": \"0.00%\"}, {\"num_fragments\": 25, \"count\": 1, \"percent\": \"0.00%\"}, {\"num_fragments\": 32, \"count\": 1, \"percent\": \"0.00%\"}, {\"num_fragments\": 34, \"count\": 1, \"percent\": \"0.00%\"}, {\"num_fragments\": 64, \"count\": 1, \"percent\": \"0.00%\"}]}}, {\"mode\": \"vega-lite\"});\n",
       "</script>"
      ],
      "text/plain": [
       "alt.Chart(...)"
      ]
     },
     "execution_count": 46,
     "metadata": {},
     "output_type": "execute_result"
    }
   ],
   "source": [
    "\n",
    "docs_frags_chart = alt.Chart(docs_per_num_fragments).mark_bar().encode(\n",
    "    x=alt.X('num_fragments', title='Number of fragments'),\n",
    "    y=alt.Y('count', title='Documents').scale(type=\"symlog\")\n",
    ").properties(\n",
    "    # title='Documents by number of fragments',\n",
    "    width=400\n",
    ")\n",
    "docs_frags_chart.save(f'{chart_dir}/documents_per_num_frags.pdf')\n",
    "docs_frags_chart"
   ]
  },
  {
   "attachments": {},
   "cell_type": "markdown",
   "metadata": {
    "id": "1Am5GNhu0gFv"
   },
   "source": [
    "### Fragments by number of documents\n",
    "\n",
    "If we use fragments as our starting point, what is the distribution? How many documents are typically written on a fragment, and are there similar outliers?"
   ]
  },
  {
   "attachments": {},
   "cell_type": "markdown",
   "metadata": {
    "id": "kxZ29iOg0tC-"
   },
   "source": []
  },
  {
   "cell_type": "code",
   "execution_count": 47,
   "metadata": {
    "colab": {
     "base_uri": "https://localhost:8080/"
    },
    "id": "lXvAcABq0h41",
    "outputId": "71aaad11-4cc6-4f12-e28e-b78aef643477"
   },
   "outputs": [
    {
     "name": "stdout",
     "output_type": "stream",
     "text": [
      "35,608 fragments\n"
     ]
    }
   ],
   "source": [
    "fragments = pd.read_csv(pgp_csv_paths[\"fragments\"])\n",
    "total_fragments = fragments.shape[0]\n",
    "\n",
    "print(f\"{total_fragments:,} fragments\")"
   ]
  },
  {
   "attachments": {},
   "cell_type": "markdown",
   "metadata": {
    "id": "DsJdncJJ3o-z"
   },
   "source": [
    "This data export has duplicates! How many?"
   ]
  },
  {
   "cell_type": "code",
   "execution_count": 48,
   "metadata": {
    "colab": {
     "base_uri": "https://localhost:8080/"
    },
    "id": "ShLvNtu23Nvq",
    "outputId": "e91c0d58-1801-4f86-ef9d-901aaf8624fc"
   },
   "outputs": [
    {
     "name": "stdout",
     "output_type": "stream",
     "text": [
      "0 duplicates\n"
     ]
    }
   ],
   "source": [
    "print(f\"{fragments[fragments.duplicated()].shape[0]:,} duplicates\")"
   ]
  },
  {
   "cell_type": "code",
   "execution_count": 49,
   "metadata": {
    "colab": {
     "base_uri": "https://localhost:8080/"
    },
    "id": "pIAAXu4S3VYV",
    "outputId": "b7f26c64-f227-4e75-c43a-145429d71085"
   },
   "outputs": [
    {
     "name": "stdout",
     "output_type": "stream",
     "text": [
      "35,608 fragments\n"
     ]
    }
   ],
   "source": [
    "# drop duplicates for now (but should fix in the data export)\n",
    "\n",
    "uniq_fragments = fragments.drop_duplicates()\n",
    "total_uniq_fragments = uniq_fragments.shape[0]\n",
    "\n",
    "print(f\"{total_uniq_fragments:,} fragments\")"
   ]
  },
  {
   "attachments": {},
   "cell_type": "markdown",
   "metadata": {
    "id": "llz1cjPL06et"
   },
   "source": [
    "The fragments dataset includes a delimited list of associated PGPIDs; we can use that to determine how many documents are associated with a fragment."
   ]
  },
  {
   "cell_type": "code",
   "execution_count": 50,
   "metadata": {
    "colab": {
     "base_uri": "https://localhost:8080/",
     "height": 508
    },
    "id": "mh-JkiEM05hw",
    "outputId": "a4e5e9ff-aa99-4365-9c69-ff1c05038786"
   },
   "outputs": [
    {
     "data": {
      "text/plain": [
       "num_documents\n",
       "1     33786\n",
       "2      1657\n",
       "3        94\n",
       "4        32\n",
       "5        28\n",
       "6         7\n",
       "7         2\n",
       "8         1\n",
       "25        1\n",
       "Name: count, dtype: int64"
      ]
     },
     "execution_count": 50,
     "metadata": {},
     "output_type": "execute_result"
    }
   ],
   "source": [
    "uniq_fragments[\"num_documents\"] = uniq_fragments.pgpids.apply(lambda x : len(x.split(';')))\n",
    "uniq_fragments.num_documents.value_counts()"
   ]
  },
  {
   "attachments": {},
   "cell_type": "markdown",
   "metadata": {
    "id": "bazBqDzG2OLI"
   },
   "source": [
    "What are some examples of fragments with a large number of documents?"
   ]
  },
  {
   "cell_type": "code",
   "execution_count": 51,
   "metadata": {
    "colab": {
     "base_uri": "https://localhost:8080/",
     "height": 175
    },
    "id": "aZ0GZ_ag2U96",
    "outputId": "9cdc8935-ce47-48ff-c36a-610bd04a07f0"
   },
   "outputs": [
    {
     "data": {
      "text/html": [
       "<div>\n",
       "<style scoped>\n",
       "    .dataframe tbody tr th:only-of-type {\n",
       "        vertical-align: middle;\n",
       "    }\n",
       "\n",
       "    .dataframe tbody tr th {\n",
       "        vertical-align: top;\n",
       "    }\n",
       "\n",
       "    .dataframe thead th {\n",
       "        text-align: right;\n",
       "    }\n",
       "</style>\n",
       "<table border=\"1\" class=\"dataframe\">\n",
       "  <thead>\n",
       "    <tr style=\"text-align: right;\">\n",
       "      <th></th>\n",
       "      <th>shelfmark</th>\n",
       "      <th>pgpids</th>\n",
       "      <th>num_documents</th>\n",
       "    </tr>\n",
       "  </thead>\n",
       "  <tbody>\n",
       "    <tr>\n",
       "      <th>16051</th>\n",
       "      <td>NLI 577.1/54</td>\n",
       "      <td>33643 ; 38522 ; 38523 ; 38524 ; 38525 ; 38526 ...</td>\n",
       "      <td>7</td>\n",
       "    </tr>\n",
       "    <tr>\n",
       "      <th>16053</th>\n",
       "      <td>NLI 577.1/56</td>\n",
       "      <td>33645 ; 38528 ; 38528 ; 38529 ; 38529 ; 38530 ...</td>\n",
       "      <td>8</td>\n",
       "    </tr>\n",
       "    <tr>\n",
       "      <th>18451</th>\n",
       "      <td>T-S 13J5.1</td>\n",
       "      <td>1156 ; 2121 ; 6178 ; 39563 ; 39564 ; 39565 ; 3...</td>\n",
       "      <td>7</td>\n",
       "    </tr>\n",
       "    <tr>\n",
       "      <th>22461</th>\n",
       "      <td>T-S Ar.54.19</td>\n",
       "      <td>9248 ; 39116 ; 39117 ; 39118 ; 39119 ; 39120 ;...</td>\n",
       "      <td>25</td>\n",
       "    </tr>\n",
       "  </tbody>\n",
       "</table>\n",
       "</div>"
      ],
      "text/plain": [
       "          shelfmark                                             pgpids  \\\n",
       "16051  NLI 577.1/54  33643 ; 38522 ; 38523 ; 38524 ; 38525 ; 38526 ...   \n",
       "16053  NLI 577.1/56  33645 ; 38528 ; 38528 ; 38529 ; 38529 ; 38530 ...   \n",
       "18451    T-S 13J5.1  1156 ; 2121 ; 6178 ; 39563 ; 39564 ; 39565 ; 3...   \n",
       "22461  T-S Ar.54.19  9248 ; 39116 ; 39117 ; 39118 ; 39119 ; 39120 ;...   \n",
       "\n",
       "       num_documents  \n",
       "16051              7  \n",
       "16053              8  \n",
       "18451              7  \n",
       "22461             25  "
      ]
     },
     "execution_count": 51,
     "metadata": {},
     "output_type": "execute_result"
    }
   ],
   "source": [
    "uniq_fragments[uniq_fragments.num_documents > 6][['shelfmark', 'pgpids', 'num_documents']].head(10)"
   ]
  },
  {
   "cell_type": "code",
   "execution_count": 52,
   "metadata": {
    "colab": {
     "base_uri": "https://localhost:8080/",
     "height": 332
    },
    "id": "Bu9FF-7u1L6K",
    "outputId": "7e286978-3574-4c53-c8ec-fc1f1feb8d41"
   },
   "outputs": [
    {
     "data": {
      "text/html": [
       "<div>\n",
       "<style scoped>\n",
       "    .dataframe tbody tr th:only-of-type {\n",
       "        vertical-align: middle;\n",
       "    }\n",
       "\n",
       "    .dataframe tbody tr th {\n",
       "        vertical-align: top;\n",
       "    }\n",
       "\n",
       "    .dataframe thead th {\n",
       "        text-align: right;\n",
       "    }\n",
       "</style>\n",
       "<table border=\"1\" class=\"dataframe\">\n",
       "  <thead>\n",
       "    <tr style=\"text-align: right;\">\n",
       "      <th></th>\n",
       "      <th>num_documents</th>\n",
       "      <th>fragments</th>\n",
       "      <th>percent</th>\n",
       "    </tr>\n",
       "  </thead>\n",
       "  <tbody>\n",
       "    <tr>\n",
       "      <th>0</th>\n",
       "      <td>1</td>\n",
       "      <td>33786</td>\n",
       "      <td>94.883172</td>\n",
       "    </tr>\n",
       "    <tr>\n",
       "      <th>1</th>\n",
       "      <td>2</td>\n",
       "      <td>1657</td>\n",
       "      <td>4.653449</td>\n",
       "    </tr>\n",
       "    <tr>\n",
       "      <th>2</th>\n",
       "      <td>3</td>\n",
       "      <td>94</td>\n",
       "      <td>0.263986</td>\n",
       "    </tr>\n",
       "    <tr>\n",
       "      <th>3</th>\n",
       "      <td>4</td>\n",
       "      <td>32</td>\n",
       "      <td>0.089867</td>\n",
       "    </tr>\n",
       "    <tr>\n",
       "      <th>4</th>\n",
       "      <td>5</td>\n",
       "      <td>28</td>\n",
       "      <td>0.078634</td>\n",
       "    </tr>\n",
       "    <tr>\n",
       "      <th>5</th>\n",
       "      <td>6</td>\n",
       "      <td>7</td>\n",
       "      <td>0.019659</td>\n",
       "    </tr>\n",
       "    <tr>\n",
       "      <th>6</th>\n",
       "      <td>7</td>\n",
       "      <td>2</td>\n",
       "      <td>0.005617</td>\n",
       "    </tr>\n",
       "    <tr>\n",
       "      <th>7</th>\n",
       "      <td>8</td>\n",
       "      <td>1</td>\n",
       "      <td>0.002808</td>\n",
       "    </tr>\n",
       "    <tr>\n",
       "      <th>8</th>\n",
       "      <td>25</td>\n",
       "      <td>1</td>\n",
       "      <td>0.002808</td>\n",
       "    </tr>\n",
       "  </tbody>\n",
       "</table>\n",
       "</div>"
      ],
      "text/plain": [
       "   num_documents  fragments    percent\n",
       "0              1      33786  94.883172\n",
       "1              2       1657   4.653449\n",
       "2              3         94   0.263986\n",
       "3              4         32   0.089867\n",
       "4              5         28   0.078634\n",
       "5              6          7   0.019659\n",
       "6              7          2   0.005617\n",
       "7              8          1   0.002808\n",
       "8             25          1   0.002808"
      ]
     },
     "execution_count": 52,
     "metadata": {},
     "output_type": "execute_result"
    }
   ],
   "source": [
    "# group by number of documents to aggregrate for plotting\n",
    "frags_per_num_documents = uniq_fragments[['num_documents', 'shelfmark']].groupby('num_documents').count().reset_index().rename(columns={\"shelfmark\": \"fragments\"})\n",
    "# calculate percenatage of total fragements\n",
    "frags_per_num_documents[\"percent\"] = frags_per_num_documents.fragments.apply(lambda x : (x / total_fragments) * 100)\n",
    "frags_per_num_documents"
   ]
  },
  {
   "cell_type": "code",
   "execution_count": 53,
   "metadata": {
    "colab": {
     "base_uri": "https://localhost:8080/",
     "height": 365
    },
    "id": "1l5kYjnd1QSQ",
    "outputId": "347c7a51-4ec7-4766-99f6-249a50d77aa1"
   },
   "outputs": [
    {
     "data": {
      "text/html": [
       "\n",
       "<style>\n",
       "  #altair-viz-d319ec6c7d2240cf9c4445cececc33e9.vega-embed {\n",
       "    width: 100%;\n",
       "    display: flex;\n",
       "  }\n",
       "\n",
       "  #altair-viz-d319ec6c7d2240cf9c4445cececc33e9.vega-embed details,\n",
       "  #altair-viz-d319ec6c7d2240cf9c4445cececc33e9.vega-embed details summary {\n",
       "    position: relative;\n",
       "  }\n",
       "</style>\n",
       "<div id=\"altair-viz-d319ec6c7d2240cf9c4445cececc33e9\"></div>\n",
       "<script type=\"text/javascript\">\n",
       "  var VEGA_DEBUG = (typeof VEGA_DEBUG == \"undefined\") ? {} : VEGA_DEBUG;\n",
       "  (function(spec, embedOpt){\n",
       "    let outputDiv = document.currentScript.previousElementSibling;\n",
       "    if (outputDiv.id !== \"altair-viz-d319ec6c7d2240cf9c4445cececc33e9\") {\n",
       "      outputDiv = document.getElementById(\"altair-viz-d319ec6c7d2240cf9c4445cececc33e9\");\n",
       "    }\n",
       "\n",
       "    const paths = {\n",
       "      \"vega\": \"https://cdn.jsdelivr.net/npm/vega@5?noext\",\n",
       "      \"vega-lib\": \"https://cdn.jsdelivr.net/npm/vega-lib?noext\",\n",
       "      \"vega-lite\": \"https://cdn.jsdelivr.net/npm/vega-lite@5.20.1?noext\",\n",
       "      \"vega-embed\": \"https://cdn.jsdelivr.net/npm/vega-embed@6?noext\",\n",
       "    };\n",
       "\n",
       "    function maybeLoadScript(lib, version) {\n",
       "      var key = `${lib.replace(\"-\", \"\")}_version`;\n",
       "      return (VEGA_DEBUG[key] == version) ?\n",
       "        Promise.resolve(paths[lib]) :\n",
       "        new Promise(function(resolve, reject) {\n",
       "          var s = document.createElement('script');\n",
       "          document.getElementsByTagName(\"head\")[0].appendChild(s);\n",
       "          s.async = true;\n",
       "          s.onload = () => {\n",
       "            VEGA_DEBUG[key] = version;\n",
       "            return resolve(paths[lib]);\n",
       "          };\n",
       "          s.onerror = () => reject(`Error loading script: ${paths[lib]}`);\n",
       "          s.src = paths[lib];\n",
       "        });\n",
       "    }\n",
       "\n",
       "    function showError(err) {\n",
       "      outputDiv.innerHTML = `<div class=\"error\" style=\"color:red;\">${err}</div>`;\n",
       "      throw err;\n",
       "    }\n",
       "\n",
       "    function displayChart(vegaEmbed) {\n",
       "      vegaEmbed(outputDiv, spec, embedOpt)\n",
       "        .catch(err => showError(`Javascript Error: ${err.message}<br>This usually means there's a typo in your chart specification. See the javascript console for the full traceback.`));\n",
       "    }\n",
       "\n",
       "    if(typeof define === \"function\" && define.amd) {\n",
       "      requirejs.config({paths});\n",
       "      let deps = [\"vega-embed\"];\n",
       "      require(deps, displayChart, err => showError(`Error loading script: ${err.message}`));\n",
       "    } else {\n",
       "      maybeLoadScript(\"vega\", \"5\")\n",
       "        .then(() => maybeLoadScript(\"vega-lite\", \"5.20.1\"))\n",
       "        .then(() => maybeLoadScript(\"vega-embed\", \"6\"))\n",
       "        .catch(showError)\n",
       "        .then(() => displayChart(vegaEmbed));\n",
       "    }\n",
       "  })({\"config\": {\"view\": {\"continuousWidth\": 300, \"continuousHeight\": 300}}, \"data\": {\"name\": \"data-1147ecfbc02f816984981b7144ddfe7f\"}, \"mark\": {\"type\": \"bar\"}, \"encoding\": {\"x\": {\"field\": \"num_documents\", \"scale\": {\"zero\": false}, \"title\": \"Number of Documents\", \"type\": \"quantitative\"}, \"y\": {\"field\": \"fragments\", \"scale\": {\"type\": \"symlog\"}, \"title\": \"Fragments\", \"type\": \"quantitative\"}}, \"width\": 400, \"$schema\": \"https://vega.github.io/schema/vega-lite/v5.20.1.json\", \"datasets\": {\"data-1147ecfbc02f816984981b7144ddfe7f\": [{\"num_documents\": 1, \"fragments\": 33786, \"percent\": 94.88317232082679}, {\"num_documents\": 2, \"fragments\": 1657, \"percent\": 4.653448663221748}, {\"num_documents\": 3, \"fragments\": 94, \"percent\": 0.26398562120871716}, {\"num_documents\": 4, \"fragments\": 32, \"percent\": 0.08986744551786115}, {\"num_documents\": 5, \"fragments\": 28, \"percent\": 0.07863401482812851}, {\"num_documents\": 6, \"fragments\": 7, \"percent\": 0.019658503707032128}, {\"num_documents\": 7, \"fragments\": 2, \"percent\": 0.005616715344866322}, {\"num_documents\": 8, \"fragments\": 1, \"percent\": 0.002808357672433161}, {\"num_documents\": 25, \"fragments\": 1, \"percent\": 0.002808357672433161}]}}, {\"mode\": \"vega-lite\"});\n",
       "</script>"
      ],
      "text/plain": [
       "alt.Chart(...)"
      ]
     },
     "execution_count": 53,
     "metadata": {},
     "output_type": "execute_result"
    }
   ],
   "source": [
    "# chart with log scale\n",
    "frags_docs_chart = alt.Chart(frags_per_num_documents).mark_bar().encode(\n",
    "    x=alt.X('num_documents', title='Number of Documents', scale=alt.Scale(zero=False)),\n",
    "    y=alt.Y('fragments', title='Fragments', scale=alt.Scale(type=\"symlog\"))\n",
    ").properties(\n",
    "#    title=\"Fragments by number of documents\",\n",
    "    width=400\n",
    ")\n",
    "frags_docs_chart.save(f'{chart_dir}/fragments_with_num_docs.pdf')\n",
    "frags_docs_chart"
   ]
  },
  {
   "cell_type": "code",
   "execution_count": 54,
   "metadata": {
    "colab": {
     "base_uri": "https://localhost:8080/",
     "height": 367
    },
    "id": "Ocuj5dgl8QcR",
    "outputId": "15203eca-1858-48cc-c5dc-bb58d3f8903b"
   },
   "outputs": [
    {
     "data": {
      "text/html": [
       "\n",
       "<style>\n",
       "  #altair-viz-d6015cab41ef4555ac646859c0c64447.vega-embed {\n",
       "    width: 100%;\n",
       "    display: flex;\n",
       "  }\n",
       "\n",
       "  #altair-viz-d6015cab41ef4555ac646859c0c64447.vega-embed details,\n",
       "  #altair-viz-d6015cab41ef4555ac646859c0c64447.vega-embed details summary {\n",
       "    position: relative;\n",
       "  }\n",
       "</style>\n",
       "<div id=\"altair-viz-d6015cab41ef4555ac646859c0c64447\"></div>\n",
       "<script type=\"text/javascript\">\n",
       "  var VEGA_DEBUG = (typeof VEGA_DEBUG == \"undefined\") ? {} : VEGA_DEBUG;\n",
       "  (function(spec, embedOpt){\n",
       "    let outputDiv = document.currentScript.previousElementSibling;\n",
       "    if (outputDiv.id !== \"altair-viz-d6015cab41ef4555ac646859c0c64447\") {\n",
       "      outputDiv = document.getElementById(\"altair-viz-d6015cab41ef4555ac646859c0c64447\");\n",
       "    }\n",
       "\n",
       "    const paths = {\n",
       "      \"vega\": \"https://cdn.jsdelivr.net/npm/vega@5?noext\",\n",
       "      \"vega-lib\": \"https://cdn.jsdelivr.net/npm/vega-lib?noext\",\n",
       "      \"vega-lite\": \"https://cdn.jsdelivr.net/npm/vega-lite@5.20.1?noext\",\n",
       "      \"vega-embed\": \"https://cdn.jsdelivr.net/npm/vega-embed@6?noext\",\n",
       "    };\n",
       "\n",
       "    function maybeLoadScript(lib, version) {\n",
       "      var key = `${lib.replace(\"-\", \"\")}_version`;\n",
       "      return (VEGA_DEBUG[key] == version) ?\n",
       "        Promise.resolve(paths[lib]) :\n",
       "        new Promise(function(resolve, reject) {\n",
       "          var s = document.createElement('script');\n",
       "          document.getElementsByTagName(\"head\")[0].appendChild(s);\n",
       "          s.async = true;\n",
       "          s.onload = () => {\n",
       "            VEGA_DEBUG[key] = version;\n",
       "            return resolve(paths[lib]);\n",
       "          };\n",
       "          s.onerror = () => reject(`Error loading script: ${paths[lib]}`);\n",
       "          s.src = paths[lib];\n",
       "        });\n",
       "    }\n",
       "\n",
       "    function showError(err) {\n",
       "      outputDiv.innerHTML = `<div class=\"error\" style=\"color:red;\">${err}</div>`;\n",
       "      throw err;\n",
       "    }\n",
       "\n",
       "    function displayChart(vegaEmbed) {\n",
       "      vegaEmbed(outputDiv, spec, embedOpt)\n",
       "        .catch(err => showError(`Javascript Error: ${err.message}<br>This usually means there's a typo in your chart specification. See the javascript console for the full traceback.`));\n",
       "    }\n",
       "\n",
       "    if(typeof define === \"function\" && define.amd) {\n",
       "      requirejs.config({paths});\n",
       "      let deps = [\"vega-embed\"];\n",
       "      require(deps, displayChart, err => showError(`Error loading script: ${err.message}`));\n",
       "    } else {\n",
       "      maybeLoadScript(\"vega\", \"5\")\n",
       "        .then(() => maybeLoadScript(\"vega-lite\", \"5.20.1\"))\n",
       "        .then(() => maybeLoadScript(\"vega-embed\", \"6\"))\n",
       "        .catch(showError)\n",
       "        .then(() => displayChart(vegaEmbed));\n",
       "    }\n",
       "  })({\"config\": {\"view\": {\"continuousWidth\": 300, \"continuousHeight\": 300}}, \"hconcat\": [{\"data\": {\"name\": \"data-2642cf506e34d52b1d8795f6ea7c291f\"}, \"mark\": {\"type\": \"bar\"}, \"encoding\": {\"x\": {\"field\": \"num_fragments\", \"title\": \"Number of fragments\", \"type\": \"quantitative\"}, \"y\": {\"field\": \"count\", \"scale\": {\"type\": \"symlog\"}, \"title\": \"Documents\", \"type\": \"quantitative\"}}, \"width\": 400}, {\"data\": {\"name\": \"data-1147ecfbc02f816984981b7144ddfe7f\"}, \"mark\": {\"type\": \"bar\"}, \"encoding\": {\"x\": {\"field\": \"num_documents\", \"scale\": {\"zero\": false}, \"title\": \"Number of Documents\", \"type\": \"quantitative\"}, \"y\": {\"field\": \"fragments\", \"scale\": {\"type\": \"symlog\"}, \"title\": \"Fragments\", \"type\": \"quantitative\"}}, \"width\": 400}], \"$schema\": \"https://vega.github.io/schema/vega-lite/v5.20.1.json\", \"datasets\": {\"data-2642cf506e34d52b1d8795f6ea7c291f\": [{\"num_fragments\": 1, \"count\": 33644, \"percent\": \"95.60%\"}, {\"num_fragments\": 2, \"count\": 1178, \"percent\": \"3.35%\"}, {\"num_fragments\": 3, \"count\": 183, \"percent\": \"0.52%\"}, {\"num_fragments\": 4, \"count\": 87, \"percent\": \"0.25%\"}, {\"num_fragments\": 5, \"count\": 45, \"percent\": \"0.13%\"}, {\"num_fragments\": 6, \"count\": 24, \"percent\": \"0.07%\"}, {\"num_fragments\": 7, \"count\": 8, \"percent\": \"0.02%\"}, {\"num_fragments\": 8, \"count\": 11, \"percent\": \"0.03%\"}, {\"num_fragments\": 9, \"count\": 1, \"percent\": \"0.00%\"}, {\"num_fragments\": 10, \"count\": 1, \"percent\": \"0.00%\"}, {\"num_fragments\": 11, \"count\": 2, \"percent\": \"0.01%\"}, {\"num_fragments\": 13, \"count\": 1, \"percent\": \"0.00%\"}, {\"num_fragments\": 15, \"count\": 1, \"percent\": \"0.00%\"}, {\"num_fragments\": 16, \"count\": 1, \"percent\": \"0.00%\"}, {\"num_fragments\": 17, \"count\": 2, \"percent\": \"0.01%\"}, {\"num_fragments\": 22, \"count\": 1, \"percent\": \"0.00%\"}, {\"num_fragments\": 25, \"count\": 1, \"percent\": \"0.00%\"}, {\"num_fragments\": 32, \"count\": 1, \"percent\": \"0.00%\"}, {\"num_fragments\": 34, \"count\": 1, \"percent\": \"0.00%\"}, {\"num_fragments\": 64, \"count\": 1, \"percent\": \"0.00%\"}], \"data-1147ecfbc02f816984981b7144ddfe7f\": [{\"num_documents\": 1, \"fragments\": 33786, \"percent\": 94.88317232082679}, {\"num_documents\": 2, \"fragments\": 1657, \"percent\": 4.653448663221748}, {\"num_documents\": 3, \"fragments\": 94, \"percent\": 0.26398562120871716}, {\"num_documents\": 4, \"fragments\": 32, \"percent\": 0.08986744551786115}, {\"num_documents\": 5, \"fragments\": 28, \"percent\": 0.07863401482812851}, {\"num_documents\": 6, \"fragments\": 7, \"percent\": 0.019658503707032128}, {\"num_documents\": 7, \"fragments\": 2, \"percent\": 0.005616715344866322}, {\"num_documents\": 8, \"fragments\": 1, \"percent\": 0.002808357672433161}, {\"num_documents\": 25, \"fragments\": 1, \"percent\": 0.002808357672433161}]}}, {\"mode\": \"vega-lite\"});\n",
       "</script>"
      ],
      "text/plain": [
       "alt.HConcatChart(...)"
      ]
     },
     "execution_count": 54,
     "metadata": {},
     "output_type": "execute_result"
    }
   ],
   "source": [
    "\n",
    "# combine horizontally for display in pdf\n",
    "(docs_frags_chart | frags_docs_chart).save(f'{chart_dir}/docs_frags_2up.pdf')\n",
    "(docs_frags_chart | frags_docs_chart)"
   ]
  }
 ],
 "metadata": {
  "colab": {
   "provenance": []
  },
  "kernelspec": {
   "display_name": "Python 3 (ipykernel)",
   "language": "python",
   "name": "python3"
  },
  "language_info": {
   "codemirror_mode": {
    "name": "ipython",
    "version": 3
   },
   "file_extension": ".py",
   "mimetype": "text/x-python",
   "name": "python",
   "nbconvert_exporter": "python",
   "pygments_lexer": "ipython3",
   "version": "3.12.7"
  }
 },
 "nbformat": 4,
 "nbformat_minor": 4
}
