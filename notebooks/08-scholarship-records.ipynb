{
 "cells": [
  {
   "attachments": {},
   "cell_type": "markdown",
   "metadata": {
    "id": "N58kFKbdXIv2"
   },
   "source": [
    "## Scholarship records"
   ]
  },
  {
   "cell_type": "code",
   "execution_count": 12,
   "metadata": {
    "colab": {
     "base_uri": "https://localhost:8080/",
     "height": 293
    },
    "id": "KkTyrBWjXK9Z",
    "outputId": "e6ff5e80-69dc-4269-d8dc-409d9d0ad935"
   },
   "outputs": [
    {
     "data": {
      "text/html": [
       "<div>\n",
       "<style scoped>\n",
       "    .dataframe tbody tr th:only-of-type {\n",
       "        vertical-align: middle;\n",
       "    }\n",
       "\n",
       "    .dataframe tbody tr th {\n",
       "        vertical-align: top;\n",
       "    }\n",
       "\n",
       "    .dataframe thead th {\n",
       "        text-align: right;\n",
       "    }\n",
       "</style>\n",
       "<table border=\"1\" class=\"dataframe\">\n",
       "  <thead>\n",
       "    <tr style=\"text-align: right;\">\n",
       "      <th></th>\n",
       "      <th>source_type</th>\n",
       "      <th>authors</th>\n",
       "      <th>title</th>\n",
       "      <th>journal_book</th>\n",
       "      <th>volume</th>\n",
       "      <th>issue</th>\n",
       "      <th>year</th>\n",
       "      <th>place_published</th>\n",
       "      <th>publisher</th>\n",
       "      <th>edition</th>\n",
       "      <th>other_info</th>\n",
       "      <th>page_range</th>\n",
       "      <th>languages</th>\n",
       "      <th>url</th>\n",
       "      <th>notes</th>\n",
       "      <th>citation</th>\n",
       "      <th>num_footnotes</th>\n",
       "    </tr>\n",
       "  </thead>\n",
       "  <tbody>\n",
       "    <tr>\n",
       "      <th>0</th>\n",
       "      <td>Unpublished</td>\n",
       "      <td>Masback, Grace</td>\n",
       "      <td>NaN</td>\n",
       "      <td>NaN</td>\n",
       "      <td>NaN</td>\n",
       "      <td>NaN</td>\n",
       "      <td>2020.0</td>\n",
       "      <td>NaN</td>\n",
       "      <td>NaN</td>\n",
       "      <td>NaN</td>\n",
       "      <td>NaN</td>\n",
       "      <td>NaN</td>\n",
       "      <td>NaN</td>\n",
       "      <td>NaN</td>\n",
       "      <td>Created from PGPID 17049</td>\n",
       "      <td>Grace Masback, (2020).</td>\n",
       "      <td>1</td>\n",
       "    </tr>\n",
       "    <tr>\n",
       "      <th>1</th>\n",
       "      <td>Unpublished</td>\n",
       "      <td>Perez, Idan</td>\n",
       "      <td>NaN</td>\n",
       "      <td>NaN</td>\n",
       "      <td>NaN</td>\n",
       "      <td>NaN</td>\n",
       "      <td>NaN</td>\n",
       "      <td>NaN</td>\n",
       "      <td>NaN</td>\n",
       "      <td>NaN</td>\n",
       "      <td>NaN</td>\n",
       "      <td>NaN</td>\n",
       "      <td>NaN</td>\n",
       "      <td>NaN</td>\n",
       "      <td>Created from PGPID 31295</td>\n",
       "      <td>Idan Perez.</td>\n",
       "      <td>3</td>\n",
       "    </tr>\n",
       "    <tr>\n",
       "      <th>2</th>\n",
       "      <td>Unpublished</td>\n",
       "      <td>Diem, Werner</td>\n",
       "      <td>NaN</td>\n",
       "      <td>NaN</td>\n",
       "      <td>NaN</td>\n",
       "      <td>NaN</td>\n",
       "      <td>NaN</td>\n",
       "      <td>NaN</td>\n",
       "      <td>NaN</td>\n",
       "      <td>NaN</td>\n",
       "      <td>NaN</td>\n",
       "      <td>NaN</td>\n",
       "      <td>German</td>\n",
       "      <td>NaN</td>\n",
       "      <td>Created from PGPID 31584</td>\n",
       "      <td>Werner Diem.</td>\n",
       "      <td>5</td>\n",
       "    </tr>\n",
       "    <tr>\n",
       "      <th>3</th>\n",
       "      <td>Unpublished</td>\n",
       "      <td>Cobb, Paul ; Rustow, Marina</td>\n",
       "      <td>NaN</td>\n",
       "      <td>NaN</td>\n",
       "      <td>NaN</td>\n",
       "      <td>NaN</td>\n",
       "      <td>NaN</td>\n",
       "      <td>NaN</td>\n",
       "      <td>NaN</td>\n",
       "      <td>NaN</td>\n",
       "      <td>NaN</td>\n",
       "      <td>NaN</td>\n",
       "      <td>NaN</td>\n",
       "      <td>NaN</td>\n",
       "      <td>Created from PGPID 30837</td>\n",
       "      <td>Paul Cobb and Marina Rustow.</td>\n",
       "      <td>1</td>\n",
       "    </tr>\n",
       "    <tr>\n",
       "      <th>4</th>\n",
       "      <td>Unpublished</td>\n",
       "      <td>Khan, Geoffrey ; Rustow, Marina</td>\n",
       "      <td>NaN</td>\n",
       "      <td>NaN</td>\n",
       "      <td>NaN</td>\n",
       "      <td>NaN</td>\n",
       "      <td>NaN</td>\n",
       "      <td>NaN</td>\n",
       "      <td>NaN</td>\n",
       "      <td>NaN</td>\n",
       "      <td>NaN</td>\n",
       "      <td>NaN</td>\n",
       "      <td>NaN</td>\n",
       "      <td>NaN</td>\n",
       "      <td>Created from PGPID 30838</td>\n",
       "      <td>Geoffrey Khan and Marina Rustow.</td>\n",
       "      <td>2</td>\n",
       "    </tr>\n",
       "  </tbody>\n",
       "</table>\n",
       "</div>"
      ],
      "text/plain": [
       "   source_type                          authors title journal_book volume  \\\n",
       "0  Unpublished                   Masback, Grace   NaN          NaN    NaN   \n",
       "1  Unpublished                      Perez, Idan   NaN          NaN    NaN   \n",
       "2  Unpublished                     Diem, Werner   NaN          NaN    NaN   \n",
       "3  Unpublished      Cobb, Paul ; Rustow, Marina   NaN          NaN    NaN   \n",
       "4  Unpublished  Khan, Geoffrey ; Rustow, Marina   NaN          NaN    NaN   \n",
       "\n",
       "   issue    year place_published publisher  edition other_info page_range  \\\n",
       "0    NaN  2020.0             NaN       NaN      NaN        NaN        NaN   \n",
       "1    NaN     NaN             NaN       NaN      NaN        NaN        NaN   \n",
       "2    NaN     NaN             NaN       NaN      NaN        NaN        NaN   \n",
       "3    NaN     NaN             NaN       NaN      NaN        NaN        NaN   \n",
       "4    NaN     NaN             NaN       NaN      NaN        NaN        NaN   \n",
       "\n",
       "  languages  url                     notes                          citation  \\\n",
       "0       NaN  NaN  Created from PGPID 17049            Grace Masback, (2020).   \n",
       "1       NaN  NaN  Created from PGPID 31295                       Idan Perez.   \n",
       "2    German  NaN  Created from PGPID 31584                      Werner Diem.   \n",
       "3       NaN  NaN  Created from PGPID 30837      Paul Cobb and Marina Rustow.   \n",
       "4       NaN  NaN  Created from PGPID 30838  Geoffrey Khan and Marina Rustow.   \n",
       "\n",
       "   num_footnotes  \n",
       "0              1  \n",
       "1              3  \n",
       "2              5  \n",
       "3              1  \n",
       "4              2  "
      ]
     },
     "execution_count": 12,
     "metadata": {},
     "output_type": "execute_result"
    }
   ],
   "source": [
    "import pandas as pd\n",
    "import altair as alt\n",
    "\n",
    "from utils import pgp_csv_paths\n",
    "\n",
    "sources = pd.read_csv(pgp_csv_paths[\"sources\"])\n",
    "sources.head()"
   ]
  },
  {
   "cell_type": "code",
   "execution_count": 13,
   "metadata": {
    "colab": {
     "base_uri": "https://localhost:8080/"
    },
    "id": "ORkPYRFwXpII",
    "outputId": "7d7479fb-c1b2-432a-810f-8f755079eb10"
   },
   "outputs": [
    {
     "name": "stdout",
     "output_type": "stream",
     "text": [
      "679 sources\n"
     ]
    }
   ],
   "source": [
    "print(f\"{sources.shape[0]:,} sources\")"
   ]
  },
  {
   "cell_type": "code",
   "execution_count": 14,
   "metadata": {
    "colab": {
     "base_uri": "https://localhost:8080/",
     "height": 238
    },
    "id": "AD8SaZN5XuW3",
    "outputId": "ebe7c3a8-cd4d-4c49-a1f8-2291dd20cbf5"
   },
   "outputs": [
    {
     "data": {
      "text/html": [
       "<div>\n",
       "<style scoped>\n",
       "    .dataframe tbody tr th:only-of-type {\n",
       "        vertical-align: middle;\n",
       "    }\n",
       "\n",
       "    .dataframe tbody tr th {\n",
       "        vertical-align: top;\n",
       "    }\n",
       "\n",
       "    .dataframe thead th {\n",
       "        text-align: right;\n",
       "    }\n",
       "</style>\n",
       "<table border=\"1\" class=\"dataframe\">\n",
       "  <thead>\n",
       "    <tr style=\"text-align: right;\">\n",
       "      <th></th>\n",
       "      <th>source_type</th>\n",
       "      <th>count</th>\n",
       "    </tr>\n",
       "  </thead>\n",
       "  <tbody>\n",
       "    <tr>\n",
       "      <th>0</th>\n",
       "      <td>Unpublished</td>\n",
       "      <td>264</td>\n",
       "    </tr>\n",
       "    <tr>\n",
       "      <th>1</th>\n",
       "      <td>Article</td>\n",
       "      <td>245</td>\n",
       "    </tr>\n",
       "    <tr>\n",
       "      <th>2</th>\n",
       "      <td>Book</td>\n",
       "      <td>94</td>\n",
       "    </tr>\n",
       "    <tr>\n",
       "      <th>3</th>\n",
       "      <td>Book Section</td>\n",
       "      <td>55</td>\n",
       "    </tr>\n",
       "    <tr>\n",
       "      <th>4</th>\n",
       "      <td>Dissertation</td>\n",
       "      <td>20</td>\n",
       "    </tr>\n",
       "    <tr>\n",
       "      <th>5</th>\n",
       "      <td>Blog</td>\n",
       "      <td>1</td>\n",
       "    </tr>\n",
       "  </tbody>\n",
       "</table>\n",
       "</div>"
      ],
      "text/plain": [
       "    source_type  count\n",
       "0   Unpublished    264\n",
       "1       Article    245\n",
       "2          Book     94\n",
       "3  Book Section     55\n",
       "4  Dissertation     20\n",
       "5          Blog      1"
      ]
     },
     "execution_count": 14,
     "metadata": {},
     "output_type": "execute_result"
    }
   ],
   "source": [
    "sources.source_type.value_counts().reset_index()"
   ]
  },
  {
   "cell_type": "code",
   "execution_count": 15,
   "metadata": {
    "colab": {
     "base_uri": "https://localhost:8080/",
     "height": 238
    },
    "id": "T4r4MwVkp0cS",
    "outputId": "53e093a6-470d-4877-b051-9bfe5614c090"
   },
   "outputs": [
    {
     "data": {
      "text/html": [
       "<div>\n",
       "<style scoped>\n",
       "    .dataframe tbody tr th:only-of-type {\n",
       "        vertical-align: middle;\n",
       "    }\n",
       "\n",
       "    .dataframe tbody tr th {\n",
       "        vertical-align: top;\n",
       "    }\n",
       "\n",
       "    .dataframe thead th {\n",
       "        text-align: right;\n",
       "    }\n",
       "</style>\n",
       "<table border=\"1\" class=\"dataframe\">\n",
       "  <thead>\n",
       "    <tr style=\"text-align: right;\">\n",
       "      <th></th>\n",
       "      <th>Type</th>\n",
       "      <th>Sources</th>\n",
       "      <th>Footnotes</th>\n",
       "    </tr>\n",
       "  </thead>\n",
       "  <tbody>\n",
       "    <tr>\n",
       "      <th>5</th>\n",
       "      <td>Unpublished</td>\n",
       "      <td>264</td>\n",
       "      <td>14908</td>\n",
       "    </tr>\n",
       "    <tr>\n",
       "      <th>0</th>\n",
       "      <td>Article</td>\n",
       "      <td>245</td>\n",
       "      <td>665</td>\n",
       "    </tr>\n",
       "    <tr>\n",
       "      <th>2</th>\n",
       "      <td>Book</td>\n",
       "      <td>94</td>\n",
       "      <td>6834</td>\n",
       "    </tr>\n",
       "    <tr>\n",
       "      <th>3</th>\n",
       "      <td>Book Section</td>\n",
       "      <td>55</td>\n",
       "      <td>217</td>\n",
       "    </tr>\n",
       "    <tr>\n",
       "      <th>4</th>\n",
       "      <td>Dissertation</td>\n",
       "      <td>20</td>\n",
       "      <td>934</td>\n",
       "    </tr>\n",
       "    <tr>\n",
       "      <th>1</th>\n",
       "      <td>Blog</td>\n",
       "      <td>1</td>\n",
       "      <td>1</td>\n",
       "    </tr>\n",
       "  </tbody>\n",
       "</table>\n",
       "</div>"
      ],
      "text/plain": [
       "           Type  Sources  Footnotes\n",
       "5   Unpublished      264      14908\n",
       "0       Article      245        665\n",
       "2          Book       94       6834\n",
       "3  Book Section       55        217\n",
       "4  Dissertation       20        934\n",
       "1          Blog        1          1"
      ]
     },
     "execution_count": 15,
     "metadata": {},
     "output_type": "execute_result"
    }
   ],
   "source": [
    "source_totals = sources.groupby('source_type').agg(\n",
    "    count=pd.NamedAgg(column=\"source_type\", aggfunc=\"count\"),\n",
    "    num_footnotes=pd.NamedAgg(column='num_footnotes', aggfunc='sum')\n",
    "    ).reset_index()\n",
    "source_totals = source_totals.sort_values('count', ascending=False)\n",
    "source_totals = source_totals.rename(columns={\"source_type\": \"Type\", \"count\": \"Sources\", \"num_footnotes\": \"Footnotes\"})\n",
    "source_totals"
   ]
  },
  {
   "cell_type": "code",
   "execution_count": 16,
   "metadata": {
    "colab": {
     "base_uri": "https://localhost:8080/"
    },
    "id": "1Ipj2AXnqqt9",
    "outputId": "209c7716-3efc-4d51-a2f4-03cfff216b30"
   },
   "outputs": [
    {
     "name": "stdout",
     "output_type": "stream",
     "text": [
      "\\begin{tabular}{lrr}\n",
      "\\toprule\n",
      "Type & Sources & Footnotes \\\\\n",
      "\\midrule\n",
      "Unpublished & 264 & 14908 \\\\\n",
      "Article & 245 & 665 \\\\\n",
      "Book & 94 & 6834 \\\\\n",
      "Book Section & 55 & 217 \\\\\n",
      "Dissertation & 20 & 934 \\\\\n",
      "Blog & 1 & 1 \\\\\n",
      "\\bottomrule\n",
      "\\end{tabular}\n",
      "\n"
     ]
    }
   ],
   "source": [
    "print(source_totals.to_latex(index=False))"
   ]
  },
  {
   "cell_type": "code",
   "execution_count": 17,
   "metadata": {
    "colab": {
     "base_uri": "https://localhost:8080/",
     "height": 424
    },
    "id": "i_dlmr9hX2f9",
    "outputId": "cb6ee93a-da4d-42ef-adb5-cc3f1437938b"
   },
   "outputs": [
    {
     "data": {
      "text/html": [
       "<div>\n",
       "<style scoped>\n",
       "    .dataframe tbody tr th:only-of-type {\n",
       "        vertical-align: middle;\n",
       "    }\n",
       "\n",
       "    .dataframe tbody tr th {\n",
       "        vertical-align: top;\n",
       "    }\n",
       "\n",
       "    .dataframe thead th {\n",
       "        text-align: right;\n",
       "    }\n",
       "</style>\n",
       "<table border=\"1\" class=\"dataframe\">\n",
       "  <thead>\n",
       "    <tr style=\"text-align: right;\">\n",
       "      <th></th>\n",
       "      <th>num_footnotes</th>\n",
       "      <th>count</th>\n",
       "    </tr>\n",
       "  </thead>\n",
       "  <tbody>\n",
       "    <tr>\n",
       "      <th>4</th>\n",
       "      <td>0</td>\n",
       "      <td>22</td>\n",
       "    </tr>\n",
       "    <tr>\n",
       "      <th>0</th>\n",
       "      <td>1</td>\n",
       "      <td>231</td>\n",
       "    </tr>\n",
       "    <tr>\n",
       "      <th>1</th>\n",
       "      <td>2</td>\n",
       "      <td>115</td>\n",
       "    </tr>\n",
       "    <tr>\n",
       "      <th>2</th>\n",
       "      <td>3</td>\n",
       "      <td>47</td>\n",
       "    </tr>\n",
       "    <tr>\n",
       "      <th>3</th>\n",
       "      <td>4</td>\n",
       "      <td>33</td>\n",
       "    </tr>\n",
       "    <tr>\n",
       "      <th>5</th>\n",
       "      <td>5</td>\n",
       "      <td>21</td>\n",
       "    </tr>\n",
       "    <tr>\n",
       "      <th>6</th>\n",
       "      <td>6</td>\n",
       "      <td>16</td>\n",
       "    </tr>\n",
       "    <tr>\n",
       "      <th>8</th>\n",
       "      <td>7</td>\n",
       "      <td>10</td>\n",
       "    </tr>\n",
       "    <tr>\n",
       "      <th>9</th>\n",
       "      <td>8</td>\n",
       "      <td>9</td>\n",
       "    </tr>\n",
       "    <tr>\n",
       "      <th>11</th>\n",
       "      <td>9</td>\n",
       "      <td>7</td>\n",
       "    </tr>\n",
       "  </tbody>\n",
       "</table>\n",
       "</div>"
      ],
      "text/plain": [
       "    num_footnotes  count\n",
       "4               0     22\n",
       "0               1    231\n",
       "1               2    115\n",
       "2               3     47\n",
       "3               4     33\n",
       "5               5     21\n",
       "6               6     16\n",
       "8               7     10\n",
       "9               8      9\n",
       "11              9      7"
      ]
     },
     "execution_count": 17,
     "metadata": {},
     "output_type": "execute_result"
    }
   ],
   "source": [
    "# how many documents do sources relate to?\n",
    "# goitein sources - split out into volumes to wrangle the scale\n",
    "# what does it look like if we leave Goitein out?\n",
    "\n",
    "sources.num_footnotes.value_counts().reset_index().sort_values(\"num_footnotes\").head(10)"
   ]
  },
  {
   "cell_type": "code",
   "execution_count": 18,
   "metadata": {
    "colab": {
     "base_uri": "https://localhost:8080/",
     "height": 424
    },
    "id": "hz81r98vZwXt",
    "outputId": "ab1169ee-88b3-434a-d9c9-aa4738e5f038"
   },
   "outputs": [
    {
     "data": {
      "text/html": [
       "<div>\n",
       "<style scoped>\n",
       "    .dataframe tbody tr th:only-of-type {\n",
       "        vertical-align: middle;\n",
       "    }\n",
       "\n",
       "    .dataframe tbody tr th {\n",
       "        vertical-align: top;\n",
       "    }\n",
       "\n",
       "    .dataframe thead th {\n",
       "        text-align: right;\n",
       "    }\n",
       "</style>\n",
       "<table border=\"1\" class=\"dataframe\">\n",
       "  <thead>\n",
       "    <tr style=\"text-align: right;\">\n",
       "      <th></th>\n",
       "      <th>source_type</th>\n",
       "      <th>title</th>\n",
       "      <th>author</th>\n",
       "    </tr>\n",
       "  </thead>\n",
       "  <tbody>\n",
       "    <tr>\n",
       "      <th>0</th>\n",
       "      <td>Unpublished</td>\n",
       "      <td>NaN</td>\n",
       "      <td>Masback, Grace</td>\n",
       "    </tr>\n",
       "    <tr>\n",
       "      <th>1</th>\n",
       "      <td>Unpublished</td>\n",
       "      <td>NaN</td>\n",
       "      <td>Perez, Idan</td>\n",
       "    </tr>\n",
       "    <tr>\n",
       "      <th>2</th>\n",
       "      <td>Unpublished</td>\n",
       "      <td>NaN</td>\n",
       "      <td>Diem, Werner</td>\n",
       "    </tr>\n",
       "    <tr>\n",
       "      <th>3</th>\n",
       "      <td>Unpublished</td>\n",
       "      <td>NaN</td>\n",
       "      <td>Cobb, Paul</td>\n",
       "    </tr>\n",
       "    <tr>\n",
       "      <th>3</th>\n",
       "      <td>Unpublished</td>\n",
       "      <td>NaN</td>\n",
       "      <td>Rustow, Marina</td>\n",
       "    </tr>\n",
       "    <tr>\n",
       "      <th>4</th>\n",
       "      <td>Unpublished</td>\n",
       "      <td>NaN</td>\n",
       "      <td>Khan, Geoffrey</td>\n",
       "    </tr>\n",
       "    <tr>\n",
       "      <th>4</th>\n",
       "      <td>Unpublished</td>\n",
       "      <td>NaN</td>\n",
       "      <td>Rustow, Marina</td>\n",
       "    </tr>\n",
       "    <tr>\n",
       "      <th>5</th>\n",
       "      <td>Unpublished</td>\n",
       "      <td>NaN</td>\n",
       "      <td>Zinger, Oded</td>\n",
       "    </tr>\n",
       "    <tr>\n",
       "      <th>6</th>\n",
       "      <td>Unpublished</td>\n",
       "      <td>NaN</td>\n",
       "      <td>Marglin, J.</td>\n",
       "    </tr>\n",
       "    <tr>\n",
       "      <th>7</th>\n",
       "      <td>Unpublished</td>\n",
       "      <td>NaN</td>\n",
       "      <td>Margariti, R. E.</td>\n",
       "    </tr>\n",
       "  </tbody>\n",
       "</table>\n",
       "</div>"
      ],
      "text/plain": [
       "   source_type title            author\n",
       "0  Unpublished   NaN    Masback, Grace\n",
       "1  Unpublished   NaN       Perez, Idan\n",
       "2  Unpublished   NaN      Diem, Werner\n",
       "3  Unpublished   NaN        Cobb, Paul\n",
       "3  Unpublished   NaN    Rustow, Marina\n",
       "4  Unpublished   NaN    Khan, Geoffrey\n",
       "4  Unpublished   NaN    Rustow, Marina\n",
       "5  Unpublished   NaN      Zinger, Oded\n",
       "6  Unpublished   NaN       Marglin, J.\n",
       "7  Unpublished   NaN  Margariti, R. E."
      ]
     },
     "execution_count": 18,
     "metadata": {},
     "output_type": "execute_result"
    }
   ],
   "source": [
    "source_authors = sources.copy()\n",
    "source_authors[\"author_list\"] = sources.authors.apply(lambda x : x.split(';') if pd.notna(x) else None)\n",
    "source_authors.head()\n",
    "source_authors = source_authors[['source_type', 'title', 'author_list']].explode(\"author_list\").rename(columns={\"author_list\": \"author\"})\n",
    "# filter out unset authors\n",
    "source_authors = source_authors[source_authors.author.notna()]\n",
    "\n",
    "source_authors[\"author\"] = source_authors.author.apply(lambda x: x.strip())\n",
    "source_authors.head(10)"
   ]
  },
  {
   "cell_type": "code",
   "execution_count": 19,
   "metadata": {
    "colab": {
     "base_uri": "https://localhost:8080/"
    },
    "id": "yQ-EotIAayX-",
    "outputId": "6ac1a880-9e6d-4f5d-fde1-6e32f014c13c"
   },
   "outputs": [
    {
     "name": "stdout",
     "output_type": "stream",
     "text": [
      "183 unique authors\n"
     ]
    }
   ],
   "source": [
    "print(f\"{len(source_authors.author.unique()):,} unique authors\")"
   ]
  },
  {
   "cell_type": "code",
   "execution_count": 20,
   "metadata": {
    "colab": {
     "base_uri": "https://localhost:8080/",
     "height": 492
    },
    "id": "N2eZFl87bDKV",
    "outputId": "c74555a9-9d4e-4c8f-9f34-8ea5317022c7"
   },
   "outputs": [
    {
     "data": {
      "text/plain": [
       "author\n",
       "Goitein, S. D.               197\n",
       "Elbaum, Alan                  64\n",
       "Rustow, Marina                61\n",
       "Umrethwala, Yusuf             42\n",
       "Friedman, Mordechai Akiva     41\n",
       "Gil, Moshe                    19\n",
       "Ashur, Amir                   18\n",
       "Khan, Geoffrey                16\n",
       "Vanthieghem, Naïm             14\n",
       "Zinger, Oded                  13\n",
       "David, Avraham                12\n",
       "Cohen, Mark                   11\n",
       "Name: count, dtype: int64"
      ]
     },
     "execution_count": 20,
     "metadata": {},
     "output_type": "execute_result"
    }
   ],
   "source": [
    "source_authors.author.value_counts().head(12)"
   ]
  }
 ],
 "metadata": {
  "colab": {
   "provenance": []
  },
  "kernelspec": {
   "display_name": "Python 3 (ipykernel)",
   "language": "python",
   "name": "python3"
  },
  "language_info": {
   "codemirror_mode": {
    "name": "ipython",
    "version": 3
   },
   "file_extension": ".py",
   "mimetype": "text/x-python",
   "name": "python",
   "nbconvert_exporter": "python",
   "pygments_lexer": "ipython3",
   "version": "3.12.7"
  }
 },
 "nbformat": 4,
 "nbformat_minor": 4
}
