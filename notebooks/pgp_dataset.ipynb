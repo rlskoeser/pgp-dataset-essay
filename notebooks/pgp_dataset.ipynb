{
 "cells": [
  {
   "cell_type": "markdown",
   "metadata": {
    "id": "f2fVHtTZvXrm"
   },
   "source": [
    "# PGP Dataset essay\n",
    "\n",
    "This notebook generates charts and numbers based on PGP datasets for the essay about the data."
   ]
  },
  {
   "cell_type": "code",
   "execution_count": null,
   "metadata": {
    "id": "4DwnCEEJvOK_"
   },
   "outputs": [],
   "source": [
    "# for convenience, a copy of the 1.0 data is included in this repository\n",
    "# path is relative to the notebook file\n",
    "data_path = \"../data/\"\n",
    "\n",
    "# To run against latest pgp metadata, load by URL from pgp-metadata repo\n",
    "#data_path = \"https://github.com/princetongenizalab/pgp-metadata/raw/main/data/\"\n",
    "pgp_csvs = {\n",
    "    \"documents\": f\"{data_path}documents.csv\",\n",
    "    \"fragments\": f\"{data_path}fragments.csv\",\n",
    "    \"sources\": f\"{data_path}sources.csv\",\n",
    "    \"footnotes\": f\"{data_path}footnotes.csv\"\n",
    "}"
   ]
  },
  {
   "cell_type": "markdown",
   "metadata": {
    "id": "tC1a18Cmvrrx"
   },
   "source": [
    "## Documents and Fragments"
   ]
  },
  {
   "cell_type": "code",
   "execution_count": null,
   "metadata": {
    "id": "mvgYWyMsvuZO"
   },
   "outputs": [],
   "source": [
    "import pandas as pd\n",
    "\n",
    "documents = pd.read_csv(pgp_csvs[\"documents\"])"
   ]
  },
  {
   "cell_type": "code",
   "execution_count": null,
   "metadata": {
    "id": "gBipCmXBgoPt"
   },
   "outputs": [],
   "source": [
    "# create a dict to collect numbers for inclusion in the dataset essay\n",
    "essay_numbers = {}"
   ]
  },
  {
   "cell_type": "code",
   "execution_count": null,
   "metadata": {
    "colab": {
     "base_uri": "https://localhost:8080/"
    },
    "id": "fx_iDk4mwYCa",
    "outputId": "e88fa979-293c-4824-ed3c-8b75d445a99e"
   },
   "outputs": [],
   "source": [
    "total_documents = documents.shape[0]\n",
    "essay_numbers[\"totalDocuments\"] = f\"{total_documents:,}\"\n",
    "print(f\"{total_documents:,} total documents\")"
   ]
  },
  {
   "cell_type": "markdown",
   "metadata": {
    "id": "_KR3fqhLv1Gr"
   },
   "source": [
    "### Documents by number of fragments\n",
    "\n",
    "How many fragments are typically used to compose a single document?\n",
    "\n",
    "The `shelfmark` field in the data is a composite field; a \" + \" is used to indicate multiple shelfmarks.\n",
    "\n",
    "NOTE: this does not account for shelfmark overrides, e.g. ranges of shelfmarks."
   ]
  },
  {
   "cell_type": "code",
   "execution_count": null,
   "metadata": {
    "colab": {
     "base_uri": "https://localhost:8080/",
     "height": 429
    },
    "id": "hR5qbu7Jv-0Q",
    "outputId": "70a0ddfe-58ad-4f54-dda6-d1d2b2c64cf5"
   },
   "outputs": [],
   "source": [
    "documents_fragments = documents.copy()\n",
    "\n",
    "documents_fragments[\"fragments\"] = documents_fragments.shelfmark.apply(lambda x : x.split(' + '))\n",
    "documents_fragments[\"num_fragments\"] = documents_fragments.fragments.apply(lambda x : len(x))\n",
    "documents_fragments.num_fragments.value_counts().head(10)"
   ]
  },
  {
   "cell_type": "markdown",
   "metadata": {
    "id": "7KjSpdFtyqNt"
   },
   "source": [
    "What percent of documents occur on a single fragment?"
   ]
  },
  {
   "cell_type": "code",
   "execution_count": null,
   "metadata": {
    "colab": {
     "base_uri": "https://localhost:8080/"
    },
    "id": "mgN4f7gmypkb",
    "outputId": "dce50cf0-5360-426c-b64b-8dd2f96b7ed1"
   },
   "outputs": [],
   "source": [
    "single_frag_docs = documents_fragments[documents_fragments.num_fragments == 1].shape[0]\n",
    "essay_numbers[\"singleFragmentDocuments\"] = f\"{single_frag_docs:,}\"\n",
    "single_frag_docs"
   ]
  },
  {
   "cell_type": "code",
   "execution_count": null,
   "metadata": {
    "colab": {
     "base_uri": "https://localhost:8080/"
    },
    "id": "Twu05raHh6Nh",
    "outputId": "e3222a04-c1cb-4023-efc6-889fa5f0c650"
   },
   "outputs": [],
   "source": [
    "joins = documents_fragments[documents_fragments.num_fragments > 1].shape[0]\n",
    "essay_numbers[\"totalJoins\"] = f\"{joins:,}\"\n",
    "print(f\"{joins:,} total joins\")"
   ]
  },
  {
   "cell_type": "markdown",
   "metadata": {
    "id": "YGgCcVqwyVBI"
   },
   "source": [
    "What are some examples of documents that span more than 6 fragments?"
   ]
  },
  {
   "cell_type": "code",
   "execution_count": null,
   "metadata": {
    "colab": {
     "base_uri": "https://localhost:8080/",
     "height": 363
    },
    "id": "21RK8wohxwMW",
    "outputId": "300b902c-4f80-4019-d3b9-ce6f21c35203"
   },
   "outputs": [],
   "source": [
    "documents_fragments[documents_fragments.num_fragments > 6][['pgpid', 'shelfmark', 'type', 'description', ]].head(10)"
   ]
  },
  {
   "cell_type": "code",
   "execution_count": null,
   "metadata": {
    "colab": {
     "base_uri": "https://localhost:8080/",
     "height": 363
    },
    "id": "aQMkGrYGyMsR",
    "outputId": "d4ff6007-ec4d-4cba-d77f-d0dd9d483297"
   },
   "outputs": [],
   "source": [
    "# aggregate documents by the number of fragments they span, for graphing\n",
    "docs_per_num_fragments = documents_fragments[['num_fragments', 'pgpid']].groupby('num_fragments').count().reset_index().rename(columns={\"pgpid\": \"count\"})\n",
    "# calculate a percentage of the total\n",
    "docs_per_num_fragments[\"percent\"] = docs_per_num_fragments[\"count\"].apply(lambda x : f\"{(x / total_documents):.2%}\")\n",
    "\n",
    "docs_per_num_fragments.head(10)"
   ]
  },
  {
   "cell_type": "markdown",
   "metadata": {
    "id": "-csEnkRbzYKW"
   },
   "source": [
    "What does the long tail look like, of documents spanning a large number of fragments?"
   ]
  },
  {
   "cell_type": "code",
   "execution_count": null,
   "metadata": {
    "colab": {
     "base_uri": "https://localhost:8080/",
     "height": 363
    },
    "id": "RfOFf0zazU35",
    "outputId": "a814d39f-a9b5-47d2-dab8-f05da47aa492"
   },
   "outputs": [],
   "source": [
    "# TODO: think about whether this can be condensed into a meaniengful table to display alongside the chart\n",
    "docs_per_num_fragments.tail(10)"
   ]
  },
  {
   "cell_type": "code",
   "execution_count": null,
   "metadata": {
    "colab": {
     "base_uri": "https://localhost:8080/",
     "height": 269
    },
    "id": "MQpmI5MUTECe",
    "outputId": "cc0106b2-f2f2-4b72-ebce-13e6630471e5"
   },
   "outputs": [],
   "source": [
    "# group for display in a table\n",
    "# - get values for all documents on fewer than 7 fragments\n",
    "docs_per_nfrags = docs_per_num_fragments[docs_per_num_fragments.num_fragments < 7]\n",
    "# - aggregate values for 7+\n",
    "docs_manyfrags = docs_per_num_fragments[docs_per_num_fragments.num_fragments > 7]\n",
    "total_docs_7plusfrags = docs_manyfrags[\"count\"].sum()\n",
    "pct_docs_7plusfrags =  f\"{(total_docs_7plusfrags / total_documents):.2%}\"\n",
    "\n",
    "agg_values = {\"num_fragments\": f\"{docs_manyfrags.num_fragments.min()}-{docs_manyfrags.num_fragments.max()}\", \"count\": total_docs_7plusfrags, \"percent\": pct_docs_7plusfrags}\n",
    "docs_per_nfrags = docs_per_nfrags._append(agg_values, ignore_index=True)\n",
    "docs_per_nfrags"
   ]
  },
  {
   "cell_type": "code",
   "execution_count": null,
   "metadata": {
    "colab": {
     "base_uri": "https://localhost:8080/"
    },
    "id": "88qzZirRUUCz",
    "outputId": "283111c2-1411-4065-bb40-715b659698ad"
   },
   "outputs": [],
   "source": [
    "print(docs_per_nfrags.to_latex(index=False))"
   ]
  },
  {
   "cell_type": "code",
   "execution_count": null,
   "metadata": {
    "colab": {
     "base_uri": "https://localhost:8080/",
     "height": 365
    },
    "id": "7Xqfd3o1yHGn",
    "outputId": "e1a8cc51-c3da-4604-c46a-aaf386edf8ef"
   },
   "outputs": [],
   "source": [
    "import altair as alt\n",
    "\n",
    "# chart directory, relative to notebook file\n",
    "chart_dir = \"../charts\"\n",
    "\n",
    "docs_frags_chart = alt.Chart(docs_per_num_fragments).mark_bar().encode(\n",
    "    x=alt.X('num_fragments', title='Number of fragments'),\n",
    "    y=alt.Y('count', title='Documents').scale(type=\"symlog\")\n",
    ").properties(\n",
    "    # title='Documents by number of fragments',\n",
    "    width=400\n",
    ")\n",
    "docs_frags_chart.save(f'{chart_dir}/documents_per_num_frags.pdf')\n",
    "docs_frags_chart"
   ]
  },
  {
   "cell_type": "markdown",
   "metadata": {
    "id": "1Am5GNhu0gFv"
   },
   "source": [
    "### Fragments by number of documents\n",
    "\n",
    "If we use fragments as our starting point, what is the distribution? How many documents are typically written on a fragment, and are there similar outliers?"
   ]
  },
  {
   "cell_type": "markdown",
   "metadata": {
    "id": "kxZ29iOg0tC-"
   },
   "source": []
  },
  {
   "cell_type": "code",
   "execution_count": null,
   "metadata": {
    "colab": {
     "base_uri": "https://localhost:8080/"
    },
    "id": "lXvAcABq0h41",
    "outputId": "71aaad11-4cc6-4f12-e28e-b78aef643477"
   },
   "outputs": [],
   "source": [
    "fragments = pd.read_csv(pgp_csvs[\"fragments\"])\n",
    "total_fragments = fragments.shape[0]\n",
    "\n",
    "print(f\"{total_fragments:,} fragments\")"
   ]
  },
  {
   "cell_type": "markdown",
   "metadata": {
    "id": "DsJdncJJ3o-z"
   },
   "source": [
    "This data export has duplicates! How many?"
   ]
  },
  {
   "cell_type": "code",
   "execution_count": null,
   "metadata": {
    "colab": {
     "base_uri": "https://localhost:8080/"
    },
    "id": "ShLvNtu23Nvq",
    "outputId": "e91c0d58-1801-4f86-ef9d-901aaf8624fc"
   },
   "outputs": [],
   "source": [
    "print(f\"{fragments[fragments.duplicated()].shape[0]:,} duplicates\")"
   ]
  },
  {
   "cell_type": "code",
   "execution_count": null,
   "metadata": {
    "colab": {
     "base_uri": "https://localhost:8080/"
    },
    "id": "pIAAXu4S3VYV",
    "outputId": "b7f26c64-f227-4e75-c43a-145429d71085"
   },
   "outputs": [],
   "source": [
    "# drop duplicates for now (but should fix in the data export)\n",
    "\n",
    "uniq_fragments = fragments.drop_duplicates()\n",
    "total_uniq_fragments = uniq_fragments.shape[0]\n",
    "\n",
    "print(f\"{total_uniq_fragments:,} fragments\")"
   ]
  },
  {
   "cell_type": "markdown",
   "metadata": {
    "id": "llz1cjPL06et"
   },
   "source": [
    "The fragments dataset includes a delimited list of associated PGPIDs; we can use that to determine how many documents are associated with a fragment."
   ]
  },
  {
   "cell_type": "code",
   "execution_count": null,
   "metadata": {
    "colab": {
     "base_uri": "https://localhost:8080/",
     "height": 508
    },
    "id": "mh-JkiEM05hw",
    "outputId": "a4e5e9ff-aa99-4365-9c69-ff1c05038786"
   },
   "outputs": [],
   "source": [
    "uniq_fragments[\"num_documents\"] = uniq_fragments.pgpids.apply(lambda x : len(x.split(';')))\n",
    "uniq_fragments.num_documents.value_counts()"
   ]
  },
  {
   "cell_type": "markdown",
   "metadata": {
    "id": "bazBqDzG2OLI"
   },
   "source": [
    "What are some examples of fragments with a large number of documents?"
   ]
  },
  {
   "cell_type": "code",
   "execution_count": null,
   "metadata": {
    "colab": {
     "base_uri": "https://localhost:8080/",
     "height": 175
    },
    "id": "aZ0GZ_ag2U96",
    "outputId": "9cdc8935-ce47-48ff-c36a-610bd04a07f0"
   },
   "outputs": [],
   "source": [
    "uniq_fragments[uniq_fragments.num_documents > 6][['shelfmark', 'pgpids', 'num_documents']].head(10)"
   ]
  },
  {
   "cell_type": "code",
   "execution_count": null,
   "metadata": {
    "colab": {
     "base_uri": "https://localhost:8080/",
     "height": 332
    },
    "id": "Bu9FF-7u1L6K",
    "outputId": "7e286978-3574-4c53-c8ec-fc1f1feb8d41"
   },
   "outputs": [],
   "source": [
    "# group by number of documents to aggregrate for plotting\n",
    "frags_per_num_documents = uniq_fragments[['num_documents', 'shelfmark']].groupby('num_documents').count().reset_index().rename(columns={\"shelfmark\": \"fragments\"})\n",
    "# calculate percenatage of total fragements\n",
    "frags_per_num_documents[\"percent\"] = frags_per_num_documents.fragments.apply(lambda x : (x / total_fragments) * 100)\n",
    "frags_per_num_documents"
   ]
  },
  {
   "cell_type": "code",
   "execution_count": null,
   "metadata": {
    "colab": {
     "base_uri": "https://localhost:8080/",
     "height": 365
    },
    "id": "1l5kYjnd1QSQ",
    "outputId": "347c7a51-4ec7-4766-99f6-249a50d77aa1"
   },
   "outputs": [],
   "source": [
    "# chart with log scale\n",
    "frags_docs_chart = alt.Chart(frags_per_num_documents).mark_bar().encode(\n",
    "    x=alt.X('num_documents', title='Number of Documents', scale=alt.Scale(zero=False)),\n",
    "    y=alt.Y('fragments', title='Fragments', scale=alt.Scale(type=\"symlog\"))\n",
    ").properties(\n",
    "#    title=\"Fragments by number of documents\",\n",
    "    width=400\n",
    ")\n",
    "frags_docs_chart.save(f'{chart_dir}/fragments_with_num_docs.pdf')\n",
    "frags_docs_chart"
   ]
  },
  {
   "cell_type": "code",
   "execution_count": null,
   "metadata": {
    "colab": {
     "base_uri": "https://localhost:8080/",
     "height": 367
    },
    "id": "Ocuj5dgl8QcR",
    "outputId": "15203eca-1858-48cc-c5dc-bb58d3f8903b"
   },
   "outputs": [],
   "source": [
    "\n",
    "# combine horizontally for display in pdf\n",
    "(docs_frags_chart | frags_docs_chart).save(f'{chart_dir}/docs_frags_2up.pdf')\n",
    "(docs_frags_chart | frags_docs_chart)"
   ]
  },
  {
   "cell_type": "markdown",
   "metadata": {
    "id": "rMScnaCrDtYK"
   },
   "source": [
    "## Number of documents over time"
   ]
  },
  {
   "cell_type": "code",
   "execution_count": null,
   "metadata": {
    "colab": {
     "base_uri": "https://localhost:8080/",
     "height": 400
    },
    "id": "bNdbCqrnDwCc",
    "outputId": "f06cbf0f-a108-4059-98d7-708fbec19d42"
   },
   "outputs": [],
   "source": [
    "# parse initial entry as date time\n",
    "documents['initial_entry'] = pd.to_datetime(documents['initial_entry'], format='mixed')\n",
    "\n",
    "\n",
    "#documents['pgpid'].groupby(documents['initial_entry'].dt.to_period('Y')).sum().plot(kind='bar')\n",
    "newdocs_per_year = documents['pgpid'].groupby(documents['initial_entry'].dt.to_period('Y')).count().reset_index().rename(columns={'pgpid': 'total'})\n",
    "# convert time period to timestamp\n",
    "newdocs_per_year[\"initial_entry\"] = newdocs_per_year[\"initial_entry\"].dt.to_timestamp()\n",
    "newdocs_per_year.head(10)"
   ]
  },
  {
   "cell_type": "code",
   "execution_count": null,
   "metadata": {
    "colab": {
     "base_uri": "https://localhost:8080/",
     "height": 206
    },
    "id": "npbFuAWDD5Ih",
    "outputId": "3dd7193c-b6bc-4319-c8f1-71b681b79925"
   },
   "outputs": [],
   "source": [
    "# calculate cumulative total\n",
    "newdocs_per_year['cumulative_total'] = newdocs_per_year['total'].cumsum()\n",
    "newdocs_per_year.head()"
   ]
  },
  {
   "cell_type": "code",
   "execution_count": null,
   "metadata": {
    "colab": {
     "base_uri": "https://localhost:8080/",
     "height": 206
    },
    "id": "PnVai0zIEBPx",
    "outputId": "bb32f581-e80e-4041-b308-da1786ccca36"
   },
   "outputs": [],
   "source": [
    "# use melt to revise so we can plot both together\n",
    "newdocs_per_year_melted = pd.melt(newdocs_per_year.rename(columns={'initial_entry': 'date', 'total': 'New documents', 'cumulative_total': 'Cumulative total'}), id_vars=['date'], value_vars=['New documents', 'Cumulative total'])\n",
    "newdocs_per_year_melted = newdocs_per_year_melted.rename(columns={\"variable\": \"status\", \"value\": \"Documents\"})\n",
    "newdocs_per_year_melted.head()"
   ]
  },
  {
   "cell_type": "code",
   "execution_count": null,
   "metadata": {
    "colab": {
     "base_uri": "https://localhost:8080/",
     "height": 319
    },
    "id": "Rn3nrGEkD9h3",
    "outputId": "dc8b71ca-cf4d-47d7-cced-cb31ff416631"
   },
   "outputs": [],
   "source": [
    "# TODO rename total/cumulative total so they make sense here\n",
    "docs_overtime_chart = alt.Chart(newdocs_per_year_melted).mark_area().encode(\n",
    "    y=alt.Y('Documents'),\n",
    "    x=alt.Y('date', title=\"Year\"),\n",
    "    color=alt.Color(\"status\", title=\"\").scale(scheme=\"tableau20\"),\n",
    ").properties(\n",
    "#    title=\"Documents in PGP per year with cumulative total\",\n",
    "    width=800,\n",
    "    height=250\n",
    "\n",
    ").configure_legend(\n",
    "    strokeColor='gray',\n",
    "    fillColor='white', #EEEEEE',\n",
    "    padding=15,\n",
    "    cornerRadius=5,\n",
    "    orient='top-left'\n",
    ")\n",
    "docs_overtime_chart.save(f'{chart_dir}/docs_over_time.pdf')\n",
    "\n",
    "docs_overtime_chart"
   ]
  },
  {
   "cell_type": "markdown",
   "metadata": {
    "id": "N5JM_cLxs0b_"
   },
   "source": [
    "## Metadata fields available\n",
    "\n",
    "To what extent are metadata fields filled out?\n"
   ]
  },
  {
   "cell_type": "code",
   "execution_count": null,
   "metadata": {
    "id": "7Jt4mSLxs3Jq"
   },
   "outputs": [],
   "source": [
    "# calculate what percent of records have which field (code adapted from S&co dataset notebook)\n",
    "def percent_known(df, field):\n",
    "  total = len(df)\n",
    "  with_field = len(df[df[field].notnull()])\n",
    "  print('%d with %s : %.00f%%' % (with_field, field, (with_field/total)*100))\n",
    "  return with_field"
   ]
  },
  {
   "cell_type": "code",
   "execution_count": null,
   "metadata": {
    "colab": {
     "base_uri": "https://localhost:8080/"
    },
    "id": "3bdvZl2ts78h",
    "outputId": "d18f0b6e-fc5f-444b-e044-d38ec259e845"
   },
   "outputs": [],
   "source": [
    "total_known = {}\n",
    "metadata_fields = ['type', 'description', 'tags', 'languages_primary', 'languages_secondary', 'doc_date_original', 'doc_date_standard']\n",
    "\n",
    "for field in metadata_fields:\n",
    "    total_known[field] = percent_known(documents, field)\n",
    "\n",
    "print(total_known)"
   ]
  },
  {
   "cell_type": "code",
   "execution_count": null,
   "metadata": {
    "colab": {
     "base_uri": "https://localhost:8080/",
     "height": 467
    },
    "id": "H5xLGYNbtBKZ",
    "outputId": "796689ed-751c-4c8d-ceae-b93cc728ce2a"
   },
   "outputs": [],
   "source": [
    "# are there any records where secondary language is known but primary is not?\n",
    "documents[documents.languages_primary.isna() & documents.languages_secondary.notna()]"
   ]
  },
  {
   "cell_type": "code",
   "execution_count": null,
   "metadata": {
    "colab": {
     "base_uri": "https://localhost:8080/",
     "height": 269
    },
    "id": "QcRhRcKItzFQ",
    "outputId": "1e7d5c2c-d6bc-4906-c82f-f436bd6e5be5"
   },
   "outputs": [],
   "source": [
    "# specify keys as index to preserve field order as specified above\n",
    "known = pd.DataFrame({'total': total_known}, index=total_known.keys())\n",
    "known['percent'] = (known['total'] / total_documents*100)\n",
    "# known['order'] = known.loc.apply(lambda x: metadata_fields.index(x))\n",
    "known.percent = known.percent.round(2)\n",
    "known"
   ]
  },
  {
   "cell_type": "code",
   "execution_count": null,
   "metadata": {
    "colab": {
     "base_uri": "https://localhost:8080/",
     "height": 269
    },
    "id": "kSkTLSwXt3Iu",
    "outputId": "47eabe15-9226-4db0-bb84-bfa95160b16d"
   },
   "outputs": [],
   "source": [
    "\n",
    "total_documents = len(documents.index)\n",
    "known_unknown = pd.DataFrame()\n",
    "known_unknown['known'] = known['total']\n",
    "known_unknown['unknown'] = known.total.apply(lambda x: total_documents - x)\n",
    "known_unknown"
   ]
  },
  {
   "cell_type": "code",
   "execution_count": null,
   "metadata": {
    "colab": {
     "base_uri": "https://localhost:8080/",
     "height": 489
    },
    "id": "Fdd2YgbquEDI",
    "outputId": "c68d7adc-1991-458e-af34-2f9e00a47cbd"
   },
   "outputs": [],
   "source": [
    "# reshape for plotting\n",
    "known_unknown_melted = known_unknown.reset_index().melt(id_vars=\"index\", value_vars=[\"known\", \"unknown\"])\n",
    "\n",
    "known_unknown_melted = known_unknown_melted.rename(columns={\"index\": \"field\", \"variable\": \"status\", \"value\": \"documents\"})\n",
    "known_unknown_melted.head(10)"
   ]
  },
  {
   "cell_type": "code",
   "execution_count": null,
   "metadata": {
    "colab": {
     "base_uri": "https://localhost:8080/",
     "height": 264
    },
    "id": "NQ12xtHBt4nD",
    "outputId": "8758d1b8-b6a7-4ec9-cade-c7c6889cea3c"
   },
   "outputs": [],
   "source": [
    "field_order = [\"type\", \"description\", \"tags\", \"languages_primary\", \"languages_secondary\", \"doc_date_original\", \"doc_date_standard\"]\n",
    "\n",
    "known_melted = known_unknown_melted[known_unknown_melted.status == \"known\"]\n",
    "\n",
    "metadata_chart = alt.Chart(known_melted).mark_bar().encode(\n",
    "    x=alt.X(\"documents\", title=\"Documents with data populated\").scale(domain=[0, total_documents]),\n",
    "    y=alt.Y(\"field\", title=\"Metadata field\").scale(domain=field_order),\n",
    "    # color=alt.Color(\"status\").scale(domain=[\"known\", \"unknown\"], range=[\"#7bac7b\", \"lightgray\"]),\n",
    ").properties(width=650, height=200)\n",
    "\n",
    "metadata_chart"
   ]
  },
  {
   "cell_type": "code",
   "execution_count": null,
   "metadata": {
    "colab": {
     "base_uri": "https://localhost:8080/",
     "height": 374
    },
    "id": "PSk8XylwwOx8",
    "outputId": "c5dd8292-6142-4ca5-963b-5780b8d0fbba"
   },
   "outputs": [],
   "source": [
    "known_melted['label'] = known_melted.documents.apply(lambda x: f'{x:,} ({x/total_documents:.0%})')\n",
    "\n",
    "# text labels for metadata chart\n",
    "text = alt.Chart(known_melted).mark_text(\n",
    "     dy=0,\n",
    "     color=alt.expr(alt.expr.if_(alt.datum.documents > 5000, \"white\", \"black\")),\n",
    "     align=alt.expr(alt.expr.if_(alt.datum.documents > 5000, \"right\", \"left\")),\n",
    "     dx=alt.expr(alt.expr.if_(alt.datum.documents > 5000, -10, 5))\n",
    "  ).encode(\n",
    "    x=alt.X('documents').scale(domain=[0, total_documents]),\n",
    "    y=alt.Y(\"field\", title=\"Metadata field\").scale(domain=field_order),\n",
    "    text=alt.Text('label')\n",
    ")\n",
    "\n",
    "(metadata_chart + text).save(f\"{chart_dir}/metadata_available.pdf\")\n",
    "metadata_chart + text"
   ]
  },
  {
   "cell_type": "markdown",
   "metadata": {
    "id": "dcexTSOD4LqO"
   },
   "source": [
    "## Document types"
   ]
  },
  {
   "cell_type": "code",
   "execution_count": null,
   "metadata": {
    "id": "JMSsEOYw4O7x"
   },
   "outputs": [],
   "source": [
    "# copy dataframe and replace unset type with \"Unknown\" so we can include it in reported type totals\n",
    "docs_with_unknowns = documents.copy()\n",
    "docs_with_unknowns[\"type\"] = docs_with_unknowns.type.fillna(\"Unknown\")"
   ]
  },
  {
   "cell_type": "code",
   "execution_count": null,
   "metadata": {
    "colab": {
     "base_uri": "https://localhost:8080/",
     "height": 398
    },
    "id": "CUUl8iJI4d0T",
    "outputId": "13910f3b-34cd-47b1-e819-f8bddcbb6b8f"
   },
   "outputs": [],
   "source": [
    "doctype_totals = docs_with_unknowns.type.value_counts()\n",
    "doctype_totals\n",
    "#35,277 documents in PGP, and the most common types are Letters (11,122) and Legal Documents (8,149). The current dataset includes 4,351 documents with no type, which may me"
   ]
  },
  {
   "cell_type": "code",
   "execution_count": null,
   "metadata": {
    "id": "MEK3EU1jpVKL"
   },
   "outputs": [],
   "source": [
    "import re\n",
    "\n",
    "def texOutputLabel(term):\n",
    "  # convert a variable name or string into format for tex variable output\n",
    "  # remove numbers and dashes\n",
    "  term = re.sub(r'[-\\d]', '', term)\n",
    "  # remove spaces, and use title/camel case\n",
    "  return ''.join([t.title() for t in term.split()])"
   ]
  },
  {
   "cell_type": "code",
   "execution_count": null,
   "metadata": {
    "colab": {
     "base_uri": "https://localhost:8080/"
    },
    "id": "5QQu_Dip4dqd",
    "outputId": "c27cbd22-6072-4dba-ba37-caebdbd275f4"
   },
   "outputs": [],
   "source": [
    "print(f\"{total_documents:,} total documents\\n\")\n",
    "for doctype, total in doctype_totals.to_dict().items():\n",
    "  # add to output numbers for essay\n",
    "  print(f\"{doctype}:\\t{total:,}\")\n",
    "  # prefix with total and convert for output\n",
    "  outputLabel = f\"total{texOutputLabel(doctype)}\"\n",
    "  essay_numbers[outputLabel] = f\"{total:,}\""
   ]
  },
  {
   "cell_type": "code",
   "execution_count": null,
   "metadata": {
    "colab": {
     "base_uri": "https://localhost:8080/",
     "height": 244
    },
    "id": "tkr6TWMo5jLb",
    "outputId": "2f9f2ca1-dff9-4622-b5ac-9979a3932bb6"
   },
   "outputs": [],
   "source": [
    "doctype_counts = doctype_totals.reset_index()\n",
    "\n",
    "doctype_chart = alt.Chart(doctype_counts).mark_bar().encode(\n",
    "    y=alt.Y('type', title=\"Document Type\"),\n",
    "    x=alt.X('count', title=\"Number of documents\")\n",
    ").properties(\n",
    "    # title=\"Documents by type\",\n",
    "    width=600\n",
    ")\n",
    "doctype_chart.save(f\"{chart_dir}/document_types.pdf\")\n",
    "doctype_chart"
   ]
  },
  {
   "cell_type": "markdown",
   "metadata": {
    "id": "BYNDXXdG5-sl"
   },
   "source": [
    "### Document descriptions\n",
    "\n",
    "What is the typical length of document descriptions?"
   ]
  },
  {
   "cell_type": "code",
   "execution_count": null,
   "metadata": {
    "colab": {
     "base_uri": "https://localhost:8080/",
     "height": 206
    },
    "id": "ZeKPJ746pdmd",
    "outputId": "15c95c73-4a16-4dbe-f85e-954bdd3b19d2"
   },
   "outputs": [],
   "source": [
    "documents['description_num_chars'] = documents.description.apply(lambda x: len(x.strip()) if pd.notna(x) else 0)\n",
    "documents['description_num_tokens'] = documents.description.apply(lambda x: len(x.strip().split()) if pd.notna(x) else 0)\n",
    "documents[['pgpid', 'description', 'description_num_chars', 'description_num_tokens']].head()"
   ]
  },
  {
   "cell_type": "code",
   "execution_count": null,
   "metadata": {
    "colab": {
     "base_uri": "https://localhost:8080/",
     "height": 248
    },
    "id": "i3yLMfIWyQUw",
    "outputId": "265b410c-8a00-4437-9bf7-0a593c54af75"
   },
   "outputs": [],
   "source": [
    "documents[documents.description_num_chars == 0]"
   ]
  },
  {
   "cell_type": "code",
   "execution_count": null,
   "metadata": {
    "colab": {
     "base_uri": "https://localhost:8080/",
     "height": 335
    },
    "id": "cJcrC2PNpwVj",
    "outputId": "7751b360-a29d-4a4e-c90f-25cae9a604d4"
   },
   "outputs": [],
   "source": [
    "documents.description_num_chars.describe()"
   ]
  },
  {
   "cell_type": "code",
   "execution_count": null,
   "metadata": {
    "colab": {
     "base_uri": "https://localhost:8080/",
     "height": 335
    },
    "id": "hAW_12K_qu-h",
    "outputId": "bb82e492-70b3-40b1-af9b-b8d456d42650"
   },
   "outputs": [],
   "source": [
    "documents.description_num_tokens.describe()"
   ]
  },
  {
   "cell_type": "code",
   "execution_count": null,
   "metadata": {
    "colab": {
     "base_uri": "https://localhost:8080/",
     "height": 369
    },
    "id": "yxzJjezmp4Ii",
    "outputId": "0769bda3-a14b-4bb9-d8fc-9dcec277dfce"
   },
   "outputs": [],
   "source": [
    "# disable altair max row check\n",
    "alt.data_transformers.disable_max_rows()\n",
    "\n",
    "alt.Chart(documents).mark_bar().encode(\n",
    "    alt.X(\"description_num_chars\").bin(maxbins=12),\n",
    "    y='count()',\n",
    ")"
   ]
  },
  {
   "cell_type": "code",
   "execution_count": null,
   "metadata": {
    "colab": {
     "base_uri": "https://localhost:8080/",
     "height": 369
    },
    "id": "hF9BMtSbrRFf",
    "outputId": "6c02ba02-8a40-4d7c-bbb9-c16a1938376b"
   },
   "outputs": [],
   "source": [
    "alt.Chart(documents).mark_bar().encode(\n",
    "    alt.X(\"description_num_tokens\").bin(maxbins=12),\n",
    "    y='count()',\n",
    ")"
   ]
  },
  {
   "cell_type": "code",
   "execution_count": null,
   "metadata": {
    "id": "UQ5N-H5irmER"
   },
   "outputs": [],
   "source": [
    "# langdetect is not useful here\n",
    "# could potentially analyze based on unicode script range\n",
    "# i.e., what percentage have hebrew / arabic terms (usually names?)\n",
    "# but this is probably not important"
   ]
  },
  {
   "cell_type": "markdown",
   "metadata": {
    "id": "-olXlwJQ7g9d"
   },
   "source": [
    "## Tags\n",
    "\n",
    "Summary information about tags. How many tags, how much reuse/variation; how densely or sparsely are documents tagged?"
   ]
  },
  {
   "cell_type": "code",
   "execution_count": null,
   "metadata": {
    "colab": {
     "base_uri": "https://localhost:8080/",
     "height": 459
    },
    "id": "Z1GtfTa7ssIf",
    "outputId": "49b22357-804c-4771-b793-8c6ca1542099"
   },
   "outputs": [],
   "source": [
    "documents.tags"
   ]
  },
  {
   "cell_type": "code",
   "execution_count": null,
   "metadata": {
    "colab": {
     "base_uri": "https://localhost:8080/",
     "height": 363
    },
    "id": "VNX8af4Ys9Za",
    "outputId": "67afbea8-5f40-4908-a007-39859b1fa82d"
   },
   "outputs": [],
   "source": [
    "documents['num_tags'] = documents.tags.apply(lambda x: len(x.strip().split(\", \")) if pd.notna(x) else 0)\n",
    "documents[['pgpid', 'tags', 'num_tags']].head(10)"
   ]
  },
  {
   "cell_type": "code",
   "execution_count": null,
   "metadata": {
    "colab": {
     "base_uri": "https://localhost:8080/",
     "height": 711
    },
    "id": "-danuA-ktJul",
    "outputId": "e8aab466-874c-448c-9069-441f254b80f2"
   },
   "outputs": [],
   "source": [
    "document_tag_counts = documents.num_tags.value_counts()\n",
    "document_tag_counts"
   ]
  },
  {
   "cell_type": "code",
   "execution_count": null,
   "metadata": {
    "colab": {
     "base_uri": "https://localhost:8080/",
     "height": 386
    },
    "id": "ADzPQL49tRix",
    "outputId": "2a177684-8bd8-4c1b-f485-32d23aed97ad"
   },
   "outputs": [],
   "source": [
    "alt.Chart(document_tag_counts.reset_index()).mark_bar().encode(\n",
    "    alt.X(\"num_tags\", title=\"# Tags\").scale(domain=[0, 17]), # .bin(),\n",
    "    y=alt.Y('count', title=\"# Documents\"),\n",
    ").properties(title=\"Tag frequency by document\")"
   ]
  },
  {
   "cell_type": "code",
   "execution_count": null,
   "metadata": {
    "colab": {
     "base_uri": "https://localhost:8080/",
     "height": 363
    },
    "id": "JmHCBkQutby4",
    "outputId": "fa2ed51e-14b2-4653-f98f-ae982ed53159"
   },
   "outputs": [],
   "source": [
    "# split the tag list and explode out into document - tag pairs for analysis\n",
    "\n",
    "documents['tag_list'] = documents.tags.apply(lambda x: x.strip().split(\", \") if pd.notna(x) else [])\n",
    "\n",
    "docs_tags = documents[['pgpid', 'tag_list']].explode('tag_list').rename(columns={'tag_list': 'tag'})\n",
    "# filter out unset tags\n",
    "docs_tags = docs_tags[docs_tags.tag.notna()]\n",
    "docs_tags.head(10)"
   ]
  },
  {
   "cell_type": "markdown",
   "metadata": {
    "id": "hYE7aSEVvz6H"
   },
   "source": [
    "How many unique tags?"
   ]
  },
  {
   "cell_type": "code",
   "execution_count": null,
   "metadata": {
    "colab": {
     "base_uri": "https://localhost:8080/"
    },
    "id": "R93rn3wPvu8s",
    "outputId": "10eb22af-1615-4600-ceb8-1f10d4c5c36a"
   },
   "outputs": [],
   "source": [
    "essay_numbers['uniqueTags'] = f\"{len(docs_tags.tag.unique()):,}\"\n",
    "print(f\"{len(docs_tags.tag.unique()):,} unique tags\")"
   ]
  },
  {
   "cell_type": "markdown",
   "metadata": {
    "id": "t7JJ7fTGvJYH"
   },
   "source": [
    "What are the most common tags?"
   ]
  },
  {
   "cell_type": "code",
   "execution_count": null,
   "metadata": {
    "colab": {
     "base_uri": "https://localhost:8080/",
     "height": 520
    },
    "id": "XfSOoB5Bu9j9",
    "outputId": "b4521574-52ae-46a0-c369-34fc1295fdd7"
   },
   "outputs": [],
   "source": [
    "tag_counts = docs_tags.tag.value_counts().reset_index()\n",
    "\n",
    "tag_counts.head(15)"
   ]
  },
  {
   "cell_type": "code",
   "execution_count": null,
   "metadata": {
    "id": "fMdbNDZTnr08"
   },
   "outputs": [],
   "source": [
    "# add top 7 most common tags to output numbers for inclusion in essay\n",
    "for tagcount in tag_counts.head(6).itertuples():\n",
    "  essay_numbers[f'tagged{texOutputLabel(tagcount.tag)}'] = tagcount.count"
   ]
  },
  {
   "cell_type": "markdown",
   "metadata": {
    "id": "OimQPOOlvOgy"
   },
   "source": [
    "How many tags are used only once?"
   ]
  },
  {
   "cell_type": "code",
   "execution_count": null,
   "metadata": {
    "colab": {
     "base_uri": "https://localhost:8080/",
     "height": 424
    },
    "id": "T5uPkrzLvMmn",
    "outputId": "7cf9938f-5ffe-42c6-db0b-8e43903f7166"
   },
   "outputs": [],
   "source": [
    "singletons = tag_counts[tag_counts[\"count\"] == 1]\n",
    "essay_numbers['singletonTags'] = f\"{singletons.shape[0]:,}\"\n",
    "\n",
    "singletons.head(10)"
   ]
  },
  {
   "cell_type": "code",
   "execution_count": null,
   "metadata": {
    "colab": {
     "base_uri": "https://localhost:8080/"
    },
    "id": "edwzagD_vmrP",
    "outputId": "3dda501a-8cf2-4202-d245-28f62ada4df8"
   },
   "outputs": [],
   "source": [
    "print(f\"{singletons.shape[0]:,} tags used only once\")"
   ]
  },
  {
   "cell_type": "markdown",
   "metadata": {
    "id": "QYBuk1R3ynHS"
   },
   "source": [
    "## Languages and Scripts\n",
    "\n"
   ]
  },
  {
   "cell_type": "markdown",
   "metadata": {
    "id": "Fo1jHiMwAJPh"
   },
   "source": [
    "### What languages are most common?"
   ]
  },
  {
   "cell_type": "code",
   "execution_count": null,
   "metadata": {
    "colab": {
     "base_uri": "https://localhost:8080/",
     "height": 206
    },
    "id": "IYKduxSt5Qc8",
    "outputId": "f9a508ae-eeac-433a-ffae-808fd68535ee"
   },
   "outputs": [],
   "source": [
    "# combine primary and secondary languages into an all-lang field\n",
    "\n",
    "\n",
    "def all_langs(row):\n",
    "  # apparently we can't assume that secondary lang implies primary!\n",
    "    if pd.notna(row.languages_primary):\n",
    "      if pd.notna(row.languages_secondary):\n",
    "        return ','.join([row.languages_primary, row.languages_secondary])\n",
    "      else:\n",
    "        return row.languages_primary\n",
    "\n",
    "    # at least one case has a secondary lang without primary; return it\n",
    "    if pd.notna(row.languages_secondary):\n",
    "      return row.languages_secondary\n",
    "\n",
    "documents['languages_all'] = documents.apply(all_langs, axis=1)\n",
    "documents[['pgpid', 'languages_primary', 'languages_secondary', 'languages_all']].head()"
   ]
  },
  {
   "cell_type": "code",
   "execution_count": null,
   "metadata": {
    "colab": {
     "base_uri": "https://localhost:8080/",
     "height": 363
    },
    "id": "DSstFI8q6WYW",
    "outputId": "ae45bd77-6048-414f-8d66-3e7471c73506"
   },
   "outputs": [],
   "source": [
    "# as we did with tags, split and explode the combined languages into list\n",
    "documents['langs_all_list'] = documents.languages_all.apply(lambda x: (x.strip().split(\",\")) if pd.notna(x) else [])\n",
    "\n",
    "docs_langs = documents[['pgpid', 'langs_all_list']].explode('langs_all_list').rename(columns={\"langs_all_list\": \"language\"})\n",
    "# filter out unset languages\n",
    "docs_langs = docs_langs[docs_langs.language.notna()]\n",
    "# ensure whitespace doesn't cause variation\n",
    "docs_langs['language'] = docs_langs.language.apply(lambda x : x.strip())\n",
    "\n",
    "docs_langs.head(10)"
   ]
  },
  {
   "cell_type": "code",
   "execution_count": null,
   "metadata": {
    "colab": {
     "base_uri": "https://localhost:8080/",
     "height": 363
    },
    "id": "1d3CHk7j70Xg",
    "outputId": "3c64563a-a8c5-40c1-f2ae-6ec7619fefd1"
   },
   "outputs": [],
   "source": [
    "# total by language, for any occurrence (counting documents multiply)\n",
    "doc_lang_counts = docs_langs.language.value_counts().reset_index()\n",
    "doc_lang_counts.head(10)"
   ]
  },
  {
   "cell_type": "markdown",
   "metadata": {
    "id": "1es4RZOxGhPR"
   },
   "source": [
    "How many unique languages total?"
   ]
  },
  {
   "cell_type": "code",
   "execution_count": null,
   "metadata": {
    "id": "-qUF0GeSGiwh"
   },
   "outputs": [],
   "source": [
    "total_langs = len(doc_lang_counts.language.unique())\n",
    "essay_numbers['totalLangauges'] = total_langs"
   ]
  },
  {
   "cell_type": "code",
   "execution_count": null,
   "metadata": {
    "colab": {
     "base_uri": "https://localhost:8080/",
     "height": 442
    },
    "id": "x0pYhEUb79zs",
    "outputId": "4bae68cb-b76d-41d7-c7a8-785d772eaedb"
   },
   "outputs": [],
   "source": [
    "# create a filter set of most common and unidentified\n",
    "\n",
    "doc_lang_counts_subset = doc_lang_counts[(doc_lang_counts['count'] > 300) | doc_lang_counts.language.str.contains(\"Unidentified\")]\n",
    "# format count for output\n",
    "doc_lang_counts_subset['count'] = doc_lang_counts_subset['count'].apply(lambda x: f\"{x:,}\")\n",
    "# rename columns for output\n",
    "doc_lang_counts_subset = doc_lang_counts_subset.rename(columns={\"language\": \"Language/Script\",\"count\": \"Documents\"})\n",
    "doc_lang_counts_subset"
   ]
  },
  {
   "cell_type": "code",
   "execution_count": null,
   "metadata": {
    "colab": {
     "base_uri": "https://localhost:8080/"
    },
    "id": "3N5j3ZZB8fU0",
    "outputId": "6d264684-79b2-4d24-afb9-3a53e6da42ae"
   },
   "outputs": [],
   "source": [
    "print(doc_lang_counts_subset.to_latex(index=False))"
   ]
  },
  {
   "cell_type": "markdown",
   "metadata": {
    "id": "ZF-VkArLARD8"
   },
   "source": [
    "### What % of documents have more than one language?\n",
    "\n",
    "(any language - primary or secondary)"
   ]
  },
  {
   "cell_type": "code",
   "execution_count": null,
   "metadata": {
    "id": "oMA144XfAEvG"
   },
   "outputs": [],
   "source": [
    "# tally the number of languages using the combined list field we created before\n",
    "documents['langs_all_count'] = documents.langs_all_list.apply(lambda x: len(x))"
   ]
  },
  {
   "cell_type": "code",
   "execution_count": null,
   "metadata": {
    "id": "tc02is55A74T"
   },
   "outputs": [],
   "source": [
    "# add some totals to our data for use in the paper\n",
    "docs_no_lang = documents[documents['langs_all_count'] == 0].shape[0]\n",
    "docs_any_lang = documents[documents['langs_all_count'] != 0].shape[0]\n",
    "docs_one_lang = documents[documents['langs_all_count'] == 1].shape[0]\n",
    "docs_multi_lang = documents[documents['langs_all_count'] > 1].shape[0]\n",
    "essay_numbers['documentsNoLang'] = f\"{docs_no_lang:,}\"\n",
    "essay_numbers['documentsAnyLang'] = f\"{docs_any_lang:,}\"\n",
    "essay_numbers['documentsOneLang'] = f\"{docs_one_lang:,}\"\n",
    "essay_numbers['documentsMultiLang'] = f\"{docs_multi_lang:,}\"\n",
    "# what % of documents with any language are multi/mono lingual?\n",
    "essay_numbers['percentDocsMultiLang'] = f\"{docs_multi_lang/docs_any_lang:.1%}\"\n",
    "essay_numbers['percentDocsMonoLang'] = f\"{docs_one_lang/docs_any_lang:.1%}\"\n"
   ]
  },
  {
   "cell_type": "markdown",
   "metadata": {
    "id": "k6Bl3CU0Hnt_"
   },
   "source": [
    "### Language combinations"
   ]
  },
  {
   "cell_type": "markdown",
   "metadata": {
    "id": "mmdD5jFoJmcZ"
   },
   "source": [
    "### upSet plot"
   ]
  },
  {
   "cell_type": "code",
   "execution_count": null,
   "metadata": {
    "colab": {
     "base_uri": "https://localhost:8080/"
    },
    "id": "hMmWPuDyKs19",
    "outputId": "add271ff-c35d-494c-fb97-266a2acb485d"
   },
   "outputs": [],
   "source": [
    "# limit to languages that occur a sufficient number of times\n",
    "min_langcount = 300\n",
    "\n",
    "lang_subset = doc_lang_counts[doc_lang_counts[\"count\"] > min_langcount].language.to_list()\n",
    "lang_subset"
   ]
  },
  {
   "cell_type": "code",
   "execution_count": null,
   "metadata": {
    "colab": {
     "base_uri": "https://localhost:8080/",
     "height": 481
    },
    "id": "b_50cv8IJs_N",
    "outputId": "4c045377-dd59-4cc2-cf1c-a6fab65aafa7"
   },
   "outputs": [],
   "source": [
    "from upsetplot import from_memberships\n",
    "\n",
    "\n",
    "# limit to documents with any of the languages in our subset\n",
    "# create a filtered lang field with languages in our subset\n",
    "documents['subset_langs'] = documents.langs_all_list.apply(lambda x: [l.strip() for l in x if l.strip() in lang_subset]) #list(set(l.strip() for l in x) & set(lang_subset)))\n",
    "\n",
    "documents_subset_lang = documents[documents.subset_langs.notna() & documents.subset_langs.str.len()].copy()\n",
    "documents_subset_lang[documents_subset_lang.langs_all_count > 1 ][documents_subset_lang.languages_all.str.contains(\"Judaeo-Arabic\")][['pgpid', 'languages_all', 'langs_all_list', 'subset_langs']]"
   ]
  },
  {
   "cell_type": "code",
   "execution_count": null,
   "metadata": {
    "colab": {
     "base_uri": "https://localhost:8080/"
    },
    "id": "3ytHhsmPSZLh",
    "outputId": "75c42822-d5eb-4177-8415-ca8831d87d33"
   },
   "outputs": [],
   "source": [
    "pd.set_option('future.no_silent_downcasting', True)\n",
    "\n",
    "# use the combined subset language field as the membership set\n",
    "lang_memberships = documents_subset_lang.subset_langs\n",
    "lang_sets = from_memberships(lang_memberships)"
   ]
  },
  {
   "cell_type": "code",
   "execution_count": null,
   "metadata": {
    "colab": {
     "base_uri": "https://localhost:8080/",
     "height": 1000
    },
    "id": "NSGNU1rJN0hf",
    "outputId": "5c94b064-2a02-410d-f2bf-f4b8c142b327"
   },
   "outputs": [],
   "source": [
    "from upsetplot import plot\n",
    "from matplotlib import pyplot\n",
    "\n",
    "figure = pyplot.figure()\n",
    "\n",
    "upset_plot = plot(lang_sets, fig=figure, subset_size=\"count\", show_counts=True) # , sort_categories_by='-input')\n",
    "\n",
    "# NOTE: must save _before_ displaying (show clears the current plot)\n",
    "# pyplot.savefig(f'{chart_dir}/language_upsetplot.pdf')\n",
    "pyplot.show(upset_plot)\n"
   ]
  },
  {
   "cell_type": "markdown",
   "metadata": {
    "id": "3oqKqqMqabn2"
   },
   "source": [
    "#### upSet plot of primary languages"
   ]
  },
  {
   "cell_type": "code",
   "execution_count": null,
   "metadata": {
    "colab": {
     "base_uri": "https://localhost:8080/"
    },
    "id": "sBG3ul2xcllv",
    "outputId": "771e4460-9c67-4909-c2d3-8a991f7dbb54"
   },
   "outputs": [],
   "source": [
    "lang_subset"
   ]
  },
  {
   "cell_type": "code",
   "execution_count": null,
   "metadata": {
    "colab": {
     "base_uri": "https://localhost:8080/",
     "height": 420
    },
    "id": "PGtCoq6tadRw",
    "outputId": "f585e234-6304-47f5-88ea-c5bcafe4599c"
   },
   "outputs": [],
   "source": [
    "\n",
    "# limit to documents with any of the languages in our subset\n",
    "# create a filtered lang field with languages in our subset\n",
    "documents['primary_lang_list'] = documents.languages_primary.apply(lambda x: [l.strip() for l in x.split(',')] if pd.notna(x) else [])\n",
    "\n",
    "documents['subset_primary_langs'] = documents.primary_lang_list.apply(lambda x: [l.strip() for l in x if l.strip() in lang_subset]) #list(set(l.strip() for l in x) & set(lang_subset)))\n",
    "\n",
    "documents_primary_subset_lang = documents[documents.subset_primary_langs.notna() & documents.subset_primary_langs.str.len()]\n",
    "documents_primary_subset_lang[documents_primary_subset_lang.langs_all_count > 1 ][documents_primary_subset_lang.languages_all.str.contains(\"Ladino\")][['pgpid', 'languages_primary', 'primary_lang_list', 'subset_primary_langs']].head(10)"
   ]
  },
  {
   "cell_type": "code",
   "execution_count": null,
   "metadata": {
    "colab": {
     "base_uri": "https://localhost:8080/"
    },
    "id": "eX-byhT8a8Z9",
    "outputId": "8406f76e-5e54-4129-d304-66a5251a0b26"
   },
   "outputs": [],
   "source": [
    "# use the combined subset language field as the membership set\n",
    "primary_lang_memberships = documents_primary_subset_lang.subset_primary_langs\n",
    "primary_lang_sets = from_memberships(primary_lang_memberships)"
   ]
  },
  {
   "cell_type": "code",
   "execution_count": null,
   "metadata": {
    "colab": {
     "base_uri": "https://localhost:8080/",
     "height": 1000
    },
    "id": "JGvoa3StbCg7",
    "outputId": "d1061b95-b74e-4ca2-a973-9e0da48eca15"
   },
   "outputs": [],
   "source": [
    "from upsetplot import UpSet\n",
    "\n",
    "\n",
    "upset_plot_primary = UpSet(primary_lang_sets, subset_size=\"count\", show_counts=True, sort_by='cardinality', sort_categories_by='-cardinality').plot()\n",
    "\n",
    "pyplot.savefig(f'{chart_dir}/primary_language_upsetplot.pdf')\n",
    "\n",
    "pyplot.savefig(f'{chart_dir}/language_upsetplot.pdf')\n",
    "pyplot.show(upset_plot_primary)"
   ]
  },
  {
   "cell_type": "markdown",
   "metadata": {
    "id": "WQLkJS20KzVa"
   },
   "source": [
    "## Dates and Calendars"
   ]
  },
  {
   "cell_type": "code",
   "execution_count": null,
   "metadata": {
    "colab": {
     "base_uri": "https://localhost:8080/",
     "height": 424
    },
    "id": "VkD3s8JIK1Ku",
    "outputId": "d1fd57ee-fd65-4801-b400-012078b9867a"
   },
   "outputs": [],
   "source": [
    "# limit to documents with standard date OR inferred date information\n",
    "dated_docs = documents[documents.doc_date_standard.notna() | documents.inferred_date_standard.notna()].copy()\n",
    "dated_docs[['doc_date_standard', 'doc_date_original', 'doc_date_calendar', 'inferred_date_standard']]"
   ]
  },
  {
   "cell_type": "code",
   "execution_count": null,
   "metadata": {
    "colab": {
     "base_uri": "https://localhost:8080/",
     "height": 424
    },
    "id": "R6O8onGrMAWe",
    "outputId": "c783de3f-e45b-4575-9807-88f9980dd268"
   },
   "outputs": [],
   "source": [
    "# collect dates into a single field\n",
    "dated_docs['date'] = dated_docs.apply(lambda x: x.doc_date_standard.strip() if pd.notna(x.doc_date_standard) else x.inferred_date_standard.strip(), axis=1)\n",
    "dated_docs[['doc_date_standard', 'doc_date_original', 'doc_date_calendar', 'inferred_date_standard', 'date']]"
   ]
  },
  {
   "cell_type": "code",
   "execution_count": null,
   "metadata": {
    "colab": {
     "base_uri": "https://localhost:8080/"
    },
    "id": "RCsNAFvLf7EZ",
    "outputId": "da7d5c30-bcb3-432d-ec7c-14a2500adadb"
   },
   "outputs": [],
   "source": [
    "# get totals for including in the paper\n",
    "\n",
    "total_docs_anydate = dated_docs[dated_docs.date.notna()].shape[0]\n",
    "total_date_on_doc = dated_docs[dated_docs.doc_date_standard.notna()].shape[0]\n",
    "# inferred date only (don't recount date on doc)\n",
    "total_inferred_date = dated_docs[dated_docs.doc_date_standard.isna() & dated_docs.inferred_date_standard.notna()].shape[0]\n",
    "essay_numbers.update({\n",
    "    'totalDatedDocs': f\"{total_docs_anydate:,}\",\n",
    "    'totalDateOnDoc': f\"{total_date_on_doc:,}\",\n",
    "    'totalInferredDate': f\"{total_inferred_date:,}\"\n",
    "})\n",
    "essay_numbers"
   ]
  },
  {
   "cell_type": "code",
   "execution_count": null,
   "metadata": {
    "colab": {
     "base_uri": "https://localhost:8080/",
     "height": 81
    },
    "id": "g3MIKLJ1Pjp-",
    "outputId": "987c2c8e-933e-46cd-d82f-8a3132618cfe"
   },
   "outputs": [],
   "source": [
    "dated_docs[dated_docs.date.str.contains(\"1217-02-29\")][['doc_date_standard', 'doc_date_original', 'doc_date_calendar', 'inferred_date_standard', 'date']]"
   ]
  },
  {
   "cell_type": "code",
   "execution_count": null,
   "metadata": {
    "colab": {
     "base_uri": "https://localhost:8080/",
     "height": 81
    },
    "id": "G3ZyqRivQWVd",
    "outputId": "0a6e9bf4-31d0-4215-cdba-35db689dbbbb"
   },
   "outputs": [],
   "source": [
    "dated_docs[dated_docs.date.str.contains(\"1139/\")][['pgpid', 'doc_date_standard', 'doc_date_original', 'doc_date_calendar', 'inferred_date_standard', 'date']]"
   ]
  },
  {
   "cell_type": "code",
   "execution_count": null,
   "metadata": {
    "colab": {
     "base_uri": "https://localhost:8080/",
     "height": 626
    },
    "id": "E8m_cISsMbWY",
    "outputId": "91c9c883-dd84-48a7-abee-e070b90bf9cd"
   },
   "outputs": [],
   "source": [
    "# parse with undate\n",
    "from undate import Undate, UndateInterval\n",
    "from lark.exceptions import VisitError\n",
    "\n",
    "def parse_date(datestr):\n",
    "  # potentially multiple values\n",
    "  if ';' in datestr:\n",
    "    print(f\"multiple inferred dates: {datestr}\")\n",
    "    all_dates = [parse_date(d) for d in datestr.split(';')]\n",
    "    for d in all_dates:\n",
    "      print(f\"{d}: {d.duration().days} days\")\n",
    "    # earliest = min(all_dates)\n",
    "    # latest = max(all_dates)\n",
    "    try:\n",
    "      earliest = min([d.earliest for d in all_dates])\n",
    "      latest = max([d.latest for d in all_dates])\n",
    "      print(f\"all dates: {all_dates} earliest {earliest} latest {latest}\")\n",
    "  #    range = UndateInterval(Undate.to_undate(earliest), Undate.to_undate(latest))\n",
    "    # can we just cheat and use first/last\n",
    "      range = UndateInterval(Undate(earliest.year, earliest.month, earliest.day), Undate(latest.year, latest.month, latest.day))\n",
    "      print(f'range {range}')\n",
    "      return range\n",
    "    except:\n",
    "      print(\"error sorting to determine outer interval\")\n",
    "  else:\n",
    "    try:\n",
    "      return Undate.parse(datestr.strip(), \"EDTF\")\n",
    "    except (ValueError, VisitError) as err:\n",
    "      # special cases\n",
    "      if datestr.endswith(\"-02-29\"):\n",
    "        print(f\"parse error on {datestr}, parsing as --02-28\")\n",
    "        return parse_date(datestr.replace(\"-02-29\", \"-02-28\"))\n",
    "      if \"/\" in datestr:\n",
    "        parts = datestr.split(\"/\")\n",
    "        # data entry error: 1139/1139 ; corrected in db, but use first for now\n",
    "        if parts[0] == parts[1]:\n",
    "          return parse_date(parts[0])\n",
    "      print(err)\n",
    "\n",
    "dated_docs['undate'] = dated_docs.date.apply(parse_date) # lambda x: Undate.parse(x, 'EDTF'))\n",
    "dated_docs[['doc_date_standard', 'doc_date_original', 'doc_date_calendar', 'inferred_date_standard', 'date', 'undate']].head(10)"
   ]
  },
  {
   "cell_type": "code",
   "execution_count": null,
   "metadata": {
    "colab": {
     "base_uri": "https://localhost:8080/",
     "height": 617
    },
    "id": "1fVdg_KCUV_f",
    "outputId": "993bce18-5c22-4a15-d285-c0e2c647f56e"
   },
   "outputs": [],
   "source": [
    "import numpy as np\n",
    "\n",
    "def undate_earliest(und):\n",
    "  if isinstance(und, UndateInterval):\n",
    "    return und.earliest.earliest\n",
    "  elif isinstance(und, Undate):\n",
    "    return und.earliest\n",
    "\n",
    "def undate_latest(und):\n",
    "  if isinstance(und, UndateInterval):\n",
    "    return und.latest.earliest\n",
    "  elif isinstance(und, Undate):\n",
    "    return und.latest\n",
    "\n",
    "\n",
    "# get earliest, latest, midpoint, and convert to numpy datetime for graphing\n",
    "dated_docs['undate_earliest'] = dated_docs.undate.apply(undate_earliest).astype('datetime64[ms]')\n",
    "dated_docs['undate_latest'] = dated_docs.undate.apply(undate_latest).astype('datetime64[ms]')\n",
    "dated_docs['undate_midpoint'] = dated_docs.apply(lambda row: (row.undate_earliest + (row.undate_latest - row.undate_earliest) / 2.0) if pd.notna(row.undate) else None, axis=1).astype('datetime64[ms]')\n",
    "dated_docs['date_source'] = dated_docs.apply(lambda row: \"On document\" if pd.notna(row.doc_date_standard) else \"Inferred\", axis=1)\n",
    "\n",
    "\n",
    "dated_docs[['doc_date_standard', 'doc_date_original', 'doc_date_calendar', 'inferred_date_standard', 'date', 'undate', 'undate_earliest', 'undate_latest', 'undate_midpoint', 'date_source']].head(10)"
   ]
  },
  {
   "cell_type": "code",
   "execution_count": null,
   "metadata": {
    "colab": {
     "base_uri": "https://localhost:8080/",
     "height": 244
    },
    "id": "cH2AH_zWU3fS",
    "outputId": "c55d3464-fc27-4279-8216-50420b137796"
   },
   "outputs": [],
   "source": [
    "bar_chart = alt.Chart(dated_docs[['pgpid', 'undate_earliest', 'undate_latest', 'date_source']].sort_values('date_source')).mark_bar(opacity=0.15).encode(\n",
    "    x=alt.X('undate_earliest', title=\"Year\"), #, axis=alt.Axis(format=\"r\")),\n",
    "    x2='undate_latest',\n",
    "    y=alt.Y('count(pgpid)', title='Documents'),\n",
    "    color=alt.Color(\"date_source\", title=\"Dating\").scale(domain=['On document', 'Inferred']),\n",
    ").properties(width=900, height=175)\n",
    "\n",
    "line_chart = alt.Chart(dated_docs[['pgpid', 'undate_midpoint']]).mark_line(opacity=0.6, color=\"green\", interpolate=\"monotone\").encode(\n",
    " x=alt.X('undate_midpoint:T', title=\"Year\"), # axis=alt.Axis(format=\"r\")),\n",
    " y=alt.Y('count(pgpid)', title='Documents')\n",
    ").properties(width=900, height=175)\n",
    "\n",
    "\n",
    "combined_dating_chart = (line_chart + bar_chart).configure_legend(\n",
    "    strokeColor='gray',\n",
    "    fillColor='white', #EEEEEE',\n",
    "    padding=10,\n",
    "    cornerRadius=5,\n",
    "    orient='top-left'\n",
    ")\n",
    "\n",
    "combined_dating_chart.save(f'{chart_dir}/combined_dating.pdf')\n",
    "combined_dating_chart"
   ]
  },
  {
   "cell_type": "code",
   "execution_count": null,
   "metadata": {
    "colab": {
     "base_uri": "https://localhost:8080/",
     "height": 264
    },
    "id": "EUuqrY_aZeRG",
    "outputId": "6b73f026-ef0c-4be2-f84d-be8803f87456"
   },
   "outputs": [],
   "source": [
    "# graph documents with calendars\n",
    "\n",
    "date_docs_cal = dated_docs[dated_docs.doc_date_standard.notna()]\n",
    "\n",
    "dated_docs_cal = date_docs_cal.fillna({'doc_date_calendar': 'Unspecified'})\n",
    "dated_docs_cal['midpoint_year'] = dated_docs_cal.undate_midpoint.apply(lambda x: x.year)\n",
    "\n",
    "docs_calendars_charts = alt.Chart(dated_docs_cal[['pgpid', 'midpoint_year', 'doc_date_calendar']]).mark_area(opacity=0.7).encode(\n",
    "  x=alt.X('midpoint_year', title=\"CE Year (Julian/Gregorian)\", bin=alt.Bin(maxbins=120), axis=alt.Axis(format=\"r\")),\n",
    "  y=alt.Y('count(pgpid)', title='Documents'),\n",
    "  color=alt.Y(\"doc_date_calendar\", title=\"Calendar\")\n",
    ").properties(width=900, height=200,\n",
    "            #  title={\n",
    "            #      \"text\": \"Documents by date and original calendar\",\n",
    "            #    \"subtitle\": \"(Graphed based on date midpoint for uncertain dates and date ranges)\"\n",
    "            #  }\n",
    "             ).configure_legend(\n",
    "    strokeColor='gray',\n",
    "    fillColor='white', #EEEEEE',\n",
    "    padding=10,\n",
    "    cornerRadius=5,\n",
    "    orient='top-left'\n",
    ")\n",
    "\n",
    "docs_calendars_charts.save(f\"{chart_dir}/dated_docs_by_cal.pdf\")\n",
    "docs_calendars_charts"
   ]
  },
  {
   "cell_type": "markdown",
   "metadata": {
    "id": "N58kFKbdXIv2"
   },
   "source": [
    "## Scholarship records"
   ]
  },
  {
   "cell_type": "code",
   "execution_count": null,
   "metadata": {
    "colab": {
     "base_uri": "https://localhost:8080/",
     "height": 293
    },
    "id": "KkTyrBWjXK9Z",
    "outputId": "e6ff5e80-69dc-4269-d8dc-409d9d0ad935"
   },
   "outputs": [],
   "source": [
    "sources = pd.read_csv(pgp_csvs[\"sources\"])\n",
    "sources.head()"
   ]
  },
  {
   "cell_type": "code",
   "execution_count": null,
   "metadata": {
    "colab": {
     "base_uri": "https://localhost:8080/"
    },
    "id": "ORkPYRFwXpII",
    "outputId": "7d7479fb-c1b2-432a-810f-8f755079eb10"
   },
   "outputs": [],
   "source": [
    "print(f\"{sources.shape[0]:,} sources\")"
   ]
  },
  {
   "cell_type": "code",
   "execution_count": null,
   "metadata": {
    "colab": {
     "base_uri": "https://localhost:8080/",
     "height": 238
    },
    "id": "AD8SaZN5XuW3",
    "outputId": "ebe7c3a8-cd4d-4c49-a1f8-2291dd20cbf5"
   },
   "outputs": [],
   "source": [
    "sources.source_type.value_counts().reset_index()"
   ]
  },
  {
   "cell_type": "code",
   "execution_count": null,
   "metadata": {
    "colab": {
     "base_uri": "https://localhost:8080/",
     "height": 238
    },
    "id": "T4r4MwVkp0cS",
    "outputId": "53e093a6-470d-4877-b051-9bfe5614c090"
   },
   "outputs": [],
   "source": [
    "source_totals = sources.groupby('source_type').agg(\n",
    "    count=pd.NamedAgg(column=\"source_type\", aggfunc=\"count\"),\n",
    "    num_footnotes=pd.NamedAgg(column='num_footnotes', aggfunc='sum')\n",
    "    ).reset_index()\n",
    "source_totals = source_totals.sort_values('count', ascending=False)\n",
    "source_totals = source_totals.rename(columns={\"source_type\": \"Type\", \"count\": \"Sources\", \"num_footnotes\": \"Footnotes\"})\n",
    "source_totals"
   ]
  },
  {
   "cell_type": "code",
   "execution_count": null,
   "metadata": {
    "colab": {
     "base_uri": "https://localhost:8080/"
    },
    "id": "1Ipj2AXnqqt9",
    "outputId": "209c7716-3efc-4d51-a2f4-03cfff216b30"
   },
   "outputs": [],
   "source": [
    "print(source_totals.to_latex(index=False))"
   ]
  },
  {
   "cell_type": "code",
   "execution_count": null,
   "metadata": {
    "colab": {
     "base_uri": "https://localhost:8080/",
     "height": 424
    },
    "id": "i_dlmr9hX2f9",
    "outputId": "cb6ee93a-da4d-42ef-adb5-cc3f1437938b"
   },
   "outputs": [],
   "source": [
    "# how many documents do sources relate to?\n",
    "# goitein sources - split out into volumes to wrangle the scale\n",
    "# what does it look like if we leave Goitein out?\n",
    "\n",
    "sources.num_footnotes.value_counts().reset_index().sort_values(\"num_footnotes\").head(10)"
   ]
  },
  {
   "cell_type": "code",
   "execution_count": null,
   "metadata": {
    "colab": {
     "base_uri": "https://localhost:8080/",
     "height": 424
    },
    "id": "hz81r98vZwXt",
    "outputId": "ab1169ee-88b3-434a-d9c9-aa4738e5f038"
   },
   "outputs": [],
   "source": [
    "source_authors = sources.copy()\n",
    "source_authors[\"author_list\"] = sources.authors.apply(lambda x : x.split(';') if pd.notna(x) else None)\n",
    "source_authors.head()\n",
    "source_authors = source_authors[['source_type', 'title', 'author_list']].explode(\"author_list\").rename(columns={\"author_list\": \"author\"})\n",
    "# filter out unset authors\n",
    "source_authors = source_authors[source_authors.author.notna()]\n",
    "\n",
    "source_authors[\"author\"] = source_authors.author.apply(lambda x: x.strip())\n",
    "source_authors.head(10)"
   ]
  },
  {
   "cell_type": "code",
   "execution_count": null,
   "metadata": {
    "colab": {
     "base_uri": "https://localhost:8080/"
    },
    "id": "yQ-EotIAayX-",
    "outputId": "6ac1a880-9e6d-4f5d-fde1-6e32f014c13c"
   },
   "outputs": [],
   "source": [
    "print(f\"{len(source_authors.author.unique()):,} unique authors\")"
   ]
  },
  {
   "cell_type": "code",
   "execution_count": null,
   "metadata": {
    "colab": {
     "base_uri": "https://localhost:8080/",
     "height": 492
    },
    "id": "N2eZFl87bDKV",
    "outputId": "c74555a9-9d4e-4c8f-9f34-8ea5317022c7"
   },
   "outputs": [],
   "source": [
    "source_authors.author.value_counts().head(12)"
   ]
  },
  {
   "cell_type": "markdown",
   "metadata": {
    "id": "ebSNeMz83f19"
   },
   "source": [
    "## Rate of change"
   ]
  },
  {
   "cell_type": "markdown",
   "metadata": {
    "id": "RhFej6WVeXa1"
   },
   "source": [
    "### Last modified?\n",
    "\n"
   ]
  },
  {
   "cell_type": "code",
   "execution_count": null,
   "metadata": {
    "id": "1M19m8wFeeI7"
   },
   "outputs": [],
   "source": [
    "# parse initial entry as date time\n",
    "documents['last_modified'] = pd.to_datetime(documents['last_modified'], format='ISO8601')"
   ]
  },
  {
   "cell_type": "code",
   "execution_count": null,
   "metadata": {
    "colab": {
     "base_uri": "https://localhost:8080/",
     "height": 424
    },
    "id": "ZNHnj9xLfMqb",
    "outputId": "321bf5ee-9b80-4e2d-bdd0-3b4e917054ed"
   },
   "outputs": [],
   "source": [
    "docs_modified = documents.groupby(pd.Grouper(key=\"last_modified\", freq=\"W-MON\"))[['pgpid']].count().reset_index().rename(columns={'pgpid': 'total'})\n",
    "docs_modified.head()"
   ]
  },
  {
   "cell_type": "code",
   "execution_count": null,
   "metadata": {
    "colab": {
     "base_uri": "https://localhost:8080/",
     "height": 269
    },
    "id": "uRP4YgTUfFIJ",
    "outputId": "0a102332-5033-4b08-cd31-6a76a0005059"
   },
   "outputs": [],
   "source": [
    "# TODO rename total/cumulative total so they make sense here\n",
    "docs_modified_chart = alt.Chart(docs_modified).mark_area().encode(\n",
    "    y=alt.Y('total', title=\"Documents\").scale(domain=[0, 800], clamp=True),\n",
    "    x=alt.X('last_modified', title=\"Last Modified\", axis=alt.Axis(format=\"%Y\", tickCount=\"year\")),\n",
    "    # color=alt.Color(\"status\", title=\"\").scale(scheme=\"tableau20\"),\n",
    ").properties(\n",
    "    width=900,\n",
    "    height=200\n",
    ")\n",
    "\n",
    "docs_modified_chart.save(f'{chart_dir}/docs_last_modified.pdf')\n",
    "docs_modified_chart"
   ]
  },
  {
   "cell_type": "markdown",
   "metadata": {
    "id": "UTI8LeQxhSME"
   },
   "source": [
    "### Stats from GitHub versions\n",
    "\n",
    "PGP metadata is backed up to a GitHub repository. We can use the repository history to assess the rate of change.\n"
   ]
  },
  {
   "cell_type": "code",
   "execution_count": null,
   "metadata": {
    "colab": {
     "base_uri": "https://localhost:8080/",
     "height": 206
    },
    "id": "yWjvp_2ghRsU",
    "outputId": "046b32f2-6d47-4a71-d073-95d99eaff0de"
   },
   "outputs": [],
   "source": [
    "dataset_stats = pd.read_csv(\"../dataset-history/pgp-dataset-history.csv\")\n",
    "\n",
    "dataset_stats.head()"
   ]
  },
  {
   "cell_type": "code",
   "execution_count": null,
   "metadata": {
    "colab": {
     "base_uri": "https://localhost:8080/",
     "height": 269
    },
    "id": "P4uiq74Nhge9",
    "outputId": "3a5a8718-aae0-47f9-eac5-ecd475cdd838"
   },
   "outputs": [],
   "source": [
    "doc_frag_totals = dataset_stats[dataset_stats.type.isin(['documents', 'fragments', 'fragment_images'])]\n",
    "\n",
    "totals_by_time = alt.Chart(doc_frag_totals).mark_line().encode(\n",
    "    y=alt.Y('count', title=\"Total\").scale(domain=[15000, 40000]),\n",
    "    x=alt.X('date:T', title=\"Date\", axis=alt.Axis(format=\"%Y\", tickCount=\"year\")),\n",
    "    color=alt.Color(\"type\", title=\"\").scale(scheme=\"tableau10\"),\n",
    ").properties(\n",
    "    width=900,\n",
    "    height=200\n",
    "# can't configure here if we want to combine\n",
    "# ).configure_legend(\n",
    "#     strokeColor='gray',\n",
    "#     fillColor='white', #EEEEEE',\n",
    "#     padding=15,\n",
    "#     cornerRadius=5,\n",
    "#     # orient='top-left',\n",
    "#     orient='none',\n",
    "#     legendX=20, legendY=80,\n",
    ")\n",
    "totals_by_time"
   ]
  },
  {
   "cell_type": "code",
   "execution_count": null,
   "metadata": {
    "colab": {
     "base_uri": "https://localhost:8080/",
     "height": 239
    },
    "id": "uKtSVLmYiL3c",
    "outputId": "5f1b314c-1244-4889-e1db-fec199e800c8"
   },
   "outputs": [],
   "source": [
    "text_totals = dataset_stats[dataset_stats.type.isin(['transcriptions', 'translations'])]\n",
    "\n",
    "text_totals_by_time = alt.Chart(text_totals).mark_line().encode(\n",
    "    y=alt.Y('count', title=\"Total\"),\n",
    "    x=alt.X('date:T', title=\"Date\", axis=alt.Axis(format=\"%Y\", tickCount=\"year\")),\n",
    "    color=alt.Color(\"type\", title=\"\") # .scale(scheme=\"tableau10\", reverse=True),\n",
    ").properties(\n",
    "    width=900,\n",
    "    height=170\n",
    ")\n",
    "# .configure_legend(\n",
    "#     strokeColor='gray',\n",
    "#     fillColor='white', #EEEEEE',\n",
    "#     padding=15,\n",
    "#     cornerRadius=5,\n",
    "#     # orient='top-left',\n",
    "#     orient='none',\n",
    "#     legendX=20, legendY=80,\n",
    "# )\n",
    "text_totals_by_time"
   ]
  },
  {
   "cell_type": "code",
   "execution_count": null,
   "metadata": {
    "colab": {
     "base_uri": "https://localhost:8080/",
     "height": 500
    },
    "id": "0h2EDTaMjgrc",
    "outputId": "baa3105f-1993-4fba-e7fb-6729a5e851eb"
   },
   "outputs": [],
   "source": [
    "combined_totals = (totals_by_time & text_totals_by_time).configure_legend(\n",
    "    strokeColor='gray',\n",
    "    fillColor='white', #EEEEEE',\n",
    "    padding=15,\n",
    "    cornerRadius=5,\n",
    "    # orient='top-left',\n",
    "    orient='none',\n",
    "    legendX=750, legendY=50,\n",
    ")\n",
    "\n",
    "combined_totals.save(f'{chart_dir}/combined_totals_historic.pdf')\n",
    "combined_totals"
   ]
  },
  {
   "cell_type": "markdown",
   "metadata": {
    "id": "KgHS3-dzhSpf"
   },
   "source": [
    "## Output numbers for use in dataset essay"
   ]
  },
  {
   "cell_type": "code",
   "execution_count": null,
   "metadata": {
    "id": "AJF_G6KJhXmU"
   },
   "outputs": [],
   "source": [
    "essay_numbers"
   ]
  },
  {
   "cell_type": "code",
   "execution_count": null,
   "metadata": {
    "id": "dDvZ893lhVTX"
   },
   "outputs": [],
   "source": [
    "# output numbers for the essay as LaTeX defines so they can be referenced in-text\n",
    "print('%% numbers from data')\n",
    "for name, value in essay_numbers.items():\n",
    "  # ... or don't [add a space since latex seems to swallow the following space in paragraph text]\n",
    "  # escape special chars in the output\n",
    "  print(r\"\\def\\%s{%s}\" % (name, str(value).replace('%', '\\%')))"
   ]
  }
 ],
 "metadata": {
  "colab": {
   "provenance": []
  },
  "kernelspec": {
   "display_name": "Python 3 (ipykernel)",
   "language": "python",
   "name": "python3"
  },
  "language_info": {
   "codemirror_mode": {
    "name": "ipython",
    "version": 3
   },
   "file_extension": ".py",
   "mimetype": "text/x-python",
   "name": "python",
   "nbconvert_exporter": "python",
   "pygments_lexer": "ipython3",
   "version": "3.12.7"
  }
 },
 "nbformat": 4,
 "nbformat_minor": 4
}
